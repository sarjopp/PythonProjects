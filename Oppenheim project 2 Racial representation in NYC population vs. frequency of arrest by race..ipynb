{
 "cells": [
  {
   "cell_type": "markdown",
   "id": "1a99ff9c",
   "metadata": {},
   "source": [
    "<h1>Sara Oppenheim, PROJECT 2!</h1>"
   ]
  },
  {
   "cell_type": "markdown",
   "id": "15e6d6ba",
   "metadata": {},
   "source": [
    "<h2>My goal is to analyze NYPD arrest data to determine if citywide arrest rates reflect the racial composition of NYC as recorded in the 2021 US Census.</h2>  "
   ]
  },
  {
   "cell_type": "markdown",
   "id": "101d63fb",
   "metadata": {},
   "source": [
    "<h3>Data sources</h3>  "
   ]
  },
  {
   "cell_type": "markdown",
   "id": "f18843ee",
   "metadata": {},
   "source": [
    "**Arrest data** obtained from NYC Open Data (https://data.cityofnewyork.us/Public-Safety/NYPD-Arrest-Data-Year-to-Date-/uip8-fykc)   \n",
    "\n",
    "**Census data** for all of NYC obtained from the US Census Bureau (https://www.census.gov/quickfacts/fact/table/newyorkcitynewyork/RHI225221)   \n"
   ]
  },
  {
   "cell_type": "markdown",
   "id": "19a7c084",
   "metadata": {},
   "source": [
    "<h4>Import the packages I may need</h4>"
   ]
  },
  {
   "cell_type": "code",
   "execution_count": 6,
   "id": "305b07ab",
   "metadata": {},
   "outputs": [],
   "source": [
    "import numpy as np\n",
    "import pandas as pd\n",
    "import scipy as sc\n",
    "import sympy as sy\n",
    "import matplotlib as matplot\n",
    "import matplotlib.pyplot as plt\n",
    "import statistics as stat\n",
    "import seaborn as sns\n",
    "%matplotlib inline"
   ]
  },
  {
   "cell_type": "markdown",
   "id": "4411e239",
   "metadata": {},
   "source": [
    "<h4>Convert the arrest and census data to dataframes</h4>"
   ]
  },
  {
   "cell_type": "code",
   "execution_count": 7,
   "id": "da1cba63",
   "metadata": {},
   "outputs": [],
   "source": [
    "#Create a dataframe with the year-to-date arrest data. \n",
    "missing_values = [\"(null)\"]\n",
    "arrests=pd.read_csv(\"nyc_arrest_ytd_uip8-fykc.csv\",na_values=missing_values)"
   ]
  },
  {
   "cell_type": "code",
   "execution_count": 8,
   "id": "6f116d89",
   "metadata": {},
   "outputs": [],
   "source": [
    "#Create a dataframe with the 2021 census data for NYC. \n",
    "census=pd.read_csv(\"Census_NYC_QuickFacts.csv\")"
   ]
  },
  {
   "cell_type": "markdown",
   "id": "93fd32cd",
   "metadata": {},
   "source": [
    "<h4>Prepare the census data for use in my analysis</h4>"
   ]
  },
  {
   "cell_type": "code",
   "execution_count": 9,
   "id": "9680f829",
   "metadata": {},
   "outputs": [
    {
     "data": {
      "text/html": [
       "<div>\n",
       "<style scoped>\n",
       "    .dataframe tbody tr th:only-of-type {\n",
       "        vertical-align: middle;\n",
       "    }\n",
       "\n",
       "    .dataframe tbody tr th {\n",
       "        vertical-align: top;\n",
       "    }\n",
       "\n",
       "    .dataframe thead th {\n",
       "        text-align: right;\n",
       "    }\n",
       "</style>\n",
       "<table border=\"1\" class=\"dataframe\">\n",
       "  <thead>\n",
       "    <tr style=\"text-align: right;\">\n",
       "      <th></th>\n",
       "      <th>Fact</th>\n",
       "      <th>Fact Note</th>\n",
       "      <th>New York city, New York</th>\n",
       "      <th>Value Note for New York city, New York</th>\n",
       "    </tr>\n",
       "  </thead>\n",
       "  <tbody>\n",
       "    <tr>\n",
       "      <th>0</th>\n",
       "      <td>Population Estimates, July 1 2021, (V2021)</td>\n",
       "      <td>NaN</td>\n",
       "      <td>8,467,513</td>\n",
       "      <td>NaN</td>\n",
       "    </tr>\n",
       "    <tr>\n",
       "      <th>1</th>\n",
       "      <td>Population estimates base, April 1, 2020, (V2021)</td>\n",
       "      <td>NaN</td>\n",
       "      <td>8,804,190</td>\n",
       "      <td>NaN</td>\n",
       "    </tr>\n",
       "    <tr>\n",
       "      <th>2</th>\n",
       "      <td>Population, percent change - April 1, 2020 (es...</td>\n",
       "      <td>NaN</td>\n",
       "      <td>-3.80</td>\n",
       "      <td>NaN</td>\n",
       "    </tr>\n",
       "    <tr>\n",
       "      <th>3</th>\n",
       "      <td>Population, Census, April 1, 2020</td>\n",
       "      <td>NaN</td>\n",
       "      <td>8,804,190</td>\n",
       "      <td>NaN</td>\n",
       "    </tr>\n",
       "    <tr>\n",
       "      <th>4</th>\n",
       "      <td>Population, Census, April 1, 2010</td>\n",
       "      <td>NaN</td>\n",
       "      <td>8,175,133</td>\n",
       "      <td>NaN</td>\n",
       "    </tr>\n",
       "    <tr>\n",
       "      <th>5</th>\n",
       "      <td>Persons under 5 years, percent</td>\n",
       "      <td>NaN</td>\n",
       "      <td>6.40</td>\n",
       "      <td>NaN</td>\n",
       "    </tr>\n",
       "    <tr>\n",
       "      <th>6</th>\n",
       "      <td>Persons under 18 years, percent</td>\n",
       "      <td>NaN</td>\n",
       "      <td>20.70</td>\n",
       "      <td>NaN</td>\n",
       "    </tr>\n",
       "    <tr>\n",
       "      <th>7</th>\n",
       "      <td>Persons 65 years and over, percent</td>\n",
       "      <td>NaN</td>\n",
       "      <td>14.90</td>\n",
       "      <td>NaN</td>\n",
       "    </tr>\n",
       "    <tr>\n",
       "      <th>8</th>\n",
       "      <td>Female persons, percent</td>\n",
       "      <td>NaN</td>\n",
       "      <td>52.30</td>\n",
       "      <td>NaN</td>\n",
       "    </tr>\n",
       "    <tr>\n",
       "      <th>9</th>\n",
       "      <td>White alone, percent</td>\n",
       "      <td>NaN</td>\n",
       "      <td>41.30</td>\n",
       "      <td>NaN</td>\n",
       "    </tr>\n",
       "    <tr>\n",
       "      <th>10</th>\n",
       "      <td>Black or African American alone, percent</td>\n",
       "      <td>(a)</td>\n",
       "      <td>23.80</td>\n",
       "      <td>NaN</td>\n",
       "    </tr>\n",
       "    <tr>\n",
       "      <th>11</th>\n",
       "      <td>American Indian and Alaska Native alone, percent</td>\n",
       "      <td>(a)</td>\n",
       "      <td>0.40</td>\n",
       "      <td>NaN</td>\n",
       "    </tr>\n",
       "    <tr>\n",
       "      <th>12</th>\n",
       "      <td>Asian alone, percent</td>\n",
       "      <td>(a)</td>\n",
       "      <td>14.30</td>\n",
       "      <td>NaN</td>\n",
       "    </tr>\n",
       "    <tr>\n",
       "      <th>13</th>\n",
       "      <td>Native Hawaiian and Other Pacific Islander alo...</td>\n",
       "      <td>(a)</td>\n",
       "      <td>0.10</td>\n",
       "      <td>NaN</td>\n",
       "    </tr>\n",
       "    <tr>\n",
       "      <th>14</th>\n",
       "      <td>Two or More Races, percent</td>\n",
       "      <td>NaN</td>\n",
       "      <td>5.60</td>\n",
       "      <td>NaN</td>\n",
       "    </tr>\n",
       "    <tr>\n",
       "      <th>15</th>\n",
       "      <td>Hispanic or Latino, percent</td>\n",
       "      <td>(b)</td>\n",
       "      <td>28.90</td>\n",
       "      <td>NaN</td>\n",
       "    </tr>\n",
       "    <tr>\n",
       "      <th>16</th>\n",
       "      <td>White alone, not Hispanic or Latino, percent</td>\n",
       "      <td>NaN</td>\n",
       "      <td>31.90</td>\n",
       "      <td>NaN</td>\n",
       "    </tr>\n",
       "    <tr>\n",
       "      <th>17</th>\n",
       "      <td>Veterans, 2016-2020</td>\n",
       "      <td>NaN</td>\n",
       "      <td>142,897</td>\n",
       "      <td>NaN</td>\n",
       "    </tr>\n",
       "    <tr>\n",
       "      <th>18</th>\n",
       "      <td>Foreign born persons, percent, 2016-2020</td>\n",
       "      <td>NaN</td>\n",
       "      <td>36.40</td>\n",
       "      <td>NaN</td>\n",
       "    </tr>\n",
       "    <tr>\n",
       "      <th>19</th>\n",
       "      <td>Housing units, July 1, 2021, (V2021)</td>\n",
       "      <td>NaN</td>\n",
       "      <td>X</td>\n",
       "      <td>NaN</td>\n",
       "    </tr>\n",
       "  </tbody>\n",
       "</table>\n",
       "</div>"
      ],
      "text/plain": [
       "                                                 Fact Fact Note  \\\n",
       "0          Population Estimates, July 1 2021, (V2021)       NaN   \n",
       "1   Population estimates base, April 1, 2020, (V2021)       NaN   \n",
       "2   Population, percent change - April 1, 2020 (es...       NaN   \n",
       "3                   Population, Census, April 1, 2020       NaN   \n",
       "4                   Population, Census, April 1, 2010       NaN   \n",
       "5                      Persons under 5 years, percent       NaN   \n",
       "6                     Persons under 18 years, percent       NaN   \n",
       "7                  Persons 65 years and over, percent       NaN   \n",
       "8                             Female persons, percent       NaN   \n",
       "9                                White alone, percent       NaN   \n",
       "10           Black or African American alone, percent       (a)   \n",
       "11   American Indian and Alaska Native alone, percent       (a)   \n",
       "12                               Asian alone, percent       (a)   \n",
       "13  Native Hawaiian and Other Pacific Islander alo...       (a)   \n",
       "14                         Two or More Races, percent       NaN   \n",
       "15                        Hispanic or Latino, percent       (b)   \n",
       "16       White alone, not Hispanic or Latino, percent       NaN   \n",
       "17                                Veterans, 2016-2020       NaN   \n",
       "18           Foreign born persons, percent, 2016-2020       NaN   \n",
       "19               Housing units, July 1, 2021, (V2021)       NaN   \n",
       "\n",
       "   New York city, New York  Value Note for New York city, New York  \n",
       "0                8,467,513                                     NaN  \n",
       "1                8,804,190                                     NaN  \n",
       "2                    -3.80                                     NaN  \n",
       "3                8,804,190                                     NaN  \n",
       "4                8,175,133                                     NaN  \n",
       "5                     6.40                                     NaN  \n",
       "6                    20.70                                     NaN  \n",
       "7                    14.90                                     NaN  \n",
       "8                    52.30                                     NaN  \n",
       "9                    41.30                                     NaN  \n",
       "10                   23.80                                     NaN  \n",
       "11                    0.40                                     NaN  \n",
       "12                   14.30                                     NaN  \n",
       "13                    0.10                                     NaN  \n",
       "14                    5.60                                     NaN  \n",
       "15                   28.90                                     NaN  \n",
       "16                   31.90                                     NaN  \n",
       "17                 142,897                                     NaN  \n",
       "18                   36.40                                     NaN  \n",
       "19                       X                                     NaN  "
      ]
     },
     "execution_count": 9,
     "metadata": {},
     "output_type": "execute_result"
    }
   ],
   "source": [
    "#Examine the census data\n",
    "census.head(20)"
   ]
  },
  {
   "cell_type": "code",
   "execution_count": 10,
   "id": "66866bfb",
   "metadata": {},
   "outputs": [
    {
     "data": {
      "text/plain": [
       "Index(['Fact', 'Fact Note', 'New York city, New York',\n",
       "       'Value Note for New York city, New York'],\n",
       "      dtype='object')"
      ]
     },
     "execution_count": 10,
     "metadata": {},
     "output_type": "execute_result"
    }
   ],
   "source": [
    "census.columns"
   ]
  },
  {
   "cell_type": "markdown",
   "id": "92e92050",
   "metadata": {},
   "source": [
    "**Only columns 1 and 3 contain useful information, I will eliminate the others.**"
   ]
  },
  {
   "cell_type": "code",
   "execution_count": 11,
   "id": "e45ceaef",
   "metadata": {},
   "outputs": [],
   "source": [
    "census = census[['Fact', 'New York city, New York']]\n"
   ]
  },
  {
   "cell_type": "markdown",
   "id": "bfa60520",
   "metadata": {},
   "source": [
    "**The column headers are uninformative so I will rename them.**"
   ]
  },
  {
   "cell_type": "code",
   "execution_count": 12,
   "id": "5f2f6dc7",
   "metadata": {},
   "outputs": [],
   "source": [
    "census.rename(columns = {'Fact':'Race','New York city, New York':'Percent of NYC population'}\n",
    "              ,inplace=True)\n"
   ]
  },
  {
   "cell_type": "markdown",
   "id": "2d3b9995",
   "metadata": {},
   "source": [
    "**Since I only have one data column, I want to eliminate any row with missing values.**"
   ]
  },
  {
   "cell_type": "code",
   "execution_count": 13,
   "id": "6bee2609",
   "metadata": {},
   "outputs": [
    {
     "data": {
      "text/html": [
       "<div>\n",
       "<style scoped>\n",
       "    .dataframe tbody tr th:only-of-type {\n",
       "        vertical-align: middle;\n",
       "    }\n",
       "\n",
       "    .dataframe tbody tr th {\n",
       "        vertical-align: top;\n",
       "    }\n",
       "\n",
       "    .dataframe thead th {\n",
       "        text-align: right;\n",
       "    }\n",
       "</style>\n",
       "<table border=\"1\" class=\"dataframe\">\n",
       "  <thead>\n",
       "    <tr style=\"text-align: right;\">\n",
       "      <th></th>\n",
       "      <th>Race</th>\n",
       "      <th>Percent of NYC population</th>\n",
       "    </tr>\n",
       "  </thead>\n",
       "  <tbody>\n",
       "    <tr>\n",
       "      <th>0</th>\n",
       "      <td>Population Estimates, July 1 2021, (V2021)</td>\n",
       "      <td>8,467,513</td>\n",
       "    </tr>\n",
       "    <tr>\n",
       "      <th>1</th>\n",
       "      <td>Population estimates base, April 1, 2020, (V2021)</td>\n",
       "      <td>8,804,190</td>\n",
       "    </tr>\n",
       "  </tbody>\n",
       "</table>\n",
       "</div>"
      ],
      "text/plain": [
       "                                                Race Percent of NYC population\n",
       "0         Population Estimates, July 1 2021, (V2021)                 8,467,513\n",
       "1  Population estimates base, April 1, 2020, (V2021)                 8,804,190"
      ]
     },
     "execution_count": 13,
     "metadata": {},
     "output_type": "execute_result"
    }
   ],
   "source": [
    "census = census.dropna()\n",
    "census.head(2)\n"
   ]
  },
  {
   "cell_type": "code",
   "execution_count": 14,
   "id": "f9c19832",
   "metadata": {},
   "outputs": [
    {
     "data": {
      "text/plain": [
       "Int64Index([ 0,  1,  2,  3,  4,  5,  6,  7,  8,  9, 10, 11, 12, 13, 14, 15, 16,\n",
       "            17, 18, 19, 20, 21, 22, 23, 24, 25, 26, 27, 28, 29, 30, 31, 32, 33,\n",
       "            34, 35, 36, 37, 38, 40, 41, 42, 43, 44, 45, 46, 47, 48, 49, 50, 51,\n",
       "            52, 53, 54, 55, 56, 57, 58, 59, 60, 61, 62, 63],\n",
       "           dtype='int64')"
      ]
     },
     "execution_count": 14,
     "metadata": {},
     "output_type": "execute_result"
    }
   ],
   "source": [
    "census.index"
   ]
  },
  {
   "cell_type": "markdown",
   "id": "06d1cd4a",
   "metadata": {},
   "source": [
    "**I'm only interested in the racial demographics, so I filter out the unwanted rows.\n",
    "For simplicity I am only going to consider the \"single race\" census categories.**"
   ]
  },
  {
   "cell_type": "code",
   "execution_count": 15,
   "id": "95720d83",
   "metadata": {},
   "outputs": [],
   "source": [
    "census = census.iloc[['10','11','12','13','15','16']]\n"
   ]
  },
  {
   "cell_type": "markdown",
   "id": "639b968f",
   "metadata": {},
   "source": [
    "**For future operations, I want the values as numbers, not objects.**"
   ]
  },
  {
   "cell_type": "code",
   "execution_count": 16,
   "id": "1f44d1e2",
   "metadata": {},
   "outputs": [
    {
     "data": {
      "text/plain": [
       "Race                          object\n",
       "Percent of NYC population    float64\n",
       "dtype: object"
      ]
     },
     "execution_count": 16,
     "metadata": {},
     "output_type": "execute_result"
    }
   ],
   "source": [
    "census.dtypes\n",
    "census = census.astype({\"Percent of NYC population\": float})\n",
    "census.dtypes"
   ]
  },
  {
   "cell_type": "markdown",
   "id": "8a0d304b",
   "metadata": {},
   "source": [
    "**I eventually want to compare census data to arrest data so I am simplifying race identifiers. I will do the same thing with the arrest data.**\n",
    "\n",
    "**This is *not okay*, but for the purposes of me being able to complete the analyses of interest I am going to merge the census data for categories \"Asian alone\" and \"Native Hawaiian and Other Pacific Islander alone\" because the arrest data only have this category: \"ASIAN / PACIFIC ISLANDER\" and I have no way of disentangling the two races. So I acknowledge that my conclusions regarding arrests vs. population for Asians and Pacific Islanders may be inaccurate.**"
   ]
  },
  {
   "cell_type": "code",
   "execution_count": 17,
   "id": "abada8dd",
   "metadata": {},
   "outputs": [
    {
     "data": {
      "text/html": [
       "<div>\n",
       "<style scoped>\n",
       "    .dataframe tbody tr th:only-of-type {\n",
       "        vertical-align: middle;\n",
       "    }\n",
       "\n",
       "    .dataframe tbody tr th {\n",
       "        vertical-align: top;\n",
       "    }\n",
       "\n",
       "    .dataframe thead th {\n",
       "        text-align: right;\n",
       "    }\n",
       "</style>\n",
       "<table border=\"1\" class=\"dataframe\">\n",
       "  <thead>\n",
       "    <tr style=\"text-align: right;\">\n",
       "      <th></th>\n",
       "      <th>Race</th>\n",
       "      <th>Percent of NYC population</th>\n",
       "    </tr>\n",
       "  </thead>\n",
       "  <tbody>\n",
       "    <tr>\n",
       "      <th>10</th>\n",
       "      <td>Black</td>\n",
       "      <td>23.8</td>\n",
       "    </tr>\n",
       "    <tr>\n",
       "      <th>11</th>\n",
       "      <td>Native American</td>\n",
       "      <td>0.4</td>\n",
       "    </tr>\n",
       "    <tr>\n",
       "      <th>12</th>\n",
       "      <td>Asian OR Pacific Islander</td>\n",
       "      <td>14.3</td>\n",
       "    </tr>\n",
       "    <tr>\n",
       "      <th>13</th>\n",
       "      <td>Asian OR Pacific Islander</td>\n",
       "      <td>0.1</td>\n",
       "    </tr>\n",
       "    <tr>\n",
       "      <th>15</th>\n",
       "      <td>Hispanic</td>\n",
       "      <td>28.9</td>\n",
       "    </tr>\n",
       "  </tbody>\n",
       "</table>\n",
       "</div>"
      ],
      "text/plain": [
       "                         Race  Percent of NYC population\n",
       "10                      Black                       23.8\n",
       "11            Native American                        0.4\n",
       "12  Asian OR Pacific Islander                       14.3\n",
       "13  Asian OR Pacific Islander                        0.1\n",
       "15                   Hispanic                       28.9"
      ]
     },
     "execution_count": 17,
     "metadata": {},
     "output_type": "execute_result"
    }
   ],
   "source": [
    "census['Race'].replace(['White alone, not Hispanic or Latino, percent','White alone, percent','Black or African American alone, percent','American Indian and Alaska Native alone, percent','Asian alone, percent','Native Hawaiian and Other Pacific Islander alone, percent','Hispanic or Latino, percent'],['White','White','Black','Native American','Asian OR Pacific Islander','Asian OR Pacific Islander','Hispanic'],inplace=True)\n",
    "census.columns\n",
    "census.head()\n"
   ]
  },
  {
   "cell_type": "markdown",
   "id": "e755c937",
   "metadata": {},
   "source": [
    "**OK, now I'm happy with the census data. On to the arrest data!**"
   ]
  },
  {
   "cell_type": "code",
   "execution_count": 18,
   "id": "a4d29c2e",
   "metadata": {},
   "outputs": [
    {
     "data": {
      "text/html": [
       "<div>\n",
       "<style scoped>\n",
       "    .dataframe tbody tr th:only-of-type {\n",
       "        vertical-align: middle;\n",
       "    }\n",
       "\n",
       "    .dataframe tbody tr th {\n",
       "        vertical-align: top;\n",
       "    }\n",
       "\n",
       "    .dataframe thead th {\n",
       "        text-align: right;\n",
       "    }\n",
       "</style>\n",
       "<table border=\"1\" class=\"dataframe\">\n",
       "  <thead>\n",
       "    <tr style=\"text-align: right;\">\n",
       "      <th></th>\n",
       "      <th>arrest_key</th>\n",
       "      <th>arrest_date</th>\n",
       "      <th>pd_cd</th>\n",
       "      <th>pd_desc</th>\n",
       "      <th>ky_cd</th>\n",
       "      <th>ofns_desc</th>\n",
       "      <th>law_code</th>\n",
       "      <th>law_cat_cd</th>\n",
       "      <th>arrest_boro</th>\n",
       "      <th>arrest_precinct</th>\n",
       "      <th>jurisdiction_code</th>\n",
       "      <th>age_group</th>\n",
       "      <th>perp_sex</th>\n",
       "      <th>perp_race</th>\n",
       "      <th>x_coord_cd</th>\n",
       "      <th>y_coord_cd</th>\n",
       "      <th>latitude</th>\n",
       "      <th>longitude</th>\n",
       "      <th>geocoded_column</th>\n",
       "    </tr>\n",
       "  </thead>\n",
       "  <tbody>\n",
       "    <tr>\n",
       "      <th>0</th>\n",
       "      <td>238552639</td>\n",
       "      <td>2022-01-03T00:00:00.000</td>\n",
       "      <td>205.0</td>\n",
       "      <td>TRESPASS 2, CRIMINAL</td>\n",
       "      <td>352.0</td>\n",
       "      <td>CRIMINAL TRESPASS</td>\n",
       "      <td>PL 1401501</td>\n",
       "      <td>M</td>\n",
       "      <td>K</td>\n",
       "      <td>75</td>\n",
       "      <td>0</td>\n",
       "      <td>18-24</td>\n",
       "      <td>M</td>\n",
       "      <td>BLACK</td>\n",
       "      <td>1015028</td>\n",
       "      <td>185895</td>\n",
       "      <td>40.676863</td>\n",
       "      <td>-73.889037</td>\n",
       "      <td>POINT (-73.889037 40.676863)</td>\n",
       "    </tr>\n",
       "    <tr>\n",
       "      <th>1</th>\n",
       "      <td>238682242</td>\n",
       "      <td>2022-01-05T00:00:00.000</td>\n",
       "      <td>397.0</td>\n",
       "      <td>ROBBERY,OPEN AREA UNCLASSIFIED</td>\n",
       "      <td>105.0</td>\n",
       "      <td>ROBBERY</td>\n",
       "      <td>PL 160050H</td>\n",
       "      <td>F</td>\n",
       "      <td>K</td>\n",
       "      <td>75</td>\n",
       "      <td>0</td>\n",
       "      <td>25-44</td>\n",
       "      <td>M</td>\n",
       "      <td>BLACK</td>\n",
       "      <td>1017119</td>\n",
       "      <td>183909</td>\n",
       "      <td>40.671404</td>\n",
       "      <td>-73.881509</td>\n",
       "      <td>POINT (-73.881509 40.671404)</td>\n",
       "    </tr>\n",
       "    <tr>\n",
       "      <th>2</th>\n",
       "      <td>238723993</td>\n",
       "      <td>2022-01-06T00:00:00.000</td>\n",
       "      <td>153.0</td>\n",
       "      <td>RAPE 3</td>\n",
       "      <td>104.0</td>\n",
       "      <td>RAPE</td>\n",
       "      <td>PL 1302503</td>\n",
       "      <td>F</td>\n",
       "      <td>K</td>\n",
       "      <td>77</td>\n",
       "      <td>0</td>\n",
       "      <td>25-44</td>\n",
       "      <td>M</td>\n",
       "      <td>WHITE</td>\n",
       "      <td>1003509</td>\n",
       "      <td>185018</td>\n",
       "      <td>40.674496</td>\n",
       "      <td>-73.930571</td>\n",
       "      <td>POINT (-73.9305713255961 40.6744956865259)</td>\n",
       "    </tr>\n",
       "    <tr>\n",
       "      <th>3</th>\n",
       "      <td>238821533</td>\n",
       "      <td>2022-01-08T00:00:00.000</td>\n",
       "      <td>NaN</td>\n",
       "      <td>NaN</td>\n",
       "      <td>NaN</td>\n",
       "      <td>NaN</td>\n",
       "      <td>CPL5700600</td>\n",
       "      <td>9</td>\n",
       "      <td>Q</td>\n",
       "      <td>113</td>\n",
       "      <td>3</td>\n",
       "      <td>45-64</td>\n",
       "      <td>M</td>\n",
       "      <td>WHITE HISPANIC</td>\n",
       "      <td>1046367</td>\n",
       "      <td>186986</td>\n",
       "      <td>40.679701</td>\n",
       "      <td>-73.776047</td>\n",
       "      <td>POINT (-73.77604735 40.67970059)</td>\n",
       "    </tr>\n",
       "    <tr>\n",
       "      <th>4</th>\n",
       "      <td>239029586</td>\n",
       "      <td>2022-01-12T00:00:00.000</td>\n",
       "      <td>NaN</td>\n",
       "      <td>NaN</td>\n",
       "      <td>NaN</td>\n",
       "      <td>NaN</td>\n",
       "      <td>CPL5700600</td>\n",
       "      <td>9</td>\n",
       "      <td>Q</td>\n",
       "      <td>113</td>\n",
       "      <td>3</td>\n",
       "      <td>25-44</td>\n",
       "      <td>M</td>\n",
       "      <td>WHITE HISPANIC</td>\n",
       "      <td>1046367</td>\n",
       "      <td>186986</td>\n",
       "      <td>40.679701</td>\n",
       "      <td>-73.776047</td>\n",
       "      <td>POINT (-73.77604735 40.67970059)</td>\n",
       "    </tr>\n",
       "  </tbody>\n",
       "</table>\n",
       "</div>"
      ],
      "text/plain": [
       "   arrest_key              arrest_date  pd_cd                         pd_desc  \\\n",
       "0   238552639  2022-01-03T00:00:00.000  205.0            TRESPASS 2, CRIMINAL   \n",
       "1   238682242  2022-01-05T00:00:00.000  397.0  ROBBERY,OPEN AREA UNCLASSIFIED   \n",
       "2   238723993  2022-01-06T00:00:00.000  153.0                          RAPE 3   \n",
       "3   238821533  2022-01-08T00:00:00.000    NaN                             NaN   \n",
       "4   239029586  2022-01-12T00:00:00.000    NaN                             NaN   \n",
       "\n",
       "   ky_cd          ofns_desc    law_code law_cat_cd arrest_boro  \\\n",
       "0  352.0  CRIMINAL TRESPASS  PL 1401501          M           K   \n",
       "1  105.0            ROBBERY  PL 160050H          F           K   \n",
       "2  104.0               RAPE  PL 1302503          F           K   \n",
       "3    NaN                NaN  CPL5700600          9           Q   \n",
       "4    NaN                NaN  CPL5700600          9           Q   \n",
       "\n",
       "   arrest_precinct  jurisdiction_code age_group perp_sex       perp_race  \\\n",
       "0               75                  0     18-24        M           BLACK   \n",
       "1               75                  0     25-44        M           BLACK   \n",
       "2               77                  0     25-44        M           WHITE   \n",
       "3              113                  3     45-64        M  WHITE HISPANIC   \n",
       "4              113                  3     25-44        M  WHITE HISPANIC   \n",
       "\n",
       "   x_coord_cd  y_coord_cd   latitude  longitude  \\\n",
       "0     1015028      185895  40.676863 -73.889037   \n",
       "1     1017119      183909  40.671404 -73.881509   \n",
       "2     1003509      185018  40.674496 -73.930571   \n",
       "3     1046367      186986  40.679701 -73.776047   \n",
       "4     1046367      186986  40.679701 -73.776047   \n",
       "\n",
       "                              geocoded_column  \n",
       "0                POINT (-73.889037 40.676863)  \n",
       "1                POINT (-73.881509 40.671404)  \n",
       "2  POINT (-73.9305713255961 40.6744956865259)  \n",
       "3            POINT (-73.77604735 40.67970059)  \n",
       "4            POINT (-73.77604735 40.67970059)  "
      ]
     },
     "execution_count": 18,
     "metadata": {},
     "output_type": "execute_result"
    }
   ],
   "source": [
    "#Examine the arrest data\n",
    "arrests.head()"
   ]
  },
  {
   "cell_type": "code",
   "execution_count": 19,
   "id": "1bb044f1",
   "metadata": {},
   "outputs": [
    {
     "data": {
      "text/plain": [
       "arrest_key             int64\n",
       "arrest_date           object\n",
       "pd_cd                float64\n",
       "pd_desc               object\n",
       "ky_cd                float64\n",
       "ofns_desc             object\n",
       "law_code              object\n",
       "law_cat_cd            object\n",
       "arrest_boro           object\n",
       "arrest_precinct        int64\n",
       "jurisdiction_code      int64\n",
       "age_group             object\n",
       "perp_sex              object\n",
       "perp_race             object\n",
       "x_coord_cd             int64\n",
       "y_coord_cd             int64\n",
       "latitude             float64\n",
       "longitude            float64\n",
       "geocoded_column       object\n",
       "dtype: object"
      ]
     },
     "execution_count": 19,
     "metadata": {},
     "output_type": "execute_result"
    }
   ],
   "source": [
    "arrests.dtypes"
   ]
  },
  {
   "cell_type": "code",
   "execution_count": 20,
   "id": "1bfb2af1",
   "metadata": {},
   "outputs": [
    {
     "data": {
      "text/plain": [
       "Index(['arrest_key', 'arrest_date', 'pd_cd', 'pd_desc', 'ky_cd', 'ofns_desc',\n",
       "       'law_code', 'law_cat_cd', 'arrest_boro', 'arrest_precinct',\n",
       "       'jurisdiction_code', 'age_group', 'perp_sex', 'perp_race', 'x_coord_cd',\n",
       "       'y_coord_cd', 'latitude', 'longitude', 'geocoded_column'],\n",
       "      dtype='object')"
      ]
     },
     "execution_count": 20,
     "metadata": {},
     "output_type": "execute_result"
    }
   ],
   "source": [
    "arrests.columns"
   ]
  },
  {
   "cell_type": "markdown",
   "id": "1f8dffd3",
   "metadata": {},
   "source": [
    "**How much missing data is there?**"
   ]
  },
  {
   "cell_type": "code",
   "execution_count": 21,
   "id": "f4c4ed01",
   "metadata": {},
   "outputs": [
    {
     "data": {
      "text/plain": [
       "arrest_key            0\n",
       "arrest_date           0\n",
       "pd_cd                15\n",
       "pd_desc              21\n",
       "ky_cd                21\n",
       "ofns_desc            21\n",
       "law_code              0\n",
       "law_cat_cd           10\n",
       "arrest_boro           0\n",
       "arrest_precinct       0\n",
       "jurisdiction_code     0\n",
       "age_group             0\n",
       "perp_sex              0\n",
       "perp_race             0\n",
       "x_coord_cd            0\n",
       "y_coord_cd            0\n",
       "latitude              0\n",
       "longitude             0\n",
       "geocoded_column       0\n",
       "dtype: int64"
      ]
     },
     "execution_count": 21,
     "metadata": {},
     "output_type": "execute_result"
    }
   ],
   "source": [
    "arrests.isnull().sum()"
   ]
  },
  {
   "cell_type": "markdown",
   "id": "5d813150",
   "metadata": {},
   "source": [
    "<h4>What is in each column? Am I comfortable just dropping the columns that have missing data?</h4> \n",
    "Here I have marked in bold the columns that interest me:\n",
    "\n",
    "**ARREST_KEY**\tRandomly generated persistent ID for each arrest \n",
    "\n",
    "ARREST_DATE\tExact date of arrest for the reported event\n",
    "\n",
    "PD_CD\tThree digit internal classification code (more granular than Key Code)\n",
    "\n",
    "PD_DESC\tDescription of internal classification corresponding with PD code (more granular than Offense Description)\n",
    "\n",
    "KY_CD\tThree digit internal classification code (more general category than PD code)\n",
    "\n",
    "**OFNS_DESC**\tDescription of internal classification corresponding with KY code (more general category than PD description)\n",
    "\n",
    "LAW_CODE\tLaw code charges corresponding to the NYS Penal Law, VTL and other various local laws\n",
    "\n",
    "LAW_CAT_CD\tLevel of offense: felony, misdemeanor, violation \n",
    "\n",
    "**ARREST_BORO**\tBorough of arrest. B(Bronx), S(Staten Island), K(Brooklyn), M(Manhattan), Q(Queens)\n",
    "\n",
    "ARREST_PRECINCT\tPrecinct where the arrest occurred\n",
    "\n",
    "JURISDICTION_CODE\tJurisdiction responsible for arrest. Jurisdiction codes 0(Patrol), 1(Transit) and 2(Housing) represent NYPD whilst codes 3 and more represent non NYPD jurisdictions\n",
    "\n",
    "AGE_GROUP\tPerpetrator’s age within a category\n",
    "\n",
    "PERP_SEX\tPerpetrator’s sex description\n",
    "\n",
    "**PERP_RACE**\tPerpetrator’s race description\n",
    "\n",
    "X_COORD_CD\tMidblock X-coordinate for New York State Plane Coordinate System, Long Island Zone, NAD 83, units feet (FIPS 3104)\n",
    "\n",
    "Y_COORD_CD\tMidblock Y-coordinate for New York State Plane Coordinate System, Long Island Zone, NAD 83, units feet (FIPS 3104)\n",
    "\n",
    "Latitude\tLatitude coordinate for Global Coordinate System, WGS 1984, decimal degrees (EPSG 4326) \n",
    "\n",
    "Longitude\tLongitude coordinate for Global Coordinate System, WGS 1984, decimal degrees (EPSG 4326)"
   ]
  },
  {
   "cell_type": "markdown",
   "id": "540bdb98",
   "metadata": {},
   "source": [
    "\n",
    "\n",
    "**Subset the data to only include the columns of interest. Rename for clarity and elegance.**\n"
   ]
  },
  {
   "cell_type": "code",
   "execution_count": 22,
   "id": "6d1ed799",
   "metadata": {},
   "outputs": [
    {
     "data": {
      "text/html": [
       "<div>\n",
       "<style scoped>\n",
       "    .dataframe tbody tr th:only-of-type {\n",
       "        vertical-align: middle;\n",
       "    }\n",
       "\n",
       "    .dataframe tbody tr th {\n",
       "        vertical-align: top;\n",
       "    }\n",
       "\n",
       "    .dataframe thead th {\n",
       "        text-align: right;\n",
       "    }\n",
       "</style>\n",
       "<table border=\"1\" class=\"dataframe\">\n",
       "  <thead>\n",
       "    <tr style=\"text-align: right;\">\n",
       "      <th></th>\n",
       "      <th>unique_key</th>\n",
       "      <th>offense</th>\n",
       "      <th>borough</th>\n",
       "      <th>Race</th>\n",
       "    </tr>\n",
       "  </thead>\n",
       "  <tbody>\n",
       "    <tr>\n",
       "      <th>0</th>\n",
       "      <td>238552639</td>\n",
       "      <td>CRIMINAL TRESPASS</td>\n",
       "      <td>Brooklyn</td>\n",
       "      <td>BLACK</td>\n",
       "    </tr>\n",
       "    <tr>\n",
       "      <th>1</th>\n",
       "      <td>238682242</td>\n",
       "      <td>ROBBERY</td>\n",
       "      <td>Brooklyn</td>\n",
       "      <td>BLACK</td>\n",
       "    </tr>\n",
       "    <tr>\n",
       "      <th>2</th>\n",
       "      <td>238723993</td>\n",
       "      <td>RAPE</td>\n",
       "      <td>Brooklyn</td>\n",
       "      <td>WHITE</td>\n",
       "    </tr>\n",
       "    <tr>\n",
       "      <th>3</th>\n",
       "      <td>238821533</td>\n",
       "      <td>NaN</td>\n",
       "      <td>Queens</td>\n",
       "      <td>WHITE HISPANIC</td>\n",
       "    </tr>\n",
       "    <tr>\n",
       "      <th>4</th>\n",
       "      <td>239029586</td>\n",
       "      <td>NaN</td>\n",
       "      <td>Queens</td>\n",
       "      <td>WHITE HISPANIC</td>\n",
       "    </tr>\n",
       "  </tbody>\n",
       "</table>\n",
       "</div>"
      ],
      "text/plain": [
       "   unique_key            offense   borough            Race\n",
       "0   238552639  CRIMINAL TRESPASS  Brooklyn           BLACK\n",
       "1   238682242            ROBBERY  Brooklyn           BLACK\n",
       "2   238723993               RAPE  Brooklyn           WHITE\n",
       "3   238821533                NaN    Queens  WHITE HISPANIC\n",
       "4   239029586                NaN    Queens  WHITE HISPANIC"
      ]
     },
     "execution_count": 22,
     "metadata": {},
     "output_type": "execute_result"
    }
   ],
   "source": [
    "arrests = arrests[[\"arrest_key\",\"ofns_desc\",\"arrest_boro\",\"perp_race\"]]\n",
    "arrests.rename(columns = {'arrest_key':'unique_key','ofns_desc':'offense',\n",
    "                          'arrest_boro':'borough','perp_race':'Race'},inplace=True)\n",
    "arrests['borough'].replace(['K','Q','B','S','M'],['Brooklyn','Queens','Bronx','Staten Island'\n",
    "                                                  ,'Manhattan'],inplace=True)\n",
    "arrests.head()"
   ]
  },
  {
   "cell_type": "markdown",
   "id": "c5825147",
   "metadata": {},
   "source": [
    "**I will use the built-in \"arrest key\" as my index because it contains data that is meaningful if I want to dig deeper into the specific arrest event.**\n"
   ]
  },
  {
   "cell_type": "code",
   "execution_count": 23,
   "id": "ca74f11e",
   "metadata": {},
   "outputs": [
    {
     "data": {
      "text/html": [
       "<div>\n",
       "<style scoped>\n",
       "    .dataframe tbody tr th:only-of-type {\n",
       "        vertical-align: middle;\n",
       "    }\n",
       "\n",
       "    .dataframe tbody tr th {\n",
       "        vertical-align: top;\n",
       "    }\n",
       "\n",
       "    .dataframe thead th {\n",
       "        text-align: right;\n",
       "    }\n",
       "</style>\n",
       "<table border=\"1\" class=\"dataframe\">\n",
       "  <thead>\n",
       "    <tr style=\"text-align: right;\">\n",
       "      <th></th>\n",
       "      <th>offense</th>\n",
       "      <th>borough</th>\n",
       "      <th>Race</th>\n",
       "    </tr>\n",
       "    <tr>\n",
       "      <th>unique_key</th>\n",
       "      <th></th>\n",
       "      <th></th>\n",
       "      <th></th>\n",
       "    </tr>\n",
       "  </thead>\n",
       "  <tbody>\n",
       "    <tr>\n",
       "      <th>238552639</th>\n",
       "      <td>CRIMINAL TRESPASS</td>\n",
       "      <td>Brooklyn</td>\n",
       "      <td>BLACK</td>\n",
       "    </tr>\n",
       "    <tr>\n",
       "      <th>238682242</th>\n",
       "      <td>ROBBERY</td>\n",
       "      <td>Brooklyn</td>\n",
       "      <td>BLACK</td>\n",
       "    </tr>\n",
       "    <tr>\n",
       "      <th>238723993</th>\n",
       "      <td>RAPE</td>\n",
       "      <td>Brooklyn</td>\n",
       "      <td>WHITE</td>\n",
       "    </tr>\n",
       "    <tr>\n",
       "      <th>238821533</th>\n",
       "      <td>NaN</td>\n",
       "      <td>Queens</td>\n",
       "      <td>WHITE HISPANIC</td>\n",
       "    </tr>\n",
       "    <tr>\n",
       "      <th>239029586</th>\n",
       "      <td>NaN</td>\n",
       "      <td>Queens</td>\n",
       "      <td>WHITE HISPANIC</td>\n",
       "    </tr>\n",
       "  </tbody>\n",
       "</table>\n",
       "</div>"
      ],
      "text/plain": [
       "                      offense   borough            Race\n",
       "unique_key                                             \n",
       "238552639   CRIMINAL TRESPASS  Brooklyn           BLACK\n",
       "238682242             ROBBERY  Brooklyn           BLACK\n",
       "238723993                RAPE  Brooklyn           WHITE\n",
       "238821533                 NaN    Queens  WHITE HISPANIC\n",
       "239029586                 NaN    Queens  WHITE HISPANIC"
      ]
     },
     "execution_count": 23,
     "metadata": {},
     "output_type": "execute_result"
    }
   ],
   "source": [
    "arrests[\"unique_key\"].is_unique\n",
    "arrests = arrests.set_index(\"unique_key\")\n",
    "arrests.head()\n"
   ]
  },
  {
   "cell_type": "markdown",
   "id": "384c5670",
   "metadata": {},
   "source": [
    "**Now how much missing data is there?**"
   ]
  },
  {
   "cell_type": "code",
   "execution_count": 24,
   "id": "9a458a86",
   "metadata": {},
   "outputs": [
    {
     "data": {
      "text/plain": [
       "offense    21\n",
       "borough     0\n",
       "Race        0\n",
       "dtype: int64"
      ]
     },
     "execution_count": 24,
     "metadata": {},
     "output_type": "execute_result"
    }
   ],
   "source": [
    "arrests.isnull().sum()\n"
   ]
  },
  {
   "cell_type": "markdown",
   "id": "a1320d82",
   "metadata": {},
   "source": [
    "**Since I may want to group arrests by offense, I'm dropping any rows with missing offense data.**\n"
   ]
  },
  {
   "cell_type": "code",
   "execution_count": 25,
   "id": "490764c1",
   "metadata": {},
   "outputs": [
    {
     "data": {
      "text/plain": [
       "offense    0\n",
       "borough    0\n",
       "Race       0\n",
       "dtype: int64"
      ]
     },
     "execution_count": 25,
     "metadata": {},
     "output_type": "execute_result"
    }
   ],
   "source": [
    "arrests=arrests.dropna()\n",
    "arrests.isnull().sum()\n"
   ]
  },
  {
   "cell_type": "markdown",
   "id": "eed0c033",
   "metadata": {},
   "source": [
    "**Also dropping rows where race is \"unknown.\"**"
   ]
  },
  {
   "cell_type": "code",
   "execution_count": 26,
   "id": "0046154b",
   "metadata": {},
   "outputs": [
    {
     "data": {
      "text/plain": [
       "BLACK                             501\n",
       "WHITE HISPANIC                    233\n",
       "WHITE                             114\n",
       "BLACK HISPANIC                     78\n",
       "ASIAN / PACIFIC ISLANDER           44\n",
       "AMERICAN INDIAN/ALASKAN NATIVE      5\n",
       "Name: Race, dtype: int64"
      ]
     },
     "execution_count": 26,
     "metadata": {},
     "output_type": "execute_result"
    }
   ],
   "source": [
    "arrests=arrests[arrests[\"Race\"]!=\"UNKNOWN\"]  \n",
    "arrests[\"Race\"].value_counts()\n"
   ]
  },
  {
   "cell_type": "markdown",
   "id": "5bcd3126",
   "metadata": {},
   "source": [
    "**I need to modify the arrest data so that the race categories match those in the census data.**"
   ]
  },
  {
   "cell_type": "code",
   "execution_count": 27,
   "id": "663e4e1b",
   "metadata": {},
   "outputs": [
    {
     "data": {
      "text/plain": [
       "Black                        501\n",
       "Hispanic                     311\n",
       "White                        114\n",
       "Asian OR Pacific Islander     44\n",
       "Native American                5\n",
       "Name: Race, dtype: int64"
      ]
     },
     "execution_count": 27,
     "metadata": {},
     "output_type": "execute_result"
    }
   ],
   "source": [
    "arrests['Race'].replace(['BLACK','WHITE HISPANIC','WHITE','BLACK HISPANIC','ASIAN / PACIFIC ISLANDER','AMERICAN INDIAN/ALASKAN NATIVE'],['Black','Hispanic','White','Hispanic','Asian OR Pacific Islander','Native American'],inplace=True)\n",
    "arrests[\"Race\"].value_counts()\n"
   ]
  },
  {
   "cell_type": "code",
   "execution_count": 28,
   "id": "14ed9fe1",
   "metadata": {},
   "outputs": [
    {
     "data": {
      "text/plain": [
       "<bound method DataFrame.info of                                    offense    borough      Race\n",
       "unique_key                                                     \n",
       "238552639                CRIMINAL TRESPASS   Brooklyn     Black\n",
       "238682242                          ROBBERY   Brooklyn     Black\n",
       "238723993                             RAPE   Brooklyn     White\n",
       "239104920     ASSAULT 3 & RELATED OFFENSES   Brooklyn     Black\n",
       "239623520     ASSAULT 3 & RELATED OFFENSES   Brooklyn     White\n",
       "...                                    ...        ...       ...\n",
       "239678172                   FELONY ASSAULT   Brooklyn     Black\n",
       "239220231     ASSAULT 3 & RELATED OFFENSES   Brooklyn     White\n",
       "241650053   CRIMINAL MISCHIEF & RELATED OF   Brooklyn  Hispanic\n",
       "240305373     ASSAULT 3 & RELATED OFFENSES   Brooklyn  Hispanic\n",
       "239457828                         BURGLARY  Manhattan  Hispanic\n",
       "\n",
       "[975 rows x 3 columns]>"
      ]
     },
     "execution_count": 28,
     "metadata": {},
     "output_type": "execute_result"
    }
   ],
   "source": [
    "arrests.info"
   ]
  },
  {
   "cell_type": "markdown",
   "id": "bfa32b1f",
   "metadata": {},
   "source": [
    "**Oops there are non-canonical missing values!**\n",
    "I used \"groupby\" to get a list of all the missing data values I need to deal with.\n",
    "For example:\n",
    "arrests.groupby([\"offense\"]).count()\n",
    "Only one non-standard value was found \"(null)\".\n",
    "I returned to the read_csv step and added the missing value info--see above.\n"
   ]
  },
  {
   "cell_type": "markdown",
   "id": "55bd3442",
   "metadata": {},
   "source": [
    "**There are many offenses with very low counts. I think these could skew my results or just not be interesting so I am filtering to only include offenses with >10 arrests recorded.**\n"
   ]
  },
  {
   "cell_type": "code",
   "execution_count": 29,
   "id": "3fd392dc",
   "metadata": {},
   "outputs": [
    {
     "data": {
      "text/plain": [
       "offense\n",
       "ASSAULT 3 & RELATED OFFENSES      177\n",
       "PETIT LARCENY                      88\n",
       "FELONY ASSAULT                     86\n",
       "MISCELLANEOUS PENAL LAW            65\n",
       "CRIMINAL MISCHIEF & RELATED OF     55\n",
       "ROBBERY                            53\n",
       "DANGEROUS DRUGS                    53\n",
       "GRAND LARCENY                      42\n",
       "DANGEROUS WEAPONS                  42\n",
       "BURGLARY                           39\n",
       "OFFENSES INVOLVING FRAUD           38\n",
       "VEHICLE AND TRAFFIC LAWS           36\n",
       "OFFENSES AGAINST PUBLIC ADMINI     29\n",
       "OFF. AGNST PUB ORD SENSBLTY &      19\n",
       "SEX CRIMES                         19\n",
       "INTOXICATED & IMPAIRED DRIVING     17\n",
       "FORGERY                            17\n",
       "RAPE                               16\n",
       "OTHER TRAFFIC INFRACTION           12\n",
       "POSSESSION OF STOLEN PROPERTY      11\n",
       "Name: borough, dtype: int64"
      ]
     },
     "execution_count": 29,
     "metadata": {},
     "output_type": "execute_result"
    }
   ],
   "source": [
    "high_arrests=arrests.groupby(\"offense\").filter(lambda x: len(x) > 10)\n",
    "high_arrests.groupby([\"offense\"])[\"borough\"].count().sort_values(ascending=False)\n"
   ]
  },
  {
   "cell_type": "markdown",
   "id": "cf9f50c2",
   "metadata": {},
   "source": [
    "**Get the all-NYC arrest count: the total number of arrest records in my data set = 914.**\n"
   ]
  },
  {
   "cell_type": "code",
   "execution_count": 30,
   "id": "ae542624",
   "metadata": {},
   "outputs": [
    {
     "data": {
      "text/plain": [
       "914"
      ]
     },
     "execution_count": 30,
     "metadata": {},
     "output_type": "execute_result"
    }
   ],
   "source": [
    "high_arrests[\"offense\"].count().sum()"
   ]
  },
  {
   "cell_type": "markdown",
   "id": "f0203f0f",
   "metadata": {},
   "source": [
    "**The column headers are uninformative so I will rename them.**"
   ]
  },
  {
   "cell_type": "code",
   "execution_count": 31,
   "id": "82f4b288",
   "metadata": {},
   "outputs": [
    {
     "data": {
      "text/html": [
       "<div>\n",
       "<style scoped>\n",
       "    .dataframe tbody tr th:only-of-type {\n",
       "        vertical-align: middle;\n",
       "    }\n",
       "\n",
       "    .dataframe tbody tr th {\n",
       "        vertical-align: top;\n",
       "    }\n",
       "\n",
       "    .dataframe thead th {\n",
       "        text-align: right;\n",
       "    }\n",
       "</style>\n",
       "<table border=\"1\" class=\"dataframe\">\n",
       "  <thead>\n",
       "    <tr style=\"text-align: right;\">\n",
       "      <th></th>\n",
       "      <th>Race</th>\n",
       "      <th>Percent of NYC population</th>\n",
       "    </tr>\n",
       "  </thead>\n",
       "  <tbody>\n",
       "    <tr>\n",
       "      <th>10</th>\n",
       "      <td>Black</td>\n",
       "      <td>23.8</td>\n",
       "    </tr>\n",
       "    <tr>\n",
       "      <th>11</th>\n",
       "      <td>Native American</td>\n",
       "      <td>0.4</td>\n",
       "    </tr>\n",
       "  </tbody>\n",
       "</table>\n",
       "</div>"
      ],
      "text/plain": [
       "               Race  Percent of NYC population\n",
       "10            Black                       23.8\n",
       "11  Native American                        0.4"
      ]
     },
     "execution_count": 31,
     "metadata": {},
     "output_type": "execute_result"
    }
   ],
   "source": [
    "census.rename(columns = {'Fact':'Race','New York city, New York':'Percent of NYC population'},inplace=True)\n",
    "#Since I only have one data column, I want to eliminate any row with missing values\n",
    "census = census.dropna()\n",
    "census.head(2)\n"
   ]
  },
  {
   "cell_type": "markdown",
   "id": "352509e1",
   "metadata": {},
   "source": [
    "**Break down the all-NYC arrest counts by race and visualize.**"
   ]
  },
  {
   "cell_type": "code",
   "execution_count": 32,
   "id": "398d9207",
   "metadata": {},
   "outputs": [
    {
     "data": {
      "image/png": "[encoded data removed]",
      "text/plain": [
       "<Figure size 720x360 with 1 Axes>"
      ]
     },
     "metadata": {},
     "output_type": "display_data"
    }
   ],
   "source": [
    "high_arrests.sort_values(by='Race',inplace=True)\n",
    "sns.set_context(\"notebook\", font_scale=1.1, rc={\"lines.linewidth\": 2.5})\n",
    "sns.set_style(\"whitegrid\")\n",
    "plt.figure(figsize=(10,5))\n",
    "plt.title(\"NYC arrests (2021 ytd) by race\")\n",
    "a=sns.countplot(x=\"Race\",data=high_arrests,palette=\"Accent_r\")\n",
    "plt.savefig(\"all-NYC arrest counts by race.png\")"
   ]
  },
  {
   "cell_type": "markdown",
   "id": "2e9a4fc0",
   "metadata": {},
   "source": [
    "**Convert the arrest counts to percents.**"
   ]
  },
  {
   "cell_type": "code",
   "execution_count": 33,
   "id": "ee4503ad",
   "metadata": {},
   "outputs": [
    {
     "data": {
      "text/html": [
       "<div>\n",
       "<style scoped>\n",
       "    .dataframe tbody tr th:only-of-type {\n",
       "        vertical-align: middle;\n",
       "    }\n",
       "\n",
       "    .dataframe tbody tr th {\n",
       "        vertical-align: top;\n",
       "    }\n",
       "\n",
       "    .dataframe thead th {\n",
       "        text-align: right;\n",
       "    }\n",
       "</style>\n",
       "<table border=\"1\" class=\"dataframe\">\n",
       "  <thead>\n",
       "    <tr style=\"text-align: right;\">\n",
       "      <th></th>\n",
       "      <th>percent of all NYC arrests</th>\n",
       "      <th>Race</th>\n",
       "    </tr>\n",
       "    <tr>\n",
       "      <th>label</th>\n",
       "      <th></th>\n",
       "      <th></th>\n",
       "    </tr>\n",
       "  </thead>\n",
       "  <tbody>\n",
       "    <tr>\n",
       "      <th>1</th>\n",
       "      <td>4.157549</td>\n",
       "      <td>Asian OR Pacific Islander</td>\n",
       "    </tr>\n",
       "    <tr>\n",
       "      <th>2</th>\n",
       "      <td>51.203501</td>\n",
       "      <td>Black</td>\n",
       "    </tr>\n",
       "    <tr>\n",
       "      <th>3</th>\n",
       "      <td>32.275711</td>\n",
       "      <td>Hispanic</td>\n",
       "    </tr>\n",
       "    <tr>\n",
       "      <th>4</th>\n",
       "      <td>0.547046</td>\n",
       "      <td>Native American</td>\n",
       "    </tr>\n",
       "    <tr>\n",
       "      <th>5</th>\n",
       "      <td>11.816193</td>\n",
       "      <td>White</td>\n",
       "    </tr>\n",
       "  </tbody>\n",
       "</table>\n",
       "</div>"
      ],
      "text/plain": [
       "       percent of all NYC arrests                       Race\n",
       "label                                                       \n",
       "1                        4.157549  Asian OR Pacific Islander\n",
       "2                       51.203501                      Black\n",
       "3                       32.275711                   Hispanic\n",
       "4                        0.547046            Native American\n",
       "5                       11.816193                      White"
      ]
     },
     "execution_count": 33,
     "metadata": {},
     "output_type": "execute_result"
    }
   ],
   "source": [
    "percent = pd.DataFrame(((high_arrests.groupby(['Race']).count())/914)*100)\n",
    "percent = percent.rename(columns = {'offense':'percent of all NYC arrests'})\n",
    "percent = percent.astype({\"percent of all NYC arrests\": float})\n",
    "percent = pd.DataFrame(percent[\"percent of all NYC arrests\"])\n",
    "percent.describe\n",
    "percent['label']=[1,2,3,4,5]\n",
    "percent['Race']=[\"Asian OR Pacific Islander\",\"Black\",\"Hispanic\",\"Native American\",\"White\"]\n",
    "percent.set_index(\"label\", inplace = True)\n",
    "percent.head()\n"
   ]
  },
  {
   "cell_type": "markdown",
   "id": "3853715c",
   "metadata": {},
   "source": [
    "**Visualize the NYC arrests by percent per race.**"
   ]
  },
  {
   "cell_type": "code",
   "execution_count": 34,
   "id": "6daa956d",
   "metadata": {},
   "outputs": [
    {
     "data": {
      "image/png": "[encoded data removed]",
      "text/plain": [
       "<Figure size 720x360 with 1 Axes>"
      ]
     },
     "metadata": {},
     "output_type": "display_data"
    }
   ],
   "source": [
    "percent.sort_values(by='Race',inplace=True)\n",
    "sns.set_context(\"notebook\", font_scale=1.1, rc={\"lines.linewidth\": 2.5})\n",
    "sns.set_style(\"whitegrid\")\n",
    "plt.figure(figsize=(10,5))\n",
    "plt.title(\"Percent of NYC arrests (2021 ytd) by race\")\n",
    "b=sns.barplot(y=\"percent of all NYC arrests\",x=\"Race\",data=percent,palette=\"Accent_r\")\n",
    "plt.savefig(\"all-NYC arrest percents by race.png\")"
   ]
  },
  {
   "cell_type": "markdown",
   "id": "17cf4fed",
   "metadata": {},
   "source": [
    "**Visualize the census data: what percent of the NYC population does each race represent?**"
   ]
  },
  {
   "cell_type": "code",
   "execution_count": 35,
   "id": "0549a375",
   "metadata": {},
   "outputs": [
    {
     "data": {
      "image/png": "[encoded data removed]",
      "text/plain": [
       "<Figure size 720x360 with 1 Axes>"
      ]
     },
     "metadata": {},
     "output_type": "display_data"
    }
   ],
   "source": [
    "census.sort_values(by='Race',inplace=True)\n",
    "sns.set_context(\"notebook\", font_scale=1.1, rc={\"lines.linewidth\": 2.5})\n",
    "sns.set_style(\"whitegrid\")\n",
    "plt.figure(figsize=(10,5))\n",
    "plt.title(\"NYC population (2021 census) by race\")\n",
    "c=sns.barplot(y=\"Percent of NYC population\",x=\"Race\",data=census,palette=\"Accent_r\")\n",
    "plt.savefig(\"all-NYC census population by race.png\")"
   ]
  },
  {
   "cell_type": "markdown",
   "id": "53579d22",
   "metadata": {},
   "source": [
    "<h3>Now I can ask the question I was trying to get at: do the rates of arrest for each race reflect its abundance in NYC? In other words, is the arrest rate constant across races so that if race X makes up 50% of the population, they will experience ~50% of all arrests?</h4>"
   ]
  },
  {
   "cell_type": "markdown",
   "id": "0b15e4c4",
   "metadata": {},
   "source": [
    "**Merge the census and arrest data so I can plot them together.**"
   ]
  },
  {
   "cell_type": "code",
   "execution_count": 36,
   "id": "1c804c98",
   "metadata": {},
   "outputs": [
    {
     "data": {
      "text/html": [
       "<div>\n",
       "<style scoped>\n",
       "    .dataframe tbody tr th:only-of-type {\n",
       "        vertical-align: middle;\n",
       "    }\n",
       "\n",
       "    .dataframe tbody tr th {\n",
       "        vertical-align: top;\n",
       "    }\n",
       "\n",
       "    .dataframe thead th {\n",
       "        text-align: right;\n",
       "    }\n",
       "</style>\n",
       "<table border=\"1\" class=\"dataframe\">\n",
       "  <thead>\n",
       "    <tr style=\"text-align: right;\">\n",
       "      <th></th>\n",
       "      <th>percent of all NYC arrests</th>\n",
       "      <th>Race</th>\n",
       "      <th>Percent of NYC population</th>\n",
       "    </tr>\n",
       "  </thead>\n",
       "  <tbody>\n",
       "    <tr>\n",
       "      <th>0</th>\n",
       "      <td>4.157549</td>\n",
       "      <td>Asian OR Pacific Islander</td>\n",
       "      <td>14.3</td>\n",
       "    </tr>\n",
       "    <tr>\n",
       "      <th>2</th>\n",
       "      <td>51.203501</td>\n",
       "      <td>Black</td>\n",
       "      <td>23.8</td>\n",
       "    </tr>\n",
       "    <tr>\n",
       "      <th>3</th>\n",
       "      <td>32.275711</td>\n",
       "      <td>Hispanic</td>\n",
       "      <td>28.9</td>\n",
       "    </tr>\n",
       "    <tr>\n",
       "      <th>4</th>\n",
       "      <td>0.547046</td>\n",
       "      <td>Native American</td>\n",
       "      <td>0.4</td>\n",
       "    </tr>\n",
       "    <tr>\n",
       "      <th>5</th>\n",
       "      <td>11.816193</td>\n",
       "      <td>White</td>\n",
       "      <td>31.9</td>\n",
       "    </tr>\n",
       "  </tbody>\n",
       "</table>\n",
       "</div>"
      ],
      "text/plain": [
       "   percent of all NYC arrests                       Race  \\\n",
       "0                    4.157549  Asian OR Pacific Islander   \n",
       "2                   51.203501                      Black   \n",
       "3                   32.275711                   Hispanic   \n",
       "4                    0.547046            Native American   \n",
       "5                   11.816193                      White   \n",
       "\n",
       "   Percent of NYC population  \n",
       "0                       14.3  \n",
       "2                       23.8  \n",
       "3                       28.9  \n",
       "4                        0.4  \n",
       "5                       31.9  "
      ]
     },
     "execution_count": 36,
     "metadata": {},
     "output_type": "execute_result"
    }
   ],
   "source": [
    "merged=percent.merge(census, left_on='Race', right_on='Race')\n",
    "merged = merged.iloc[['0','2','3','4','5']]\n",
    "merged.columns\n",
    "merged.head(10)"
   ]
  },
  {
   "cell_type": "markdown",
   "id": "ad3b520c",
   "metadata": {},
   "source": [
    "**Visualize the combined data.**"
   ]
  },
  {
   "cell_type": "code",
   "execution_count": 37,
   "id": "9535ecd4",
   "metadata": {},
   "outputs": [
    {
     "data": {
      "image/png": "[encoded data removed]",
      "text/plain": [
       "<Figure size 720x360 with 1 Axes>"
      ]
     },
     "metadata": {},
     "output_type": "display_data"
    }
   ],
   "source": [
    "merged.sort_values(by='Race',inplace=True)\n",
    "sns.set_context(\"notebook\", font_scale=1.1, rc={\"lines.linewidth\": 2.5})\n",
    "sns.set_style(\"whitegrid\")\n",
    "plt.figure(figsize=(10,5))\n",
    "plt.title(\"NYC population (2021 census) by race\")\n",
    "c=sns.barplot(y=\"Percent of NYC population\",x=\"percent of all NYC arrests\",\n",
    "              data=merged,hue=\"Race\",palette=\"Accent_r\")\n"
   ]
  },
  {
   "cell_type": "markdown",
   "id": "85887259",
   "metadata": {},
   "source": [
    "**That was not a useful visualization.**"
   ]
  },
  {
   "cell_type": "markdown",
   "id": "34e3d19a",
   "metadata": {},
   "source": [
    "**I am interested in the question \"can arrest rates be explained by population level?\" in other words does knowing population make it possible to predict arrest rates. This is a regression question so I will try a regression plot.**"
   ]
  },
  {
   "cell_type": "code",
   "execution_count": 761,
   "id": "0c00cd22",
   "metadata": {},
   "outputs": [
    {
     "data": {
      "text/plain": [
       "<AxesSubplot:xlabel='percent of all NYC arrests', ylabel='Percent of NYC population'>"
      ]
     },
     "execution_count": 761,
     "metadata": {},
     "output_type": "execute_result"
    },
    {
     "data": {
      "image/png": "[encoded data removed]",
      "text/plain": [
       "<Figure size 432x288 with 1 Axes>"
      ]
     },
     "metadata": {},
     "output_type": "display_data"
    }
   ],
   "source": [
    "sns.regplot(y=\"Percent of NYC population\", \n",
    "            x=\"percent of all NYC arrests\", data=merged, ci=10, fit_reg=\"True\")\n"
   ]
  },
  {
   "cell_type": "markdown",
   "id": "74b0e8a1",
   "metadata": {},
   "source": [
    "**Although that worked, I couldn't find a way to color the points by race. So now I will try \"lmplot\" which seems to have more customization options.**"
   ]
  },
  {
   "cell_type": "code",
   "execution_count": 43,
   "id": "28d21b59",
   "metadata": {},
   "outputs": [
    {
     "data": {
      "text/plain": [
       "<seaborn.axisgrid.FacetGrid at 0x7fef8b8969e8>"
      ]
     },
     "execution_count": 43,
     "metadata": {},
     "output_type": "execute_result"
    },
    {
     "data": {
      "image/png": "[encoded data removed]",
      "text/plain": [
       "<Figure size 540.685x360 with 1 Axes>"
      ]
     },
     "metadata": {},
     "output_type": "display_data"
    }
   ],
   "source": [
    "sns.lmplot(y=\"Percent of NYC population\", x=\"percent of all NYC arrests\", \n",
    "           palette=\"bright\",data=merged, hue=\"Race\",\n",
    "          fit_reg=True, n_boot=10000, robust=True)    \n"
   ]
  },
  {
   "cell_type": "markdown",
   "id": "d2011141",
   "metadata": {},
   "source": [
    "<h2>Conclusions</h2>\n",
    "\n",
    "I compared population data for NYC (as reported by the 2021 US Census) to NYPD arrest data for 2022 (arrest data covered January 1, 2022 through June 27, 2022.\n",
    "\n",
    "Only the Hispanic race (which in the NYPD data was split into \"Black Hispanic\" and \"White Hispanic\", and in the census data was categorized as \"Hispanic or Latino\") had arrests approximately in keeping with their population level: Hispanics make up 28.9% of the NYC population and experienced 32.3% of all arrests. \n",
    "\n",
    "Asians were \"under-arrested,\" making up 14.3% of the population but experiencing 4.2% of all arrests. Whites were similarly under-represented in arrests: they make up 41.3% of the NYC population but experienced only 11.8% of all arrests.\n",
    "\n",
    "So who accounts for those missing arrests that Asians and Whites did not experience? Blacks make up 23.8% of NYC's population, but experienced 51% of all arrests.\n",
    "\n",
    "Without exploring the data in more detail, it's hard to say exactly what's happening but it doesn't look very fair. I hope to examine these data further to see if 1) these patterns are statistically meaningful, 2) are these patterns the same across offense types? Across boroughs? And 3) whether arrest locations are in any way informative (for example are most arrests in low-income neighborhoods? If yes, is the population of Black people higher there?). \n"
   ]
  },
  {
   "cell_type": "markdown",
   "id": "65e7a2d7",
   "metadata": {},
   "source": [
    "<h3>The post-game analysis</h3>\n",
    "**What I was trying to do**\n",
    "I wanted to have columns for \"arrested race is X% of NYC\" \"arrested race is X% of all NYC arrests\" \"arrested race is X% of this borough's arrests\" \"arrested race per offense is X% of all NYC arrests for offense\" etc.--basically a much more fine-grained exploration of the relationship between race, population, and arrest rates. \n",
    "\n",
    "**My preliminary thoughts on accomplishing this**\n",
    "#\"arrested race is X% of NYC\" is the census data\n",
    "#\"arrested race is X% of all NYC arrests\" is (sum of NYC arrests for race X)/(sum of all NYC arrests)\n",
    "#\"arrested race is X% of this borough's arrests\" is (sum of borough arrests for race X)/(sum of all borough arrests)\n",
    "\n",
    "I need to calculate:\n",
    "Total arrests in NYC, and sum for each race\n",
    "Total arrests in each borough, and sum for each race\n",
    "How these relate to citywide census data for race"
   ]
  },
  {
   "cell_type": "markdown",
   "id": "e42bda58",
   "metadata": {},
   "source": [
    "I created this exploratory visualization but that's as far as I got with the by borough, by offense breakdown."
   ]
  },
  {
   "cell_type": "code",
   "execution_count": 729,
   "id": "c19eff36",
   "metadata": {},
   "outputs": [
    {
     "data": {
      "image/png": "[encoded data removed]",
      "text/plain": [
       "<Figure size 1440x1440 with 1 Axes>"
      ]
     },
     "metadata": {},
     "output_type": "display_data"
    }
   ],
   "source": [
    "#all-NYC arrest counts by race and offense\n",
    "sns.set_context(\"notebook\", font_scale=1.3, rc={\"lines.linewidth\": 2.5})\n",
    "sns.set_style(\"whitegrid\")\n",
    "plt.figure(figsize=(20,20))\n",
    "d=sns.countplot(y=\"offense\",hue=\"Race\",data=high_arrests,palette=\"Accent_r\")"
   ]
  }
 ],
 "metadata": {
  "celltoolbar": "Raw Cell Format",
  "kernelspec": {
   "display_name": "Python 3",
   "language": "python",
   "name": "python3"
  },
  "language_info": {
   "codemirror_mode": {
    "name": "ipython",
    "version": 3
   },
   "file_extension": ".py",
   "mimetype": "text/x-python",
   "name": "python",
   "nbconvert_exporter": "python",
   "pygments_lexer": "ipython3",
   "version": "3.6.15"
  }
 },
 "nbformat": 4,
 "nbformat_minor": 5
}
