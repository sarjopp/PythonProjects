{
 "cells": [
  {
   "cell_type": "markdown",
   "id": "e8df4e30",
   "metadata": {},
   "source": [
    "## notes from 060222 Thursday class    "
   ]
  },
  {
   "cell_type": "markdown",
   "id": "8c28d8ef",
   "metadata": {},
   "source": [
    "# class notes: python\n",
    "% modulus returns the remainder of a division operation  \n",
    "// quotient returns the integer result of a division operation  \n",
    "** exponent (to the power of, like ^)  \n"
   ]
  },
  {
   "cell_type": "markdown",
   "id": "49e563c1",
   "metadata": {},
   "source": [
    "### class notes: people\n",
    "Yue is an environmental scientist  \n",
    "Kimberly and Mel are artists  \n",
    "Tim teaches figure skating  \n",
    "Jarek is working hard to have more fun  "
   ]
  },
  {
   "cell_type": "code",
   "execution_count": 85,
   "id": "8493d135",
   "metadata": {},
   "outputs": [],
   "source": [
    "my_dataList = [2, 4, 6]"
   ]
  },
  {
   "cell_type": "code",
   "execution_count": 1,
   "id": "3d7dc35a",
   "metadata": {},
   "outputs": [],
   "source": [
    "import numpy as np\n",
    "import pandas as pd\n",
    "import scipy as sc\n",
    "import sympy as sy\n",
    "import matplotlib as matplot\n",
    "import statistics as statistics"
   ]
  },
  {
   "cell_type": "code",
   "execution_count": 87,
   "id": "3727dcad",
   "metadata": {},
   "outputs": [
    {
     "name": "stdout",
     "output_type": "stream",
     "text": [
      "Oh no, not \"Hello World!\" \n",
      "5\n"
     ]
    }
   ],
   "source": [
    "print (\"Oh no, not \\\"Hello World!\\\" \")\n",
    "print (str(len('hello')))"
   ]
  },
  {
   "cell_type": "code",
   "execution_count": 88,
   "id": "b29bea17",
   "metadata": {},
   "outputs": [],
   "source": [
    "!jt -t chesterish"
   ]
  },
  {
   "cell_type": "code",
   "execution_count": 89,
   "id": "95409619",
   "metadata": {},
   "outputs": [
    {
     "name": "stdout",
     "output_type": "stream",
     "text": [
      "Available Themes: \r\n",
      "   chesterish\r\n",
      "   grade3\r\n",
      "   gruvboxd\r\n",
      "   gruvboxl\r\n",
      "   monokai\r\n",
      "   oceans16\r\n",
      "   onedork\r\n",
      "   solarizedd\r\n",
      "   solarizedl\r\n"
     ]
    }
   ],
   "source": [
    "!jt -l"
   ]
  },
  {
   "cell_type": "code",
   "execution_count": 90,
   "id": "233c7ef0",
   "metadata": {},
   "outputs": [
    {
     "name": "stdout",
     "output_type": "stream",
     "text": [
      "<class 'str'>\n",
      "10\n",
      "10.0\n",
      "4\n",
      "0\n",
      "1\n",
      "6.4\n",
      "6.4\n"
     ]
    }
   ],
   "source": [
    "print (type(str(3)))\n",
    "print (3+7)\n",
    "print (float (3+7))\n",
    "int (3+7)\n",
    "print (2**2)\n",
    "print (2%2)\n",
    "print (2//2)\n",
    "print (32/5)\n",
    "print (float(32/5))"
   ]
  },
  {
   "cell_type": "code",
   "execution_count": 91,
   "id": "1ed5a491",
   "metadata": {},
   "outputs": [
    {
     "name": "stdout",
     "output_type": "stream",
     "text": [
      "Reset css and font defaults in:\r\n",
      "/Users/SaraO/.jupyter/custom &\r\n",
      "/Users/SaraO/Library/Jupyter/nbextensions\r\n"
     ]
    }
   ],
   "source": [
    "!jt -r"
   ]
  },
  {
   "cell_type": "code",
   "execution_count": 92,
   "id": "d6ce5048",
   "metadata": {},
   "outputs": [
    {
     "name": "stdout",
     "output_type": "stream",
     "text": [
      "78.5\n"
     ]
    }
   ],
   "source": [
    "#Exercise 1: Radius=5, π=3.14, calculate the area of the circle\n",
    "#area = pi*R^2\n",
    "3.14*5**2\n",
    "print (float(3.14*(5**2)))"
   ]
  },
  {
   "cell_type": "code",
   "execution_count": 93,
   "id": "e357d982",
   "metadata": {},
   "outputs": [
    {
     "name": "stdout",
     "output_type": "stream",
     "text": [
      "Snail is a big animal!\n",
      "snail is a big animal!\n",
      "SNAIL IS A BIG ANIMAL!\n",
      "Snail Is A Big Animal!\n",
      "Some People Get A Kick Out Of Snails 9 X\n"
     ]
    }
   ],
   "source": [
    "#STRINGS\n",
    "Word = (\"snail is a Big aNimal!\")\n",
    "#len (Word)\n",
    "print (Word.capitalize())\n",
    "print (Word.lower())\n",
    "print (Word.upper())\n",
    "print (Word.title())\n",
    "print ((\"some people get a kick out of snails\").title(),3**2,\"X\")"
   ]
  },
  {
   "cell_type": "code",
   "execution_count": 94,
   "id": "2c7ae5eb",
   "metadata": {},
   "outputs": [
    {
     "name": "stdout",
     "output_type": "stream",
     "text": [
      "Is 3<7 and 3!=7? True\n",
      "True\n",
      "False\n"
     ]
    }
   ],
   "source": [
    "#LOGIC: if the statement evaluates as true, returns TRUE\n",
    "3>7\n",
    "3==7\n",
    "3!=7\n",
    "3>=7\n",
    "3<=7\n",
    "print (\"Is 3<7 and 3!=7?\",3<7 and 3!=7)\n",
    "print (\"hot\"==\"hot\")\n",
    "print (True and False)"
   ]
  },
  {
   "cell_type": "code",
   "execution_count": 95,
   "id": "f860c223",
   "metadata": {},
   "outputs": [
    {
     "name": "stdout",
     "output_type": "stream",
     "text": [
      "Are you a student or a staff member?poptart\n",
      "You are a poptart\n"
     ]
    }
   ],
   "source": [
    "#Exercise 2: Create a variable affiliation, prompt a question, \"Are you a student or a staff member?\"\n",
    "Status = input(\"Are you a student or a staff member?\")\n",
    "print (\"You are a\",Status)"
   ]
  },
  {
   "cell_type": "code",
   "execution_count": 96,
   "id": "5f6111ac",
   "metadata": {
    "scrolled": true
   },
   "outputs": [
    {
     "name": "stdout",
     "output_type": "stream",
     "text": [
      "Person one's metric BMI is 22.03856749311295\n",
      "Person two's metric BMI is 24.489795918367346\n",
      "Person one's imperial BMI is 4.549888705270559\n",
      "Person two's imperial BMI is 5.055947755142488\n",
      "person1 = 22.03856749311295\n",
      "Person the 2nd has BMI =  24.489795918367346\n",
      "person1 = 22.04\n",
      "person1 = 22.039\n"
     ]
    }
   ],
   "source": [
    "#Exercise 3: Create a BMI function and calculate BMI for person1 and person2. BMI = weight/height²\n",
    "# person1: height:1.65m, weight:60kg\n",
    "# person2: height:1.75m, weight:75kg\n",
    "#1 kilogram ( kg) is equal to 2.20462262185 pounds (lb)\n",
    "#1 meter (m) = 3.280839895 feet (f)\n",
    "def Kg_to_Lb(Kg):\n",
    "    Lb = Kg / 0.45\n",
    "    return Lb\n",
    "def m_to_f(m):\n",
    "    f = m * 3.280839895\n",
    "    return f\n",
    "def BMI(W,H):\n",
    "    bmi = W/H**2\n",
    "    return bmi\n",
    "person1=BMI(60,1.65)\n",
    "person2=BMI(75,1.75)\n",
    "#raw values\n",
    "print (\"Person one's metric BMI is\", person1)\n",
    "print (\"Person two's metric BMI is\", person2)\n",
    "#convert to Imperial before calculating BMI\n",
    "person1=BMI(Kg_to_Lb(60),m_to_f(1.65))\n",
    "person2=BMI(Kg_to_Lb(75),m_to_f(1.75))\n",
    "print (\"Person one's imperial BMI is\", person1)\n",
    "print (\"Person two's imperial BMI is\", person2)\n",
    "#print and calculate in same step\n",
    "print (\"person1 =\",(BMI(60,1.65)))\n",
    "print (\"Person the 2nd has BMI = \",(BMI(75,1.75)))\n",
    "#limit the number of decimals using round\n",
    "print (\"person1 =\",round(BMI(60,1.65),2))\n",
    "#limit the number of decimals using “%” operator--did not work\n",
    "#print (\"person1 =\",'%.3f'%(BMI(60,1.65),2))\n",
    "#limit the number of decimals using format()\n",
    "print (\"person1 =\",\"{0:.3f}\".format(BMI(60,1.65),2))"
   ]
  },
  {
   "cell_type": "code",
   "execution_count": 97,
   "id": "96463e8e",
   "metadata": {},
   "outputs": [
    {
     "name": "stdout",
     "output_type": "stream",
     "text": [
      "Your BMI is 22.0386\n"
     ]
    }
   ],
   "source": [
    "W = 60\n",
    "H = 1.65\n",
    "print (\"Your BMI is\",round((W/H**2),4))"
   ]
  },
  {
   "cell_type": "code",
   "execution_count": 98,
   "id": "cef1b626",
   "metadata": {
    "scrolled": true
   },
   "outputs": [
    {
     "name": "stdout",
     "output_type": "stream",
     "text": [
      "What is your weight?7\n",
      "What is your height2\n"
     ]
    },
    {
     "ename": "TypeError",
     "evalue": "unsupported operand type(s) for ** or pow(): 'str' and 'int'",
     "output_type": "error",
     "traceback": [
      "\u001b[0;31m---------------------------------------------------------------------------\u001b[0m",
      "\u001b[0;31mTypeError\u001b[0m                                 Traceback (most recent call last)",
      "\u001b[0;32m<ipython-input-98-5f898efb2e52>\u001b[0m in \u001b[0;36m<module>\u001b[0;34m\u001b[0m\n\u001b[1;32m      1\u001b[0m \u001b[0mW\u001b[0m \u001b[0;34m=\u001b[0m \u001b[0minput\u001b[0m\u001b[0;34m(\u001b[0m\u001b[0;34m\"What is your weight?\"\u001b[0m\u001b[0;34m)\u001b[0m\u001b[0;34m\u001b[0m\u001b[0;34m\u001b[0m\u001b[0m\n\u001b[1;32m      2\u001b[0m \u001b[0mH\u001b[0m \u001b[0;34m=\u001b[0m \u001b[0minput\u001b[0m\u001b[0;34m(\u001b[0m\u001b[0;34m\"What is your height\"\u001b[0m\u001b[0;34m)\u001b[0m\u001b[0;34m\u001b[0m\u001b[0;34m\u001b[0m\u001b[0m\n\u001b[0;32m----> 3\u001b[0;31m \u001b[0mprint\u001b[0m \u001b[0;34m(\u001b[0m\u001b[0;34m\"Your BMI is\"\u001b[0m\u001b[0;34m,\u001b[0m\u001b[0;34m(\u001b[0m\u001b[0mW\u001b[0m\u001b[0;34m/\u001b[0m\u001b[0mH\u001b[0m\u001b[0;34m**\u001b[0m\u001b[0;36m2\u001b[0m\u001b[0;34m)\u001b[0m\u001b[0;34m)\u001b[0m\u001b[0;34m\u001b[0m\u001b[0;34m\u001b[0m\u001b[0m\n\u001b[0m",
      "\u001b[0;31mTypeError\u001b[0m: unsupported operand type(s) for ** or pow(): 'str' and 'int'"
     ]
    }
   ],
   "source": [
    "W = input(\"What is your weight?\")\n",
    "H = input(\"What is your height\")\n",
    "print (\"Your BMI is\",(W/H**2))"
   ]
  },
  {
   "cell_type": "code",
   "execution_count": 99,
   "id": "94852754",
   "metadata": {},
   "outputs": [
    {
     "name": "stdout",
     "output_type": "stream",
     "text": [
      "What is your weight?7\n",
      "What is your height1.5\n"
     ]
    },
    {
     "ename": "TypeError",
     "evalue": "unsupported operand type(s) for ** or pow(): 'str' and 'int'",
     "output_type": "error",
     "traceback": [
      "\u001b[0;31m---------------------------------------------------------------------------\u001b[0m",
      "\u001b[0;31mTypeError\u001b[0m                                 Traceback (most recent call last)",
      "\u001b[0;32m<ipython-input-99-dd245730a642>\u001b[0m in \u001b[0;36m<module>\u001b[0;34m\u001b[0m\n\u001b[1;32m      4\u001b[0m \u001b[0mW\u001b[0m \u001b[0;34m=\u001b[0m \u001b[0minput\u001b[0m\u001b[0;34m(\u001b[0m\u001b[0;34m\"What is your weight?\"\u001b[0m\u001b[0;34m)\u001b[0m\u001b[0;34m\u001b[0m\u001b[0;34m\u001b[0m\u001b[0m\n\u001b[1;32m      5\u001b[0m \u001b[0mH\u001b[0m \u001b[0;34m=\u001b[0m \u001b[0minput\u001b[0m\u001b[0;34m(\u001b[0m\u001b[0;34m\"What is your height\"\u001b[0m\u001b[0;34m)\u001b[0m\u001b[0;34m\u001b[0m\u001b[0;34m\u001b[0m\u001b[0m\n\u001b[0;32m----> 6\u001b[0;31m \u001b[0mBMI\u001b[0m\u001b[0;34m(\u001b[0m\u001b[0mW\u001b[0m\u001b[0;34m,\u001b[0m\u001b[0mH\u001b[0m\u001b[0;34m)\u001b[0m\u001b[0;34m\u001b[0m\u001b[0;34m\u001b[0m\u001b[0m\n\u001b[0m\u001b[1;32m      7\u001b[0m \u001b[0;31m#print (BMI(W,H))\u001b[0m\u001b[0;34m\u001b[0m\u001b[0;34m\u001b[0m\u001b[0;34m\u001b[0m\u001b[0m\n\u001b[1;32m      8\u001b[0m \u001b[0;31m#print (\"Your BMI is\",BMI(W,H))\u001b[0m\u001b[0;34m\u001b[0m\u001b[0;34m\u001b[0m\u001b[0;34m\u001b[0m\u001b[0m\n",
      "\u001b[0;32m<ipython-input-99-dd245730a642>\u001b[0m in \u001b[0;36mBMI\u001b[0;34m(W, H)\u001b[0m\n\u001b[1;32m      1\u001b[0m \u001b[0;32mdef\u001b[0m \u001b[0mBMI\u001b[0m\u001b[0;34m(\u001b[0m\u001b[0mW\u001b[0m\u001b[0;34m,\u001b[0m\u001b[0mH\u001b[0m\u001b[0;34m)\u001b[0m\u001b[0;34m:\u001b[0m\u001b[0;34m\u001b[0m\u001b[0;34m\u001b[0m\u001b[0m\n\u001b[0;32m----> 2\u001b[0;31m     \u001b[0mbmi\u001b[0m \u001b[0;34m=\u001b[0m \u001b[0mW\u001b[0m\u001b[0;34m/\u001b[0m\u001b[0mH\u001b[0m\u001b[0;34m**\u001b[0m\u001b[0;36m2\u001b[0m\u001b[0;34m\u001b[0m\u001b[0;34m\u001b[0m\u001b[0m\n\u001b[0m\u001b[1;32m      3\u001b[0m     \u001b[0;32mreturn\u001b[0m \u001b[0mbmi\u001b[0m\u001b[0;34m\u001b[0m\u001b[0;34m\u001b[0m\u001b[0m\n\u001b[1;32m      4\u001b[0m \u001b[0mW\u001b[0m \u001b[0;34m=\u001b[0m \u001b[0minput\u001b[0m\u001b[0;34m(\u001b[0m\u001b[0;34m\"What is your weight?\"\u001b[0m\u001b[0;34m)\u001b[0m\u001b[0;34m\u001b[0m\u001b[0;34m\u001b[0m\u001b[0m\n\u001b[1;32m      5\u001b[0m \u001b[0mH\u001b[0m \u001b[0;34m=\u001b[0m \u001b[0minput\u001b[0m\u001b[0;34m(\u001b[0m\u001b[0;34m\"What is your height\"\u001b[0m\u001b[0;34m)\u001b[0m\u001b[0;34m\u001b[0m\u001b[0;34m\u001b[0m\u001b[0m\n",
      "\u001b[0;31mTypeError\u001b[0m: unsupported operand type(s) for ** or pow(): 'str' and 'int'"
     ]
    }
   ],
   "source": [
    "def BMI(W,H):\n",
    "    bmi = W/H**2\n",
    "    return bmi\n",
    "W = input(\"What is your weight?\")\n",
    "H = input(\"What is your height\")\n",
    "BMI(W,H)\n",
    "#print (BMI(W,H))\n",
    "#print (\"Your BMI is\",BMI(W,H))"
   ]
  },
  {
   "cell_type": "markdown",
   "id": "f55e9d81",
   "metadata": {},
   "source": [
    "# Tuesday 060722   "
   ]
  },
  {
   "cell_type": "markdown",
   "id": "a85551de",
   "metadata": {},
   "source": [
    "print and input are both predefined functions in python, functions take parameters which are placed in parentheses   \n",
    "white space matters in python!   \n",
    "variable names in python: Can only include letter, number, or underscore, Can't start with a number    \n",
    "lists are ordered and changeable. They are always enclosed in square brackets. [1,2,3]   \n",
    "python use 0-based counting (so item 1 is in position 0)  \n",
    "functions to modify lists include remove, append, insert, sort\n",
    "tuples are ordered and NOT changeable. They are encompassed in parentheses. (1,2,3)   \n",
    "dictionaries are changeable key-value pairs, they are always enclosed in curly brackets {‘a’:1, ‘b’:2, ‘c’:3}   \n"
   ]
  },
  {
   "cell_type": "code",
   "execution_count": 100,
   "id": "f7f3de9f",
   "metadata": {},
   "outputs": [
    {
     "name": "stdout",
     "output_type": "stream",
     "text": [
      "4.84\n",
      "4.840000000000001\n"
     ]
    }
   ],
   "source": [
    "def sq(N):\n",
    "    square=N**2\n",
    "    return square\n",
    "print (round(sq(2.2),2))\n",
    "print (sq(2.2))"
   ]
  },
  {
   "cell_type": "code",
   "execution_count": 101,
   "id": "5d25505d",
   "metadata": {},
   "outputs": [
    {
     "name": "stdout",
     "output_type": "stream",
     "text": [
      "What do otters, birds, and people all eat?food\n",
      "They all eat food !\n"
     ]
    }
   ],
   "source": [
    "food=input(\"What do otters, birds, and people all eat?\")\n",
    "print (\"They all eat\",food,\"!\")"
   ]
  },
  {
   "cell_type": "code",
   "execution_count": 102,
   "id": "28ffd5bf",
   "metadata": {},
   "outputs": [
    {
     "name": "stdout",
     "output_type": "stream",
     "text": [
      "['bottles', 'chairs', 'strings']\n",
      "bottles\n",
      "cans\n",
      "['bottles', 'strings', 'cans']\n",
      "['bottles', 'buckets', 'strings', 'cans']\n"
     ]
    }
   ],
   "source": [
    "#Working with lists\n",
    "my_fruit = [\"bottles\", \"chairs\", \"strings\"]\n",
    "print (my_fruit)\n",
    "print (my_fruit[0])\n",
    "my_fruit.append('cans')\n",
    "print (my_fruit[3])\n",
    "my_fruit.remove(my_fruit[1])\n",
    "print (my_fruit)\n",
    "my_fruit.insert(1,'buckets')\n",
    "print (my_fruit)"
   ]
  },
  {
   "cell_type": "code",
   "execution_count": 103,
   "id": "e28ec176",
   "metadata": {},
   "outputs": [
    {
     "name": "stdout",
     "output_type": "stream",
     "text": [
      "too damn loud\n"
     ]
    }
   ],
   "source": [
    "#if/else structure\n",
    "noise=2\n",
    "if noise > 11 or noise == 12 or noise == 2:\n",
    "    print ('too damn loud')\n",
    "elif noise <= 9:\n",
    "    print ('ahhhhh')"
   ]
  },
  {
   "cell_type": "code",
   "execution_count": 104,
   "id": "f0235910",
   "metadata": {},
   "outputs": [
    {
     "name": "stdout",
     "output_type": "stream",
     "text": [
      "Are you good or bad?middle\n",
      "ask your mom!\n"
     ]
    }
   ],
   "source": [
    "#Exercise 5: Create a variable called \"behavior\", assign a value \"good\" to it\n",
    "# if \"good\" print \"candy\"\n",
    "# elif \"bad\" print \"no candy\"\n",
    "# else print \"ask your mom\"\n",
    "\n",
    "behavior = input(\"Are you good or bad?\")\n",
    "if behavior == 'good':\n",
    "    print ('you get candy!')\n",
    "elif behavior == 'bad' or behavior == 'crazy':\n",
    "    print ('no candy for you, ya crazy baddie!')\n",
    "else:\n",
    "    print ('ask your mom!')"
   ]
  },
  {
   "cell_type": "code",
   "execution_count": 105,
   "id": "6617e53e",
   "metadata": {},
   "outputs": [
    {
     "name": "stdout",
     "output_type": "stream",
     "text": [
      "my nemesis is cats !\n",
      "my nemesis is pigdog !\n",
      "my nemesis is chicken !\n",
      "my favorite is llaammaass !\n",
      "but what the heck is a fuzzaardvaark ?\n"
     ]
    }
   ],
   "source": [
    "#Exercise 6: Create a list called “animals\" and put \"cat\",\"dog\",\"pig\"...in it\n",
    "#Use for loop to print each one out\n",
    "nemeses = ['cats', 'chicken', 'llaammaass', 'pigdog']\n",
    "nemeses.insert(1,'fuzzaardvaark')\n",
    "nemeses.sort(key=len)\n",
    "for i in nemeses:\n",
    "    if len(i) <= 9:\n",
    "        print ('my nemesis is',i,\"!\")\n",
    "    elif len(i) > 9 and len(i) < 12:\n",
    "        print ('my favorite is',i,\"!\")\n",
    "    else:\n",
    "        print ('but what the heck is a',i,\"?\")"
   ]
  },
  {
   "cell_type": "markdown",
   "id": "90555436",
   "metadata": {},
   "source": [
    "# Thursday 060922   "
   ]
  },
  {
   "cell_type": "code",
   "execution_count": 106,
   "id": "72596cde",
   "metadata": {},
   "outputs": [],
   "source": [
    "#pandas - adds spreadsheet functionality to python (dataframes)\n",
    "import pandas as pd"
   ]
  },
  {
   "cell_type": "code",
   "execution_count": 107,
   "id": "c64bb713",
   "metadata": {},
   "outputs": [],
   "source": [
    "#numpy - adds support for multi-dimensional arrays and matrices, \n",
    "#and several relevant mathematical functions (linear algebra = operations on matrices)\n",
    "import numpy as np"
   ]
  },
  {
   "cell_type": "code",
   "execution_count": 108,
   "id": "aa218508",
   "metadata": {},
   "outputs": [],
   "source": [
    "#matplotlib - adds data visualization functionality and several options for customization\n",
    "import matplotlib as mp\n",
    "#load a specific library from a package\n",
    "import matplotlib.pyplot as plt "
   ]
  },
  {
   "cell_type": "code",
   "execution_count": 109,
   "id": "af25433f",
   "metadata": {},
   "outputs": [],
   "source": [
    "#seaborn - adds a layer on top of matplotlib for additional\n",
    "#out-of-the-box visualization options and several options for\n",
    "#statistical visualizations\n",
    "import seaborn as sb"
   ]
  },
  {
   "cell_type": "code",
   "execution_count": 110,
   "id": "683b2925",
   "metadata": {},
   "outputs": [],
   "source": [
    "#a dataframe is an object\n",
    "df = pd.read_csv('https://raw.githubusercontent.com/CunyLaguardiaDataAnalytics/datasets/master/faithful.csv',index_col=0)"
   ]
  },
  {
   "cell_type": "code",
   "execution_count": 111,
   "id": "601b5320",
   "metadata": {},
   "outputs": [
    {
     "name": "stdout",
     "output_type": "stream",
     "text": [
      "Max\n",
      " eruptions     5.1\n",
      "waiting      96.0\n",
      "dtype: float64\n",
      "Min\n",
      " eruptions     1.6\n",
      "waiting      43.0\n",
      "dtype: float64\n",
      "Mean\n",
      " eruptions     3.487783\n",
      "waiting      70.897059\n",
      "dtype: float64\n",
      "Median\n",
      " eruptions     4.0\n",
      "waiting      76.0\n",
      "dtype: float64\n"
     ]
    },
    {
     "data": {
      "text/html": [
       "<div>\n",
       "<style scoped>\n",
       "    .dataframe tbody tr th:only-of-type {\n",
       "        vertical-align: middle;\n",
       "    }\n",
       "\n",
       "    .dataframe tbody tr th {\n",
       "        vertical-align: top;\n",
       "    }\n",
       "\n",
       "    .dataframe thead th {\n",
       "        text-align: right;\n",
       "    }\n",
       "</style>\n",
       "<table border=\"1\" class=\"dataframe\">\n",
       "  <thead>\n",
       "    <tr style=\"text-align: right;\">\n",
       "      <th></th>\n",
       "      <th>eruptions</th>\n",
       "      <th>waiting</th>\n",
       "    </tr>\n",
       "  </thead>\n",
       "  <tbody>\n",
       "    <tr>\n",
       "      <th>count</th>\n",
       "      <td>272.000000</td>\n",
       "      <td>272.000000</td>\n",
       "    </tr>\n",
       "    <tr>\n",
       "      <th>mean</th>\n",
       "      <td>3.487783</td>\n",
       "      <td>70.897059</td>\n",
       "    </tr>\n",
       "    <tr>\n",
       "      <th>std</th>\n",
       "      <td>1.141371</td>\n",
       "      <td>13.594974</td>\n",
       "    </tr>\n",
       "    <tr>\n",
       "      <th>min</th>\n",
       "      <td>1.600000</td>\n",
       "      <td>43.000000</td>\n",
       "    </tr>\n",
       "    <tr>\n",
       "      <th>25%</th>\n",
       "      <td>2.162750</td>\n",
       "      <td>58.000000</td>\n",
       "    </tr>\n",
       "    <tr>\n",
       "      <th>50%</th>\n",
       "      <td>4.000000</td>\n",
       "      <td>76.000000</td>\n",
       "    </tr>\n",
       "    <tr>\n",
       "      <th>75%</th>\n",
       "      <td>4.454250</td>\n",
       "      <td>82.000000</td>\n",
       "    </tr>\n",
       "    <tr>\n",
       "      <th>max</th>\n",
       "      <td>5.100000</td>\n",
       "      <td>96.000000</td>\n",
       "    </tr>\n",
       "  </tbody>\n",
       "</table>\n",
       "</div>"
      ],
      "text/plain": [
       "        eruptions     waiting\n",
       "count  272.000000  272.000000\n",
       "mean     3.487783   70.897059\n",
       "std      1.141371   13.594974\n",
       "min      1.600000   43.000000\n",
       "25%      2.162750   58.000000\n",
       "50%      4.000000   76.000000\n",
       "75%      4.454250   82.000000\n",
       "max      5.100000   96.000000"
      ]
     },
     "execution_count": 111,
     "metadata": {},
     "output_type": "execute_result"
    }
   ],
   "source": [
    "df.head(10) \n",
    "df.tail(10)\n",
    "print (\"Max\\n\",df.max())\n",
    "print (\"Min\\n\",df.min())\n",
    "print (\"Mean\\n\",df.mean())\n",
    "print (\"Median\\n\",df.median())\n",
    "#describe will output multiple summary metrics\n",
    "df.describe()"
   ]
  },
  {
   "cell_type": "code",
   "execution_count": 112,
   "id": "9ec0d15b",
   "metadata": {},
   "outputs": [
    {
     "data": {
      "text/plain": [
       "1    3.600\n",
       "2    1.800\n",
       "3    3.333\n",
       "4    2.283\n",
       "5    4.533\n",
       "Name: eruptions, dtype: float64"
      ]
     },
     "execution_count": 112,
     "metadata": {},
     "output_type": "execute_result"
    }
   ],
   "source": [
    "#targeting specific columns. columns drive complexity, rows are trivial\n",
    "#in pandas, lists are called ARRAYS\n",
    "#to call a specific column, we input it as a list-like thing. What is in the [] is turned into an array\n",
    "df['eruptions'].head()"
   ]
  },
  {
   "cell_type": "code",
   "execution_count": 113,
   "id": "295b0cae",
   "metadata": {},
   "outputs": [
    {
     "data": {
      "text/plain": [
       "<AxesSubplot:>"
      ]
     },
     "execution_count": 113,
     "metadata": {},
     "output_type": "execute_result"
    },
    {
     "data": {
      "image/png": "[encoded data removed]",
      "text/plain": [
       "<Figure size 432x288 with 1 Axes>"
      ]
     },
     "metadata": {
      "needs_background": "light"
     },
     "output_type": "display_data"
    }
   ],
   "source": [
    "#visualizations\n",
    "#df['eruptions'].plot()\n",
    "df['waiting'].hist()"
   ]
  },
  {
   "cell_type": "code",
   "execution_count": 114,
   "id": "2a004dab",
   "metadata": {},
   "outputs": [
    {
     "data": {
      "text/plain": [
       "<AxesSubplot:>"
      ]
     },
     "execution_count": 114,
     "metadata": {},
     "output_type": "execute_result"
    },
    {
     "data": {
      "image/png": "[encoded data removed]",
      "text/plain": [
       "<Figure size 432x288 with 1 Axes>"
      ]
     },
     "metadata": {
      "needs_background": "light"
     },
     "output_type": "display_data"
    }
   ],
   "source": [
    "df['eruptions'].hist()"
   ]
  },
  {
   "cell_type": "code",
   "execution_count": 115,
   "id": "b5d05801",
   "metadata": {},
   "outputs": [
    {
     "data": {
      "text/plain": [
       "Index(['eruptions', 'waiting'], dtype='object')"
      ]
     },
     "execution_count": 115,
     "metadata": {},
     "output_type": "execute_result"
    }
   ],
   "source": [
    "#getting all the column IDs\n",
    "df.columns"
   ]
  },
  {
   "cell_type": "code",
   "execution_count": 116,
   "id": "8d6a81c6",
   "metadata": {},
   "outputs": [
    {
     "data": {
      "text/plain": [
       "<AxesSubplot:xlabel='eruptions', ylabel='waiting'>"
      ]
     },
     "execution_count": 116,
     "metadata": {},
     "output_type": "execute_result"
    },
    {
     "data": {
      "image/png": "[encoded data removed]",
      "text/plain": [
       "<Figure size 432x288 with 1 Axes>"
      ]
     },
     "metadata": {
      "needs_background": "light"
     },
     "output_type": "display_data"
    },
    {
     "data": {
      "image/png": "[encoded data removed]",
      "text/plain": [
       "<Figure size 432x288 with 1 Axes>"
      ]
     },
     "metadata": {
      "needs_background": "light"
     },
     "output_type": "display_data"
    }
   ],
   "source": [
    "#adding fanciness\n",
    "df.plot(kind='scatter',y='waiting',x='eruptions')\n",
    "df.plot(kind='scatter',x='eruptions',y='waiting')"
   ]
  },
  {
   "cell_type": "markdown",
   "id": "e91e0f75",
   "metadata": {},
   "source": [
    "# 061422 class notes  "
   ]
  },
  {
   "cell_type": "code",
   "execution_count": 117,
   "id": "e677d734",
   "metadata": {},
   "outputs": [],
   "source": [
    "df=pd.read_csv ('https://raw.githubusercontent.com/CunyLaguardiaDataAnalytics/datasets/master/faithful.csv')"
   ]
  },
  {
   "cell_type": "code",
   "execution_count": 118,
   "id": "c50bbe9f",
   "metadata": {},
   "outputs": [
    {
     "data": {
      "text/html": [
       "<div>\n",
       "<style scoped>\n",
       "    .dataframe tbody tr th:only-of-type {\n",
       "        vertical-align: middle;\n",
       "    }\n",
       "\n",
       "    .dataframe tbody tr th {\n",
       "        vertical-align: top;\n",
       "    }\n",
       "\n",
       "    .dataframe thead th {\n",
       "        text-align: right;\n",
       "    }\n",
       "</style>\n",
       "<table border=\"1\" class=\"dataframe\">\n",
       "  <thead>\n",
       "    <tr style=\"text-align: right;\">\n",
       "      <th></th>\n",
       "      <th>Unnamed: 0</th>\n",
       "      <th>eruptions</th>\n",
       "      <th>waiting</th>\n",
       "    </tr>\n",
       "  </thead>\n",
       "  <tbody>\n",
       "    <tr>\n",
       "      <th>0</th>\n",
       "      <td>1</td>\n",
       "      <td>3.600</td>\n",
       "      <td>79</td>\n",
       "    </tr>\n",
       "    <tr>\n",
       "      <th>1</th>\n",
       "      <td>2</td>\n",
       "      <td>1.800</td>\n",
       "      <td>54</td>\n",
       "    </tr>\n",
       "    <tr>\n",
       "      <th>2</th>\n",
       "      <td>3</td>\n",
       "      <td>3.333</td>\n",
       "      <td>74</td>\n",
       "    </tr>\n",
       "    <tr>\n",
       "      <th>3</th>\n",
       "      <td>4</td>\n",
       "      <td>2.283</td>\n",
       "      <td>62</td>\n",
       "    </tr>\n",
       "    <tr>\n",
       "      <th>4</th>\n",
       "      <td>5</td>\n",
       "      <td>4.533</td>\n",
       "      <td>85</td>\n",
       "    </tr>\n",
       "  </tbody>\n",
       "</table>\n",
       "</div>"
      ],
      "text/plain": [
       "   Unnamed: 0  eruptions  waiting\n",
       "0           1      3.600       79\n",
       "1           2      1.800       54\n",
       "2           3      3.333       74\n",
       "3           4      2.283       62\n",
       "4           5      4.533       85"
      ]
     },
     "execution_count": 118,
     "metadata": {},
     "output_type": "execute_result"
    }
   ],
   "source": [
    "df.head()"
   ]
  },
  {
   "cell_type": "code",
   "execution_count": 119,
   "id": "7fc384ca",
   "metadata": {},
   "outputs": [
    {
     "data": {
      "text/plain": [
       "array([[<AxesSubplot:title={'center':'Unnamed: 0'}>,\n",
       "        <AxesSubplot:title={'center':'eruptions'}>],\n",
       "       [<AxesSubplot:title={'center':'waiting'}>, <AxesSubplot:>]],\n",
       "      dtype=object)"
      ]
     },
     "execution_count": 119,
     "metadata": {},
     "output_type": "execute_result"
    },
    {
     "data": {
      "image/png": "[encoded data removed]",
      "text/plain": [
       "<Figure size 432x288 with 4 Axes>"
      ]
     },
     "metadata": {
      "needs_background": "light"
     },
     "output_type": "display_data"
    }
   ],
   "source": [
    "df.hist()"
   ]
  },
  {
   "cell_type": "code",
   "execution_count": 120,
   "id": "177a6c4e",
   "metadata": {},
   "outputs": [
    {
     "data": {
      "text/plain": [
       "<AxesSubplot:>"
      ]
     },
     "execution_count": 120,
     "metadata": {},
     "output_type": "execute_result"
    },
    {
     "data": {
      "image/png": "[encoded data removed]",
      "text/plain": [
       "<Figure size 432x288 with 1 Axes>"
      ]
     },
     "metadata": {
      "needs_background": "light"
     },
     "output_type": "display_data"
    }
   ],
   "source": [
    "df.boxplot()"
   ]
  },
  {
   "cell_type": "markdown",
   "id": "3e40d42d",
   "metadata": {},
   "source": [
    "# 061622 Thursday   "
   ]
  },
  {
   "cell_type": "code",
   "execution_count": 121,
   "id": "2b706bec",
   "metadata": {},
   "outputs": [
    {
     "data": {
      "text/plain": [
       "0    3.600\n",
       "1    1.800\n",
       "2    3.333\n",
       "3    2.283\n",
       "4    4.533\n",
       "Name: eruptions, dtype: float64"
      ]
     },
     "execution_count": 121,
     "metadata": {},
     "output_type": "execute_result"
    }
   ],
   "source": [
    "dferupt = df['eruptions']\n",
    "dferupt.head()\n",
    "#while dferupt <= 2.0:\n",
    "    #print(dferupt)\n",
    "    #dferupt += 1\n"
   ]
  },
  {
   "cell_type": "code",
   "execution_count": 122,
   "id": "2754cde8",
   "metadata": {},
   "outputs": [
    {
     "name": "stdout",
     "output_type": "stream",
     "text": [
      "1\n",
      "2\n",
      "3\n",
      "4\n",
      "5\n"
     ]
    }
   ],
   "source": [
    "number = 1\n",
    "while number <= 5:\n",
    "    print(number)\n",
    "    number += 1"
   ]
  },
  {
   "cell_type": "code",
   "execution_count": null,
   "id": "12f9a8e1",
   "metadata": {},
   "outputs": [],
   "source": [
    "prompt = \"Type in a message. Message will print unless you type 'quit'\"\n",
    "message = \"\"\n",
    "while message != \"quit\":\n",
    "    message=input(prompt)\n",
    "    print(message)"
   ]
  },
  {
   "cell_type": "code",
   "execution_count": null,
   "id": "1380aa57",
   "metadata": {},
   "outputs": [],
   "source": [
    "prompt = \"Type in a message. Message will print unless you type 'quit'\"\n",
    "message = \"\"\n",
    "active = True\n",
    "while active:\n",
    "    message=input(prompt)\n",
    "    \n",
    "    if message == \"quit\":\n",
    "        active = False\n",
    "    \n",
    "    else:\n",
    "        print(message)        "
   ]
  },
  {
   "cell_type": "code",
   "execution_count": null,
   "id": "6817d209",
   "metadata": {},
   "outputs": [],
   "source": [
    "df = pd.read_csv(\"https://raw.githubusercontent.com/CunyLaguardiaDataAnalytics/datasets/master/311_Service_Requests_from_2019May.csv\")"
   ]
  },
  {
   "cell_type": "code",
   "execution_count": null,
   "id": "640c0a6c",
   "metadata": {},
   "outputs": [],
   "source": [
    "df.info"
   ]
  },
  {
   "cell_type": "code",
   "execution_count": null,
   "id": "35ca9579",
   "metadata": {},
   "outputs": [],
   "source": [
    "print(df['Created Date'].max())\n",
    "df['Incident Zip'].describe()\n",
    "df['Borough'].describe"
   ]
  },
  {
   "cell_type": "code",
   "execution_count": null,
   "id": "3b668dec",
   "metadata": {},
   "outputs": [],
   "source": [
    "df['Borough'].unique()\n",
    "print(df.groupby(['Borough'])['Unique Key'].count())\n",
    "df.groupby(['Borough']).count()"
   ]
  },
  {
   "cell_type": "code",
   "execution_count": null,
   "id": "ddcd5fbf",
   "metadata": {},
   "outputs": [],
   "source": [
    "df.columns"
   ]
  },
  {
   "cell_type": "code",
   "execution_count": null,
   "id": "3fd3f38b",
   "metadata": {
    "scrolled": true
   },
   "outputs": [],
   "source": [
    "df.head()"
   ]
  },
  {
   "cell_type": "code",
   "execution_count": null,
   "id": "7b30d7c1",
   "metadata": {},
   "outputs": [],
   "source": [
    "dfred = df[['Unique Key', 'Created Date', 'Closed Date','Complaint Type',\n",
    "       'Location Type', 'Incident Zip','Resolution Description','Location']]"
   ]
  },
  {
   "cell_type": "code",
   "execution_count": null,
   "id": "ca91fda1",
   "metadata": {},
   "outputs": [],
   "source": [
    "dfred.head()"
   ]
  },
  {
   "cell_type": "code",
   "execution_count": null,
   "id": "0438b399",
   "metadata": {},
   "outputs": [],
   "source": [
    "dfred['Created Date'] = pd.to_datetime(dfred['Created Date'], errors='coerce')\n",
    "dfred['Closed Date'] = pd.to_datetime(dfred['Closed Date'], errors='coerce')\n",
    "dfred.info()"
   ]
  },
  {
   "cell_type": "code",
   "execution_count": null,
   "id": "95d18af4",
   "metadata": {},
   "outputs": [],
   "source": [
    "dfred.head()"
   ]
  },
  {
   "cell_type": "code",
   "execution_count": null,
   "id": "2ef501dd",
   "metadata": {},
   "outputs": [],
   "source": [
    "dfred['time_to_resolve'] = (dfred['Closed Date'] - dfred['Created Date']).dt.days\n",
    "dfred.head(20)"
   ]
  },
  {
   "cell_type": "code",
   "execution_count": null,
   "id": "b2a1ec92",
   "metadata": {},
   "outputs": [],
   "source": [
    "#dfred['time_to_resolve'].head()\n",
    "#print(dfred.groupby(['time_to_resolve'])['Unique Key'].count().sort_values)\n",
    "dfred.head\n",
    "dfred2 = dfred[['Unique Key', 'Created Date', 'Closed Date','Complaint Type',\n",
    "       'Location Type', 'Incident Zip','Resolution Description','Location','time_to_resolve']]"
   ]
  },
  {
   "cell_type": "code",
   "execution_count": null,
   "id": "0e2d6467",
   "metadata": {},
   "outputs": [],
   "source": [
    "dfred2.head"
   ]
  },
  {
   "cell_type": "markdown",
   "id": "348c5d3e",
   "metadata": {},
   "source": [
    "# 062822 Tuesday  "
   ]
  },
  {
   "cell_type": "code",
   "execution_count": null,
   "id": "03c8efd6",
   "metadata": {},
   "outputs": [],
   "source": [
    "import statistics as stat"
   ]
  },
  {
   "cell_type": "code",
   "execution_count": null,
   "id": "c88a0d59",
   "metadata": {},
   "outputs": [],
   "source": [
    "import numpy as np\n",
    "import pandas as pd\n",
    "import scipy as sc\n",
    "import sympy as sy\n",
    "import matplotlib as matplot"
   ]
  },
  {
   "cell_type": "code",
   "execution_count": null,
   "id": "894a9e4b",
   "metadata": {},
   "outputs": [],
   "source": [
    "df = pd.read_csv(\"https://raw.githubusercontent.com/CunyLaguardiaDataAnalytics/datasets/master/mtcars.csv\")"
   ]
  },
  {
   "cell_type": "code",
   "execution_count": null,
   "id": "5d2ca838",
   "metadata": {},
   "outputs": [],
   "source": [
    "df.head()\n",
    "df.describe()\n",
    "df.info()\n",
    "df.columns\n",
    "df.sort_values('make_model').head(4)"
   ]
  },
  {
   "cell_type": "code",
   "execution_count": null,
   "id": "a92bec08",
   "metadata": {
    "scrolled": true
   },
   "outputs": [],
   "source": [
    "df = df.rename(columns = {'Unnamed: 0': 'make_model'})\n",
    "df.head"
   ]
  },
  {
   "cell_type": "code",
   "execution_count": null,
   "id": "09359e6f",
   "metadata": {},
   "outputs": [],
   "source": [
    "#when making subset, use \"[[]]\" when selecting more than 1 column, \"[]\" if only 1 column\n",
    "dfmin = df[['make_model', 'am','mpg', 'hp','wt','cyl']]\n",
    "dfmin = dfmin.rename(columns = {'mpg':'miles_per_gallon','hp':'horse_power','cyl':'cylinders','wt':'weight','am':'trans_type'})\n",
    "print(dfmin.head(4))\n",
    "#dfmin.unique('make_model')\n",
    "dfmin.describe()\n",
    "dfmin.shape\n",
    "dfmin.dtypes\n",
    "#dfmin[dfmin['miles_per_gallon']>0]\n",
    "#print(dfmin.dtypes)\n",
    "#mean_mpg = stat.mean(dfmin['miles_per_gallon'])\n",
    "#print('mean mpg =' ['mean_mpg'])"
   ]
  },
  {
   "cell_type": "code",
   "execution_count": null,
   "id": "ca489b6c",
   "metadata": {},
   "outputs": [],
   "source": [
    "dfmin[dfmin['miles_per_gallon']>0].mean()"
   ]
  },
  {
   "cell_type": "code",
   "execution_count": null,
   "id": "b1da6172",
   "metadata": {},
   "outputs": [],
   "source": [
    "dfmin.groupby(['cylinders'])['miles_per_gallon'].describe()"
   ]
  },
  {
   "cell_type": "code",
   "execution_count": null,
   "id": "5d60da52",
   "metadata": {},
   "outputs": [],
   "source": [
    "dfmin.dtypes\n",
    "dfmin.plot.scatter(x='horse_power', y='miles_per_gallon', s=20);"
   ]
  },
  {
   "cell_type": "code",
   "execution_count": null,
   "id": "fcb38a72",
   "metadata": {},
   "outputs": [],
   "source": [
    "dfmerc=dfmin.loc[dfmin['make_model'].str.contains('Merc')]\n",
    "dfmerc.head()"
   ]
  },
  {
   "cell_type": "markdown",
   "id": "da5f13bc",
   "metadata": {},
   "source": [
    "# 063022 class  "
   ]
  },
  {
   "cell_type": "code",
   "execution_count": 1,
   "id": "1411a983",
   "metadata": {},
   "outputs": [],
   "source": [
    "import pandas as pd\n",
    "import numpy as np"
   ]
  },
  {
   "cell_type": "code",
   "execution_count": 17,
   "id": "932bc45b",
   "metadata": {},
   "outputs": [],
   "source": [
    "df = {'A':[1,2,np.nan], 'B':[3,np.nan,np.nan]}\n",
    "df = pd.DataFrame(df)"
   ]
  },
  {
   "cell_type": "code",
   "execution_count": 18,
   "id": "b1243a88",
   "metadata": {
    "scrolled": false
   },
   "outputs": [
    {
     "name": "stdout",
     "output_type": "stream",
     "text": [
      "<class 'pandas.core.frame.DataFrame'>\n",
      "RangeIndex: 3 entries, 0 to 2\n",
      "Data columns (total 2 columns):\n",
      " #   Column  Non-Null Count  Dtype  \n",
      "---  ------  --------------  -----  \n",
      " 0   A       2 non-null      float64\n",
      " 1   B       1 non-null      float64\n",
      "dtypes: float64(2)\n",
      "memory usage: 176.0 bytes\n"
     ]
    },
    {
     "data": {
      "text/html": [
       "<div>\n",
       "<style scoped>\n",
       "    .dataframe tbody tr th:only-of-type {\n",
       "        vertical-align: middle;\n",
       "    }\n",
       "\n",
       "    .dataframe tbody tr th {\n",
       "        vertical-align: top;\n",
       "    }\n",
       "\n",
       "    .dataframe thead th {\n",
       "        text-align: right;\n",
       "    }\n",
       "</style>\n",
       "<table border=\"1\" class=\"dataframe\">\n",
       "  <thead>\n",
       "    <tr style=\"text-align: right;\">\n",
       "      <th></th>\n",
       "      <th>A</th>\n",
       "      <th>B</th>\n",
       "    </tr>\n",
       "  </thead>\n",
       "  <tbody>\n",
       "    <tr>\n",
       "      <th>0</th>\n",
       "      <td>1.0</td>\n",
       "      <td>3.0</td>\n",
       "    </tr>\n",
       "    <tr>\n",
       "      <th>1</th>\n",
       "      <td>2.0</td>\n",
       "      <td>NaN</td>\n",
       "    </tr>\n",
       "    <tr>\n",
       "      <th>2</th>\n",
       "      <td>NaN</td>\n",
       "      <td>NaN</td>\n",
       "    </tr>\n",
       "  </tbody>\n",
       "</table>\n",
       "</div>"
      ],
      "text/plain": [
       "     A    B\n",
       "0  1.0  3.0\n",
       "1  2.0  NaN\n",
       "2  NaN  NaN"
      ]
     },
     "execution_count": 18,
     "metadata": {},
     "output_type": "execute_result"
    }
   ],
   "source": [
    "df.info()\n",
    "df.head()"
   ]
  },
  {
   "cell_type": "code",
   "execution_count": 12,
   "id": "591aba72",
   "metadata": {},
   "outputs": [
    {
     "data": {
      "text/plain": [
       "3"
      ]
     },
     "execution_count": 12,
     "metadata": {},
     "output_type": "execute_result"
    }
   ],
   "source": [
    "#finding and counting missing values in the dataframe\n",
    "#by column\n",
    "df.isnull().sum()\n",
    "#total across all columns\n",
    "df.isnull().sum().sum()\n"
   ]
  },
  {
   "cell_type": "code",
   "execution_count": 13,
   "id": "5737ab9c",
   "metadata": {},
   "outputs": [
    {
     "data": {
      "text/html": [
       "<div>\n",
       "<style scoped>\n",
       "    .dataframe tbody tr th:only-of-type {\n",
       "        vertical-align: middle;\n",
       "    }\n",
       "\n",
       "    .dataframe tbody tr th {\n",
       "        vertical-align: top;\n",
       "    }\n",
       "\n",
       "    .dataframe thead th {\n",
       "        text-align: right;\n",
       "    }\n",
       "</style>\n",
       "<table border=\"1\" class=\"dataframe\">\n",
       "  <thead>\n",
       "    <tr style=\"text-align: right;\">\n",
       "      <th></th>\n",
       "      <th>A</th>\n",
       "      <th>B</th>\n",
       "    </tr>\n",
       "  </thead>\n",
       "  <tbody>\n",
       "    <tr>\n",
       "      <th>0</th>\n",
       "      <td>1.0</td>\n",
       "      <td>3.0</td>\n",
       "    </tr>\n",
       "  </tbody>\n",
       "</table>\n",
       "</div>"
      ],
      "text/plain": [
       "     A    B\n",
       "0  1.0  3.0"
      ]
     },
     "execution_count": 13,
     "metadata": {},
     "output_type": "execute_result"
    }
   ],
   "source": [
    "#to drop all missing values\n",
    "df.dropna()"
   ]
  },
  {
   "cell_type": "code",
   "execution_count": 26,
   "id": "688d2d7b",
   "metadata": {},
   "outputs": [
    {
     "data": {
      "text/html": [
       "<div>\n",
       "<style scoped>\n",
       "    .dataframe tbody tr th:only-of-type {\n",
       "        vertical-align: middle;\n",
       "    }\n",
       "\n",
       "    .dataframe tbody tr th {\n",
       "        vertical-align: top;\n",
       "    }\n",
       "\n",
       "    .dataframe thead th {\n",
       "        text-align: right;\n",
       "    }\n",
       "</style>\n",
       "<table border=\"1\" class=\"dataframe\">\n",
       "  <thead>\n",
       "    <tr style=\"text-align: right;\">\n",
       "      <th></th>\n",
       "      <th>A</th>\n",
       "      <th>B</th>\n",
       "    </tr>\n",
       "  </thead>\n",
       "  <tbody>\n",
       "    <tr>\n",
       "      <th>0</th>\n",
       "      <td>1.0</td>\n",
       "      <td>3.0</td>\n",
       "    </tr>\n",
       "    <tr>\n",
       "      <th>1</th>\n",
       "      <td>2.0</td>\n",
       "      <td>NaN</td>\n",
       "    </tr>\n",
       "    <tr>\n",
       "      <th>2</th>\n",
       "      <td>NaN</td>\n",
       "      <td>NaN</td>\n",
       "    </tr>\n",
       "  </tbody>\n",
       "</table>\n",
       "</div>"
      ],
      "text/plain": [
       "     A    B\n",
       "0  1.0  3.0\n",
       "1  2.0  NaN\n",
       "2  NaN  NaN"
      ]
     },
     "execution_count": 26,
     "metadata": {},
     "output_type": "execute_result"
    }
   ],
   "source": [
    "df.head()"
   ]
  },
  {
   "cell_type": "code",
   "execution_count": 23,
   "id": "1dcbb691",
   "metadata": {},
   "outputs": [
    {
     "data": {
      "text/html": [
       "<div>\n",
       "<style scoped>\n",
       "    .dataframe tbody tr th:only-of-type {\n",
       "        vertical-align: middle;\n",
       "    }\n",
       "\n",
       "    .dataframe tbody tr th {\n",
       "        vertical-align: top;\n",
       "    }\n",
       "\n",
       "    .dataframe thead th {\n",
       "        text-align: right;\n",
       "    }\n",
       "</style>\n",
       "<table border=\"1\" class=\"dataframe\">\n",
       "  <thead>\n",
       "    <tr style=\"text-align: right;\">\n",
       "      <th></th>\n",
       "      <th>A</th>\n",
       "      <th>B</th>\n",
       "    </tr>\n",
       "  </thead>\n",
       "  <tbody>\n",
       "    <tr>\n",
       "      <th>0</th>\n",
       "      <td>1.0</td>\n",
       "      <td>3.0</td>\n",
       "    </tr>\n",
       "  </tbody>\n",
       "</table>\n",
       "</div>"
      ],
      "text/plain": [
       "     A    B\n",
       "0  1.0  3.0"
      ]
     },
     "execution_count": 23,
     "metadata": {},
     "output_type": "execute_result"
    }
   ],
   "source": [
    "#drop any row that contains missing values\n",
    "df.dropna(axis=0)"
   ]
  },
  {
   "cell_type": "code",
   "execution_count": 24,
   "id": "5784685b",
   "metadata": {},
   "outputs": [
    {
     "data": {
      "text/html": [
       "<div>\n",
       "<style scoped>\n",
       "    .dataframe tbody tr th:only-of-type {\n",
       "        vertical-align: middle;\n",
       "    }\n",
       "\n",
       "    .dataframe tbody tr th {\n",
       "        vertical-align: top;\n",
       "    }\n",
       "\n",
       "    .dataframe thead th {\n",
       "        text-align: right;\n",
       "    }\n",
       "</style>\n",
       "<table border=\"1\" class=\"dataframe\">\n",
       "  <thead>\n",
       "    <tr style=\"text-align: right;\">\n",
       "      <th></th>\n",
       "    </tr>\n",
       "  </thead>\n",
       "  <tbody>\n",
       "    <tr>\n",
       "      <th>0</th>\n",
       "    </tr>\n",
       "    <tr>\n",
       "      <th>1</th>\n",
       "    </tr>\n",
       "    <tr>\n",
       "      <th>2</th>\n",
       "    </tr>\n",
       "  </tbody>\n",
       "</table>\n",
       "</div>"
      ],
      "text/plain": [
       "Empty DataFrame\n",
       "Columns: []\n",
       "Index: [0, 1, 2]"
      ]
     },
     "execution_count": 24,
     "metadata": {},
     "output_type": "execute_result"
    }
   ],
   "source": [
    "#drop any column that contains missing values\n",
    "df.dropna(axis=1)"
   ]
  },
  {
   "cell_type": "code",
   "execution_count": 37,
   "id": "41e1265c",
   "metadata": {},
   "outputs": [
    {
     "data": {
      "text/html": [
       "<div>\n",
       "<style scoped>\n",
       "    .dataframe tbody tr th:only-of-type {\n",
       "        vertical-align: middle;\n",
       "    }\n",
       "\n",
       "    .dataframe tbody tr th {\n",
       "        vertical-align: top;\n",
       "    }\n",
       "\n",
       "    .dataframe thead th {\n",
       "        text-align: right;\n",
       "    }\n",
       "</style>\n",
       "<table border=\"1\" class=\"dataframe\">\n",
       "  <thead>\n",
       "    <tr style=\"text-align: right;\">\n",
       "      <th></th>\n",
       "      <th>A</th>\n",
       "      <th>B</th>\n",
       "    </tr>\n",
       "  </thead>\n",
       "  <tbody>\n",
       "    <tr>\n",
       "      <th>0</th>\n",
       "      <td>1.0</td>\n",
       "      <td>3.0</td>\n",
       "    </tr>\n",
       "    <tr>\n",
       "      <th>1</th>\n",
       "      <td>2.0</td>\n",
       "      <td>NaN</td>\n",
       "    </tr>\n",
       "  </tbody>\n",
       "</table>\n",
       "</div>"
      ],
      "text/plain": [
       "     A    B\n",
       "0  1.0  3.0\n",
       "1  2.0  NaN"
      ]
     },
     "execution_count": 37,
     "metadata": {},
     "output_type": "execute_result"
    }
   ],
   "source": [
    "#to require X number of non-missing values, use thresh (where the thresh means \"there must be this many non-missing columns in a row\")\n",
    "df.dropna(thresh=1) \n",
    "#df.dropna(thresh=1) \n",
    "#df.dropna(thresh=5) \n"
   ]
  },
  {
   "cell_type": "code",
   "execution_count": 44,
   "id": "d416ed65",
   "metadata": {},
   "outputs": [
    {
     "data": {
      "text/html": [
       "<div>\n",
       "<style scoped>\n",
       "    .dataframe tbody tr th:only-of-type {\n",
       "        vertical-align: middle;\n",
       "    }\n",
       "\n",
       "    .dataframe tbody tr th {\n",
       "        vertical-align: top;\n",
       "    }\n",
       "\n",
       "    .dataframe thead th {\n",
       "        text-align: right;\n",
       "    }\n",
       "</style>\n",
       "<table border=\"1\" class=\"dataframe\">\n",
       "  <thead>\n",
       "    <tr style=\"text-align: right;\">\n",
       "      <th></th>\n",
       "      <th>A</th>\n",
       "      <th>B</th>\n",
       "    </tr>\n",
       "  </thead>\n",
       "  <tbody>\n",
       "    <tr>\n",
       "      <th>0</th>\n",
       "      <td>1.0</td>\n",
       "      <td>3.0</td>\n",
       "    </tr>\n",
       "    <tr>\n",
       "      <th>1</th>\n",
       "      <td>2.0</td>\n",
       "      <td>5.5</td>\n",
       "    </tr>\n",
       "    <tr>\n",
       "      <th>2</th>\n",
       "      <td>5.5</td>\n",
       "      <td>5.5</td>\n",
       "    </tr>\n",
       "  </tbody>\n",
       "</table>\n",
       "</div>"
      ],
      "text/plain": [
       "     A    B\n",
       "0  1.0  3.0\n",
       "1  2.0  5.5\n",
       "2  5.5  5.5"
      ]
     },
     "execution_count": 44,
     "metadata": {},
     "output_type": "execute_result"
    }
   ],
   "source": [
    "#to replace all missing data with the same new value\n",
    "#to replace with a string\n",
    "df.fillna(value='bob') \n",
    "#to replace with an integer or float\n",
    "df.fillna(5.5)"
   ]
  },
  {
   "cell_type": "markdown",
   "id": "2e774899",
   "metadata": {},
   "source": [
    "# 070522  "
   ]
  },
  {
   "cell_type": "code",
   "execution_count": 120,
   "id": "d77244bf",
   "metadata": {},
   "outputs": [],
   "source": [
    "#a new data set!\n",
    "df = pd.read_csv('https://raw.githubusercontent.com/CunyLaguardiaDataAnalytics/datasets/master/Salaries.csv')"
   ]
  },
  {
   "cell_type": "code",
   "execution_count": 121,
   "id": "0e2f2209",
   "metadata": {},
   "outputs": [
    {
     "data": {
      "text/html": [
       "<div>\n",
       "<style scoped>\n",
       "    .dataframe tbody tr th:only-of-type {\n",
       "        vertical-align: middle;\n",
       "    }\n",
       "\n",
       "    .dataframe tbody tr th {\n",
       "        vertical-align: top;\n",
       "    }\n",
       "\n",
       "    .dataframe thead th {\n",
       "        text-align: right;\n",
       "    }\n",
       "</style>\n",
       "<table border=\"1\" class=\"dataframe\">\n",
       "  <thead>\n",
       "    <tr style=\"text-align: right;\">\n",
       "      <th></th>\n",
       "      <th>Unnamed: 0</th>\n",
       "      <th>rank</th>\n",
       "      <th>discipline</th>\n",
       "      <th>yrs.since.phd</th>\n",
       "      <th>yrs.service</th>\n",
       "      <th>sex</th>\n",
       "      <th>salary</th>\n",
       "    </tr>\n",
       "  </thead>\n",
       "  <tbody>\n",
       "    <tr>\n",
       "      <th>0</th>\n",
       "      <td>1</td>\n",
       "      <td>Prof</td>\n",
       "      <td>B</td>\n",
       "      <td>19</td>\n",
       "      <td>18</td>\n",
       "      <td>Male</td>\n",
       "      <td>139750</td>\n",
       "    </tr>\n",
       "    <tr>\n",
       "      <th>1</th>\n",
       "      <td>2</td>\n",
       "      <td>Prof</td>\n",
       "      <td>B</td>\n",
       "      <td>20</td>\n",
       "      <td>16</td>\n",
       "      <td>Male</td>\n",
       "      <td>173200</td>\n",
       "    </tr>\n",
       "    <tr>\n",
       "      <th>2</th>\n",
       "      <td>3</td>\n",
       "      <td>AsstProf</td>\n",
       "      <td>B</td>\n",
       "      <td>4</td>\n",
       "      <td>3</td>\n",
       "      <td>Male</td>\n",
       "      <td>79750</td>\n",
       "    </tr>\n",
       "    <tr>\n",
       "      <th>3</th>\n",
       "      <td>4</td>\n",
       "      <td>Prof</td>\n",
       "      <td>B</td>\n",
       "      <td>45</td>\n",
       "      <td>39</td>\n",
       "      <td>Male</td>\n",
       "      <td>115000</td>\n",
       "    </tr>\n",
       "  </tbody>\n",
       "</table>\n",
       "</div>"
      ],
      "text/plain": [
       "   Unnamed: 0      rank discipline  yrs.since.phd  yrs.service   sex  salary\n",
       "0           1      Prof          B             19           18  Male  139750\n",
       "1           2      Prof          B             20           16  Male  173200\n",
       "2           3  AsstProf          B              4            3  Male   79750\n",
       "3           4      Prof          B             45           39  Male  115000"
      ]
     },
     "execution_count": 121,
     "metadata": {},
     "output_type": "execute_result"
    }
   ],
   "source": [
    "#Inspect the data\n",
    "df.head(4)\n",
    "#df.tail()"
   ]
  },
  {
   "cell_type": "code",
   "execution_count": 122,
   "id": "85ccd34b",
   "metadata": {},
   "outputs": [
    {
     "data": {
      "text/html": [
       "<div>\n",
       "<style scoped>\n",
       "    .dataframe tbody tr th:only-of-type {\n",
       "        vertical-align: middle;\n",
       "    }\n",
       "\n",
       "    .dataframe tbody tr th {\n",
       "        vertical-align: top;\n",
       "    }\n",
       "\n",
       "    .dataframe thead th {\n",
       "        text-align: right;\n",
       "    }\n",
       "</style>\n",
       "<table border=\"1\" class=\"dataframe\">\n",
       "  <thead>\n",
       "    <tr style=\"text-align: right;\">\n",
       "      <th></th>\n",
       "      <th>Unnamed: 0</th>\n",
       "      <th>yrs.since.phd</th>\n",
       "      <th>yrs.service</th>\n",
       "      <th>salary</th>\n",
       "    </tr>\n",
       "  </thead>\n",
       "  <tbody>\n",
       "    <tr>\n",
       "      <th>count</th>\n",
       "      <td>397.000000</td>\n",
       "      <td>397.000000</td>\n",
       "      <td>397.000000</td>\n",
       "      <td>397.000000</td>\n",
       "    </tr>\n",
       "    <tr>\n",
       "      <th>mean</th>\n",
       "      <td>199.000000</td>\n",
       "      <td>22.314861</td>\n",
       "      <td>17.614610</td>\n",
       "      <td>113706.458438</td>\n",
       "    </tr>\n",
       "    <tr>\n",
       "      <th>std</th>\n",
       "      <td>114.748275</td>\n",
       "      <td>12.887003</td>\n",
       "      <td>13.006024</td>\n",
       "      <td>30289.038695</td>\n",
       "    </tr>\n",
       "    <tr>\n",
       "      <th>min</th>\n",
       "      <td>1.000000</td>\n",
       "      <td>1.000000</td>\n",
       "      <td>0.000000</td>\n",
       "      <td>57800.000000</td>\n",
       "    </tr>\n",
       "    <tr>\n",
       "      <th>25%</th>\n",
       "      <td>100.000000</td>\n",
       "      <td>12.000000</td>\n",
       "      <td>7.000000</td>\n",
       "      <td>91000.000000</td>\n",
       "    </tr>\n",
       "    <tr>\n",
       "      <th>50%</th>\n",
       "      <td>199.000000</td>\n",
       "      <td>21.000000</td>\n",
       "      <td>16.000000</td>\n",
       "      <td>107300.000000</td>\n",
       "    </tr>\n",
       "    <tr>\n",
       "      <th>75%</th>\n",
       "      <td>298.000000</td>\n",
       "      <td>32.000000</td>\n",
       "      <td>27.000000</td>\n",
       "      <td>134185.000000</td>\n",
       "    </tr>\n",
       "    <tr>\n",
       "      <th>max</th>\n",
       "      <td>397.000000</td>\n",
       "      <td>56.000000</td>\n",
       "      <td>60.000000</td>\n",
       "      <td>231545.000000</td>\n",
       "    </tr>\n",
       "  </tbody>\n",
       "</table>\n",
       "</div>"
      ],
      "text/plain": [
       "       Unnamed: 0  yrs.since.phd  yrs.service         salary\n",
       "count  397.000000     397.000000   397.000000     397.000000\n",
       "mean   199.000000      22.314861    17.614610  113706.458438\n",
       "std    114.748275      12.887003    13.006024   30289.038695\n",
       "min      1.000000       1.000000     0.000000   57800.000000\n",
       "25%    100.000000      12.000000     7.000000   91000.000000\n",
       "50%    199.000000      21.000000    16.000000  107300.000000\n",
       "75%    298.000000      32.000000    27.000000  134185.000000\n",
       "max    397.000000      56.000000    60.000000  231545.000000"
      ]
     },
     "execution_count": 122,
     "metadata": {},
     "output_type": "execute_result"
    }
   ],
   "source": [
    "#Get an overview\n",
    "df.info\n",
    "df.shape\n",
    "df.columns\n",
    "df.describe()"
   ]
  },
  {
   "cell_type": "code",
   "execution_count": 123,
   "id": "3122cd2d",
   "metadata": {},
   "outputs": [
    {
     "data": {
      "text/plain": [
       "Index(['Unnamed: 0', 'rank', 'discipline', 'yrs.since.phd', 'yrs.service',\n",
       "       'sex', 'salary'],\n",
       "      dtype='object')"
      ]
     },
     "execution_count": 123,
     "metadata": {},
     "output_type": "execute_result"
    }
   ],
   "source": [
    "df.columns"
   ]
  },
  {
   "cell_type": "code",
   "execution_count": 124,
   "id": "ad47484c",
   "metadata": {},
   "outputs": [
    {
     "data": {
      "text/plain": [
       "True"
      ]
     },
     "execution_count": 124,
     "metadata": {},
     "output_type": "execute_result"
    }
   ],
   "source": [
    "#Are the values in the \"Unnamed: 0\" column, which is a built-in index that is part of the original csv\n",
    "df['Unnamed: 0'].is_unique"
   ]
  },
  {
   "cell_type": "code",
   "execution_count": 125,
   "id": "c9a9f87b",
   "metadata": {},
   "outputs": [
    {
     "data": {
      "text/plain": [
       "0"
      ]
     },
     "execution_count": 125,
     "metadata": {},
     "output_type": "execute_result"
    }
   ],
   "source": [
    "#Are there missing values in any row?\n",
    "df.isnull().sum()\n",
    "df.isnull().sum().sum()\n",
    "#df.notnull().sum()"
   ]
  },
  {
   "cell_type": "code",
   "execution_count": 126,
   "id": "f2657e2c",
   "metadata": {},
   "outputs": [
    {
     "data": {
      "text/plain": [
       "0      False\n",
       "1      False\n",
       "2      False\n",
       "3      False\n",
       "4      False\n",
       "       ...  \n",
       "392    False\n",
       "393    False\n",
       "394    False\n",
       "395    False\n",
       "396    False\n",
       "Length: 397, dtype: bool"
      ]
     },
     "execution_count": 126,
     "metadata": {},
     "output_type": "execute_result"
    }
   ],
   "source": [
    "#Are there duplicate rows?\n",
    "df.duplicated()"
   ]
  },
  {
   "cell_type": "code",
   "execution_count": 127,
   "id": "221b7e4f",
   "metadata": {},
   "outputs": [
    {
     "data": {
      "text/plain": [
       "array([False, False, False, False, False, False, False])"
      ]
     },
     "execution_count": 127,
     "metadata": {},
     "output_type": "execute_result"
    }
   ],
   "source": [
    "#Are there duplicate column names?\n",
    "df.columns.duplicated()"
   ]
  },
  {
   "cell_type": "code",
   "execution_count": 128,
   "id": "631ce2d9",
   "metadata": {},
   "outputs": [
    {
     "data": {
      "text/html": [
       "<div>\n",
       "<style scoped>\n",
       "    .dataframe tbody tr th:only-of-type {\n",
       "        vertical-align: middle;\n",
       "    }\n",
       "\n",
       "    .dataframe tbody tr th {\n",
       "        vertical-align: top;\n",
       "    }\n",
       "\n",
       "    .dataframe thead th {\n",
       "        text-align: right;\n",
       "    }\n",
       "</style>\n",
       "<table border=\"1\" class=\"dataframe\">\n",
       "  <thead>\n",
       "    <tr style=\"text-align: right;\">\n",
       "      <th></th>\n",
       "      <th>Unnamed: 0</th>\n",
       "      <th>rank</th>\n",
       "      <th>discipline</th>\n",
       "      <th>yrs.since.phd</th>\n",
       "      <th>yrs.service</th>\n",
       "      <th>sex</th>\n",
       "      <th>salary</th>\n",
       "    </tr>\n",
       "  </thead>\n",
       "  <tbody>\n",
       "    <tr>\n",
       "      <th>0</th>\n",
       "      <td>1</td>\n",
       "      <td>Prof</td>\n",
       "      <td>B</td>\n",
       "      <td>19</td>\n",
       "      <td>18</td>\n",
       "      <td>Male</td>\n",
       "      <td>139750</td>\n",
       "    </tr>\n",
       "    <tr>\n",
       "      <th>1</th>\n",
       "      <td>2</td>\n",
       "      <td>Prof</td>\n",
       "      <td>B</td>\n",
       "      <td>20</td>\n",
       "      <td>16</td>\n",
       "      <td>Male</td>\n",
       "      <td>173200</td>\n",
       "    </tr>\n",
       "    <tr>\n",
       "      <th>2</th>\n",
       "      <td>3</td>\n",
       "      <td>AsstProf</td>\n",
       "      <td>B</td>\n",
       "      <td>4</td>\n",
       "      <td>3</td>\n",
       "      <td>Male</td>\n",
       "      <td>79750</td>\n",
       "    </tr>\n",
       "    <tr>\n",
       "      <th>3</th>\n",
       "      <td>4</td>\n",
       "      <td>Prof</td>\n",
       "      <td>B</td>\n",
       "      <td>45</td>\n",
       "      <td>39</td>\n",
       "      <td>Male</td>\n",
       "      <td>115000</td>\n",
       "    </tr>\n",
       "    <tr>\n",
       "      <th>4</th>\n",
       "      <td>5</td>\n",
       "      <td>Prof</td>\n",
       "      <td>B</td>\n",
       "      <td>40</td>\n",
       "      <td>41</td>\n",
       "      <td>Male</td>\n",
       "      <td>141500</td>\n",
       "    </tr>\n",
       "  </tbody>\n",
       "</table>\n",
       "</div>"
      ],
      "text/plain": [
       "   Unnamed: 0      rank discipline  yrs.since.phd  yrs.service   sex  salary\n",
       "0           1      Prof          B             19           18  Male  139750\n",
       "1           2      Prof          B             20           16  Male  173200\n",
       "2           3  AsstProf          B              4            3  Male   79750\n",
       "3           4      Prof          B             45           39  Male  115000\n",
       "4           5      Prof          B             40           41  Male  141500"
      ]
     },
     "execution_count": 128,
     "metadata": {},
     "output_type": "execute_result"
    }
   ],
   "source": [
    "df.head()"
   ]
  },
  {
   "cell_type": "code",
   "execution_count": 129,
   "id": "fc9a4131",
   "metadata": {
    "scrolled": true
   },
   "outputs": [],
   "source": [
    "#??How can I test whether column CONTENTS are duplicated??\n",
    "#Drop specific columns by name\n",
    "#df.drop(\"Unnamed: 0\", axis=1, inplace = True)\n",
    "#df.head()"
   ]
  },
  {
   "cell_type": "code",
   "execution_count": 130,
   "id": "4e1947fc",
   "metadata": {},
   "outputs": [
    {
     "data": {
      "text/html": [
       "<div>\n",
       "<style scoped>\n",
       "    .dataframe tbody tr th:only-of-type {\n",
       "        vertical-align: middle;\n",
       "    }\n",
       "\n",
       "    .dataframe tbody tr th {\n",
       "        vertical-align: top;\n",
       "    }\n",
       "\n",
       "    .dataframe thead th {\n",
       "        text-align: right;\n",
       "    }\n",
       "</style>\n",
       "<table border=\"1\" class=\"dataframe\">\n",
       "  <thead>\n",
       "    <tr style=\"text-align: right;\">\n",
       "      <th></th>\n",
       "      <th>record number</th>\n",
       "      <th>rank</th>\n",
       "      <th>discipline</th>\n",
       "      <th>years since PhD</th>\n",
       "      <th>years at institution</th>\n",
       "      <th>sex</th>\n",
       "      <th>salary</th>\n",
       "    </tr>\n",
       "  </thead>\n",
       "  <tbody>\n",
       "    <tr>\n",
       "      <th>0</th>\n",
       "      <td>1</td>\n",
       "      <td>Prof</td>\n",
       "      <td>B</td>\n",
       "      <td>19</td>\n",
       "      <td>18</td>\n",
       "      <td>Male</td>\n",
       "      <td>139750</td>\n",
       "    </tr>\n",
       "    <tr>\n",
       "      <th>1</th>\n",
       "      <td>2</td>\n",
       "      <td>Prof</td>\n",
       "      <td>B</td>\n",
       "      <td>20</td>\n",
       "      <td>16</td>\n",
       "      <td>Male</td>\n",
       "      <td>173200</td>\n",
       "    </tr>\n",
       "    <tr>\n",
       "      <th>2</th>\n",
       "      <td>3</td>\n",
       "      <td>AsstProf</td>\n",
       "      <td>B</td>\n",
       "      <td>4</td>\n",
       "      <td>3</td>\n",
       "      <td>Male</td>\n",
       "      <td>79750</td>\n",
       "    </tr>\n",
       "    <tr>\n",
       "      <th>3</th>\n",
       "      <td>4</td>\n",
       "      <td>Prof</td>\n",
       "      <td>B</td>\n",
       "      <td>45</td>\n",
       "      <td>39</td>\n",
       "      <td>Male</td>\n",
       "      <td>115000</td>\n",
       "    </tr>\n",
       "    <tr>\n",
       "      <th>4</th>\n",
       "      <td>5</td>\n",
       "      <td>Prof</td>\n",
       "      <td>B</td>\n",
       "      <td>40</td>\n",
       "      <td>41</td>\n",
       "      <td>Male</td>\n",
       "      <td>141500</td>\n",
       "    </tr>\n",
       "  </tbody>\n",
       "</table>\n",
       "</div>"
      ],
      "text/plain": [
       "   record number      rank discipline  years since PhD  years at institution  \\\n",
       "0              1      Prof          B               19                    18   \n",
       "1              2      Prof          B               20                    16   \n",
       "2              3  AsstProf          B                4                     3   \n",
       "3              4      Prof          B               45                    39   \n",
       "4              5      Prof          B               40                    41   \n",
       "\n",
       "    sex  salary  \n",
       "0  Male  139750  \n",
       "1  Male  173200  \n",
       "2  Male   79750  \n",
       "3  Male  115000  \n",
       "4  Male  141500  "
      ]
     },
     "execution_count": 130,
     "metadata": {},
     "output_type": "execute_result"
    }
   ],
   "source": [
    "#Rename columns \n",
    "df=df.rename(columns = {'Unnamed: 0':'record number','yrs.since.phd': 'years since PhD', 'yrs.service':'years at institution'})\n",
    "df.head()"
   ]
  },
  {
   "cell_type": "code",
   "execution_count": 132,
   "id": "3cb11b06",
   "metadata": {},
   "outputs": [
    {
     "data": {
      "text/html": [
       "<div>\n",
       "<style scoped>\n",
       "    .dataframe tbody tr th:only-of-type {\n",
       "        vertical-align: middle;\n",
       "    }\n",
       "\n",
       "    .dataframe tbody tr th {\n",
       "        vertical-align: top;\n",
       "    }\n",
       "\n",
       "    .dataframe thead th {\n",
       "        text-align: right;\n",
       "    }\n",
       "</style>\n",
       "<table border=\"1\" class=\"dataframe\">\n",
       "  <thead>\n",
       "    <tr style=\"text-align: right;\">\n",
       "      <th></th>\n",
       "      <th>record number</th>\n",
       "      <th>rank</th>\n",
       "      <th>discipline</th>\n",
       "      <th>years since PhD</th>\n",
       "      <th>years at institution</th>\n",
       "      <th>sex</th>\n",
       "      <th>salary</th>\n",
       "    </tr>\n",
       "  </thead>\n",
       "  <tbody>\n",
       "    <tr>\n",
       "      <th>0</th>\n",
       "      <td>1</td>\n",
       "      <td>Full</td>\n",
       "      <td>B</td>\n",
       "      <td>19</td>\n",
       "      <td>18</td>\n",
       "      <td>Male</td>\n",
       "      <td>139750</td>\n",
       "    </tr>\n",
       "    <tr>\n",
       "      <th>1</th>\n",
       "      <td>2</td>\n",
       "      <td>Full</td>\n",
       "      <td>B</td>\n",
       "      <td>20</td>\n",
       "      <td>16</td>\n",
       "      <td>Male</td>\n",
       "      <td>173200</td>\n",
       "    </tr>\n",
       "    <tr>\n",
       "      <th>2</th>\n",
       "      <td>3</td>\n",
       "      <td>Assistant</td>\n",
       "      <td>B</td>\n",
       "      <td>4</td>\n",
       "      <td>3</td>\n",
       "      <td>Male</td>\n",
       "      <td>79750</td>\n",
       "    </tr>\n",
       "    <tr>\n",
       "      <th>3</th>\n",
       "      <td>4</td>\n",
       "      <td>Full</td>\n",
       "      <td>B</td>\n",
       "      <td>45</td>\n",
       "      <td>39</td>\n",
       "      <td>Male</td>\n",
       "      <td>115000</td>\n",
       "    </tr>\n",
       "    <tr>\n",
       "      <th>4</th>\n",
       "      <td>5</td>\n",
       "      <td>Full</td>\n",
       "      <td>B</td>\n",
       "      <td>40</td>\n",
       "      <td>41</td>\n",
       "      <td>Male</td>\n",
       "      <td>141500</td>\n",
       "    </tr>\n",
       "  </tbody>\n",
       "</table>\n",
       "</div>"
      ],
      "text/plain": [
       "   record number       rank discipline  years since PhD  years at institution  \\\n",
       "0              1       Full          B               19                    18   \n",
       "1              2       Full          B               20                    16   \n",
       "2              3  Assistant          B                4                     3   \n",
       "3              4       Full          B               45                    39   \n",
       "4              5       Full          B               40                    41   \n",
       "\n",
       "    sex  salary  \n",
       "0  Male  139750  \n",
       "1  Male  173200  \n",
       "2  Male   79750  \n",
       "3  Male  115000  \n",
       "4  Male  141500  "
      ]
     },
     "execution_count": 132,
     "metadata": {},
     "output_type": "execute_result"
    }
   ],
   "source": [
    "##??How can I rename rows??\n",
    "#One way: use \"replace\" to find and replace a specific value\n",
    "df = df.replace({'AssocProf':'Associate','AsstProf':'Assistant','Prof':'Full'})\n",
    "df.head()"
   ]
  },
  {
   "cell_type": "code",
   "execution_count": 134,
   "id": "43a7e878",
   "metadata": {},
   "outputs": [
    {
     "data": {
      "text/plain": [
       "sex     years at institution\n",
       "Female  0                        84833\n",
       "        1                        72500\n",
       "        2                        78862\n",
       "        3                        79673\n",
       "        5                        97032\n",
       "                                 ...  \n",
       "Male    49                      115640\n",
       "        51                       57800\n",
       "        53                       90000\n",
       "        57                       76840\n",
       "        60                      192253\n",
       "Name: salary, Length: 74, dtype: int64"
      ]
     },
     "execution_count": 134,
     "metadata": {},
     "output_type": "execute_result"
    }
   ],
   "source": [
    "#group by different traits\n",
    "#df.round({'dogs': 1, 'cats': 0})\n",
    "df.groupby(['sex','years at institution'])['salary'].mean().astype(int)\n",
    "#df.groupby(['sex','years at institution'])['salary'].describe().astype(int)\n"
   ]
  },
  {
   "cell_type": "code",
   "execution_count": 156,
   "id": "1f1f2a9e",
   "metadata": {},
   "outputs": [
    {
     "name": "stdout",
     "output_type": "stream",
     "text": [
      "                  record number  discipline  years since PhD  \\\n",
      "sex    rank                                                    \n",
      "Female Assistant             11          11               11   \n",
      "       Associate             10          10               10   \n",
      "       Full                  18          18               18   \n",
      "Male   Assistant             56          56               56   \n",
      "       Associate             54          54               54   \n",
      "       Full                 248         248              248   \n",
      "\n",
      "                  years at institution  salary  \n",
      "sex    rank                                     \n",
      "Female Assistant                    11      11  \n",
      "       Associate                    10      10  \n",
      "       Full                         18      18  \n",
      "Male   Assistant                    56      56  \n",
      "       Associate                    54      54  \n",
      "       Full                        248     248  \n",
      "                  record number  discipline  years since PhD  \\\n",
      "sex    rank                                                    \n",
      "Female Assistant             11          11               11   \n",
      "       Associate             10          10               10   \n",
      "       Full                  18          18               18   \n",
      "Male   Assistant             56          56               56   \n",
      "       Associate             54          54               54   \n",
      "       Full                 248         248              248   \n",
      "\n",
      "                  years at institution  salary  \n",
      "sex    rank                                     \n",
      "Female Assistant                    11      11  \n",
      "       Associate                    10      10  \n",
      "       Full                         18      18  \n",
      "Male   Assistant                    56      56  \n",
      "       Associate                    54      54  \n",
      "       Full                        248     248  \n",
      "the percent of all female faculty who are full profs is 46.15384615384615\n",
      "the percent of all male faculty who are full profs is 69.27374301675978\n",
      "the percent of all female faculty who are assistant profs is 28.205128205128204\n",
      "the percent of all male faculty who are assistant profs is 15.64245810055866\n"
     ]
    }
   ],
   "source": [
    "print(df.groupby(['sex','rank']).count())\n",
    "print(df.groupby(['sex','rank']).count())\n",
    "\n",
    "#df.groupby(['sex']).count()\n",
    "nF = 39\n",
    "nM = 358\n",
    "percFfull = (18 / nF) * 100\n",
    "percFassist = (11 / nF) * 100\n",
    "percMfull = (248 /nM) * 100\n",
    "percMassist = (56 /nM) * 100\n",
    "\n",
    "print(\"the percent of all female faculty who are full profs is\", percFfull)\n",
    "print(\"the percent of all male faculty who are full profs is\", percMfull)\n",
    "print(\"the percent of all female faculty who are assistant profs is\", percFassist)\n",
    "print(\"the percent of all male faculty who are assistant profs is\", percMassist)"
   ]
  },
  {
   "cell_type": "code",
   "execution_count": 187,
   "id": "575b1be0",
   "metadata": {},
   "outputs": [
    {
     "data": {
      "text/html": [
       "<div>\n",
       "<style scoped>\n",
       "    .dataframe tbody tr th:only-of-type {\n",
       "        vertical-align: middle;\n",
       "    }\n",
       "\n",
       "    .dataframe tbody tr th {\n",
       "        vertical-align: top;\n",
       "    }\n",
       "\n",
       "    .dataframe thead th {\n",
       "        text-align: right;\n",
       "    }\n",
       "</style>\n",
       "<table border=\"1\" class=\"dataframe\">\n",
       "  <thead>\n",
       "    <tr style=\"text-align: right;\">\n",
       "      <th></th>\n",
       "      <th>record number</th>\n",
       "      <th>rank</th>\n",
       "      <th>discipline</th>\n",
       "      <th>years since PhD</th>\n",
       "      <th>years at institution</th>\n",
       "      <th>sex</th>\n",
       "      <th>salary</th>\n",
       "    </tr>\n",
       "  </thead>\n",
       "  <tbody>\n",
       "    <tr>\n",
       "      <th>9</th>\n",
       "      <td>10</td>\n",
       "      <td>Full</td>\n",
       "      <td>B</td>\n",
       "      <td>18</td>\n",
       "      <td>18</td>\n",
       "      <td>Female</td>\n",
       "      <td>129000</td>\n",
       "    </tr>\n",
       "    <tr>\n",
       "      <th>19</th>\n",
       "      <td>20</td>\n",
       "      <td>Full</td>\n",
       "      <td>A</td>\n",
       "      <td>39</td>\n",
       "      <td>36</td>\n",
       "      <td>Female</td>\n",
       "      <td>137000</td>\n",
       "    </tr>\n",
       "    <tr>\n",
       "      <th>24</th>\n",
       "      <td>25</td>\n",
       "      <td>Associate</td>\n",
       "      <td>A</td>\n",
       "      <td>13</td>\n",
       "      <td>8</td>\n",
       "      <td>Female</td>\n",
       "      <td>74830</td>\n",
       "    </tr>\n",
       "    <tr>\n",
       "      <th>34</th>\n",
       "      <td>35</td>\n",
       "      <td>Assistant</td>\n",
       "      <td>B</td>\n",
       "      <td>4</td>\n",
       "      <td>2</td>\n",
       "      <td>Female</td>\n",
       "      <td>80225</td>\n",
       "    </tr>\n",
       "    <tr>\n",
       "      <th>35</th>\n",
       "      <td>36</td>\n",
       "      <td>Assistant</td>\n",
       "      <td>B</td>\n",
       "      <td>5</td>\n",
       "      <td>0</td>\n",
       "      <td>Female</td>\n",
       "      <td>77000</td>\n",
       "    </tr>\n",
       "  </tbody>\n",
       "</table>\n",
       "</div>"
      ],
      "text/plain": [
       "    record number       rank discipline  years since PhD  \\\n",
       "9              10       Full          B               18   \n",
       "19             20       Full          A               39   \n",
       "24             25  Associate          A               13   \n",
       "34             35  Assistant          B                4   \n",
       "35             36  Assistant          B                5   \n",
       "\n",
       "    years at institution     sex  salary  \n",
       "9                     18  Female  129000  \n",
       "19                    36  Female  137000  \n",
       "24                     8  Female   74830  \n",
       "34                     2  Female   80225  \n",
       "35                     0  Female   77000  "
      ]
     },
     "execution_count": 187,
     "metadata": {},
     "output_type": "execute_result"
    }
   ],
   "source": [
    "df.groupby(['sex']).count()\n",
    "df.groupby(['rank']).count()\n",
    "df.groupby(['years since PhD','sex'])['salary'].describe()\n",
    "#df2 = df[df[‘column name’] == ‘value’]\n",
    "\n",
    "df2 = df[df['years since PhD'] >= 20]\n",
    "#df2['diff'] = df2groupby(['years since PhD','sex'])[]\n",
    "dfF = df[df['sex'] == 'Female']\n",
    "dfM = df[df['sex'] == 'Male']\n",
    "#df2.groupby(['years since PhD','sex']).mean().astype(int)\n",
    "dfF.head()"
   ]
  },
  {
   "cell_type": "code",
   "execution_count": 182,
   "id": "a1794c59",
   "metadata": {},
   "outputs": [
    {
     "data": {
      "text/html": [
       "<div>\n",
       "<style scoped>\n",
       "    .dataframe tbody tr th:only-of-type {\n",
       "        vertical-align: middle;\n",
       "    }\n",
       "\n",
       "    .dataframe tbody tr th {\n",
       "        vertical-align: top;\n",
       "    }\n",
       "\n",
       "    .dataframe thead th {\n",
       "        text-align: right;\n",
       "    }\n",
       "</style>\n",
       "<table border=\"1\" class=\"dataframe\">\n",
       "  <thead>\n",
       "    <tr style=\"text-align: right;\">\n",
       "      <th></th>\n",
       "      <th></th>\n",
       "      <th>record number</th>\n",
       "      <th>years since PhD</th>\n",
       "      <th>years at institution</th>\n",
       "      <th>sex</th>\n",
       "      <th>salary</th>\n",
       "    </tr>\n",
       "    <tr>\n",
       "      <th>rank</th>\n",
       "      <th>discipline</th>\n",
       "      <th></th>\n",
       "      <th></th>\n",
       "      <th></th>\n",
       "      <th></th>\n",
       "      <th></th>\n",
       "    </tr>\n",
       "  </thead>\n",
       "  <tbody>\n",
       "    <tr>\n",
       "      <th rowspan=\"2\" valign=\"top\">Assistant</th>\n",
       "      <th>A</th>\n",
       "      <td>24</td>\n",
       "      <td>24</td>\n",
       "      <td>24</td>\n",
       "      <td>24</td>\n",
       "      <td>24</td>\n",
       "    </tr>\n",
       "    <tr>\n",
       "      <th>B</th>\n",
       "      <td>43</td>\n",
       "      <td>43</td>\n",
       "      <td>43</td>\n",
       "      <td>43</td>\n",
       "      <td>43</td>\n",
       "    </tr>\n",
       "    <tr>\n",
       "      <th rowspan=\"2\" valign=\"top\">Associate</th>\n",
       "      <th>A</th>\n",
       "      <td>26</td>\n",
       "      <td>26</td>\n",
       "      <td>26</td>\n",
       "      <td>26</td>\n",
       "      <td>26</td>\n",
       "    </tr>\n",
       "    <tr>\n",
       "      <th>B</th>\n",
       "      <td>38</td>\n",
       "      <td>38</td>\n",
       "      <td>38</td>\n",
       "      <td>38</td>\n",
       "      <td>38</td>\n",
       "    </tr>\n",
       "    <tr>\n",
       "      <th rowspan=\"2\" valign=\"top\">Full</th>\n",
       "      <th>A</th>\n",
       "      <td>131</td>\n",
       "      <td>131</td>\n",
       "      <td>131</td>\n",
       "      <td>131</td>\n",
       "      <td>131</td>\n",
       "    </tr>\n",
       "    <tr>\n",
       "      <th>B</th>\n",
       "      <td>135</td>\n",
       "      <td>135</td>\n",
       "      <td>135</td>\n",
       "      <td>135</td>\n",
       "      <td>135</td>\n",
       "    </tr>\n",
       "  </tbody>\n",
       "</table>\n",
       "</div>"
      ],
      "text/plain": [
       "                      record number  years since PhD  years at institution  \\\n",
       "rank      discipline                                                         \n",
       "Assistant A                      24               24                    24   \n",
       "          B                      43               43                    43   \n",
       "Associate A                      26               26                    26   \n",
       "          B                      38               38                    38   \n",
       "Full      A                     131              131                   131   \n",
       "          B                     135              135                   135   \n",
       "\n",
       "                      sex  salary  \n",
       "rank      discipline               \n",
       "Assistant A            24      24  \n",
       "          B            43      43  \n",
       "Associate A            26      26  \n",
       "          B            38      38  \n",
       "Full      A           131     131  \n",
       "          B           135     135  "
      ]
     },
     "execution_count": 182,
     "metadata": {},
     "output_type": "execute_result"
    }
   ],
   "source": [
    "#df.groupby(['sex']).count()\n",
    "#df.groupby(['rank']).count()\n",
    "df.groupby(['years since PhD']).count()\n",
    "df.groupby(['years at institution']).count()\n",
    "df.groupby(['sex'])['salary'].mean()\n",
    "df.groupby(['sex'])['salary'].describe()\n",
    "df.groupby(['discipline'])['salary'].count()\n",
    "df.groupby(['rank','discipline']).count()"
   ]
  },
  {
   "cell_type": "code",
   "execution_count": 38,
   "id": "714d1029",
   "metadata": {},
   "outputs": [
    {
     "data": {
      "text/html": [
       "<div>\n",
       "<style scoped>\n",
       "    .dataframe tbody tr th:only-of-type {\n",
       "        vertical-align: middle;\n",
       "    }\n",
       "\n",
       "    .dataframe tbody tr th {\n",
       "        vertical-align: top;\n",
       "    }\n",
       "\n",
       "    .dataframe thead th {\n",
       "        text-align: right;\n",
       "    }\n",
       "</style>\n",
       "<table border=\"1\" class=\"dataframe\">\n",
       "  <thead>\n",
       "    <tr style=\"text-align: right;\">\n",
       "      <th></th>\n",
       "      <th>rank</th>\n",
       "      <th>discipline</th>\n",
       "      <th>years since PhD</th>\n",
       "      <th>years at institution</th>\n",
       "      <th>sex</th>\n",
       "      <th>salary</th>\n",
       "    </tr>\n",
       "  </thead>\n",
       "  <tbody>\n",
       "    <tr>\n",
       "      <th>0</th>\n",
       "      <td>Prof</td>\n",
       "      <td>B</td>\n",
       "      <td>19</td>\n",
       "      <td>18</td>\n",
       "      <td>Male</td>\n",
       "      <td>139750</td>\n",
       "    </tr>\n",
       "    <tr>\n",
       "      <th>1</th>\n",
       "      <td>Prof</td>\n",
       "      <td>B</td>\n",
       "      <td>20</td>\n",
       "      <td>16</td>\n",
       "      <td>Male</td>\n",
       "      <td>173200</td>\n",
       "    </tr>\n",
       "    <tr>\n",
       "      <th>2</th>\n",
       "      <td>AsstProf</td>\n",
       "      <td>B</td>\n",
       "      <td>4</td>\n",
       "      <td>3</td>\n",
       "      <td>Male</td>\n",
       "      <td>79750</td>\n",
       "    </tr>\n",
       "    <tr>\n",
       "      <th>3</th>\n",
       "      <td>Prof</td>\n",
       "      <td>B</td>\n",
       "      <td>45</td>\n",
       "      <td>39</td>\n",
       "      <td>Male</td>\n",
       "      <td>115000</td>\n",
       "    </tr>\n",
       "    <tr>\n",
       "      <th>4</th>\n",
       "      <td>Prof</td>\n",
       "      <td>B</td>\n",
       "      <td>40</td>\n",
       "      <td>41</td>\n",
       "      <td>Male</td>\n",
       "      <td>141500</td>\n",
       "    </tr>\n",
       "  </tbody>\n",
       "</table>\n",
       "</div>"
      ],
      "text/plain": [
       "       rank discipline  years since PhD  years at institution   sex  salary\n",
       "0      Prof          B               19                    18  Male  139750\n",
       "1      Prof          B               20                    16  Male  173200\n",
       "2  AsstProf          B                4                     3  Male   79750\n",
       "3      Prof          B               45                    39  Male  115000\n",
       "4      Prof          B               40                    41  Male  141500"
      ]
     },
     "execution_count": 38,
     "metadata": {},
     "output_type": "execute_result"
    }
   ],
   "source": [
    "df.head()"
   ]
  },
  {
   "cell_type": "code",
   "execution_count": 155,
   "id": "b02e4603",
   "metadata": {},
   "outputs": [
    {
     "data": {
      "text/plain": [
       "sex     rank     \n",
       "Female  Assistant     78049\n",
       "        Associate     88512\n",
       "        Full         121967\n",
       "Male    Assistant     81311\n",
       "        Associate     94869\n",
       "        Full         127120\n",
       "Name: salary, dtype: int64"
      ]
     },
     "execution_count": 155,
     "metadata": {},
     "output_type": "execute_result"
    }
   ],
   "source": [
    "df.groupby(['sex','rank'])['salary'].mean().astype(int)"
   ]
  },
  {
   "cell_type": "markdown",
   "id": "86a4016e",
   "metadata": {},
   "source": [
    "# 07/07/22  "
   ]
  },
  {
   "cell_type": "code",
   "execution_count": 1,
   "id": "bb740454",
   "metadata": {},
   "outputs": [],
   "source": [
    "import numpy as np\n",
    "import pandas as pd\n",
    "import scipy as sc\n",
    "import sympy as sy\n",
    "import matplotlib as matplot\n",
    "import statistics as statistics"
   ]
  },
  {
   "cell_type": "code",
   "execution_count": 24,
   "id": "b5c16d04",
   "metadata": {},
   "outputs": [],
   "source": [
    "df=pd.read_csv(\"https://raw.githubusercontent.com/CunyLaguardiaDataAnalytics/datasets/master/2014-15_To_2016-17_School-_Level_NYC_Regents_Report_For_All_Variables.csv\")"
   ]
  },
  {
   "cell_type": "code",
   "execution_count": 40,
   "id": "c053e7ca",
   "metadata": {},
   "outputs": [
    {
     "data": {
      "text/plain": [
       "School DBN                      0\n",
       "School Name                     0\n",
       "School Level                    0\n",
       "Regents Exam                   10\n",
       "Year                            0\n",
       "Total Tested                    0\n",
       "Mean Score                      0\n",
       "Number Scoring Below 65         0\n",
       "Percent Scoring Below 65        0\n",
       "Number Scoring 65 or Above      0\n",
       "Percent Scoring 65 or Above     0\n",
       "Number Scoring 80 or Above      0\n",
       "Percent Scoring 80 or Above     0\n",
       "Number Scoring CR               0\n",
       "Percent Scoring CR              0\n",
       "dtype: int64"
      ]
     },
     "execution_count": 40,
     "metadata": {},
     "output_type": "execute_result"
    }
   ],
   "source": [
    "df.isnull().sum()"
   ]
  },
  {
   "cell_type": "code",
   "execution_count": 26,
   "id": "94d5cac8",
   "metadata": {},
   "outputs": [
    {
     "data": {
      "text/html": [
       "<div>\n",
       "<style scoped>\n",
       "    .dataframe tbody tr th:only-of-type {\n",
       "        vertical-align: middle;\n",
       "    }\n",
       "\n",
       "    .dataframe tbody tr th {\n",
       "        vertical-align: top;\n",
       "    }\n",
       "\n",
       "    .dataframe thead th {\n",
       "        text-align: right;\n",
       "    }\n",
       "</style>\n",
       "<table border=\"1\" class=\"dataframe\">\n",
       "  <thead>\n",
       "    <tr style=\"text-align: right;\">\n",
       "      <th></th>\n",
       "      <th>School DBN</th>\n",
       "      <th>School Name</th>\n",
       "      <th>School Level</th>\n",
       "      <th>Regents Exam</th>\n",
       "      <th>Year</th>\n",
       "      <th>Total Tested</th>\n",
       "      <th>Mean Score</th>\n",
       "      <th>Number Scoring Below 65</th>\n",
       "      <th>Percent Scoring Below 65</th>\n",
       "      <th>Number Scoring 65 or Above</th>\n",
       "      <th>Percent Scoring 65 or Above</th>\n",
       "      <th>Number Scoring 80 or Above</th>\n",
       "      <th>Percent Scoring 80 or Above</th>\n",
       "      <th>Number Scoring CR</th>\n",
       "      <th>Percent Scoring CR</th>\n",
       "    </tr>\n",
       "  </thead>\n",
       "  <tbody>\n",
       "    <tr>\n",
       "      <th>212327</th>\n",
       "      <td>84X717</td>\n",
       "      <td>Icahn Charter School</td>\n",
       "      <td>K-8</td>\n",
       "      <td>Living Environment</td>\n",
       "      <td>2016</td>\n",
       "      <td>5</td>\n",
       "      <td>s</td>\n",
       "      <td>s</td>\n",
       "      <td>s</td>\n",
       "      <td>s</td>\n",
       "      <td>s</td>\n",
       "      <td>s</td>\n",
       "      <td>s</td>\n",
       "      <td>na</td>\n",
       "      <td>na</td>\n",
       "    </tr>\n",
       "    <tr>\n",
       "      <th>212328</th>\n",
       "      <td>84X717</td>\n",
       "      <td>Icahn Charter School</td>\n",
       "      <td>K-8</td>\n",
       "      <td>Living Environment</td>\n",
       "      <td>2017</td>\n",
       "      <td>6</td>\n",
       "      <td>s</td>\n",
       "      <td>s</td>\n",
       "      <td>s</td>\n",
       "      <td>s</td>\n",
       "      <td>s</td>\n",
       "      <td>s</td>\n",
       "      <td>s</td>\n",
       "      <td>na</td>\n",
       "      <td>na</td>\n",
       "    </tr>\n",
       "    <tr>\n",
       "      <th>212329</th>\n",
       "      <td>84X717</td>\n",
       "      <td>Icahn Charter School</td>\n",
       "      <td>K-8</td>\n",
       "      <td>Living Environment</td>\n",
       "      <td>2017</td>\n",
       "      <td>4</td>\n",
       "      <td>s</td>\n",
       "      <td>s</td>\n",
       "      <td>s</td>\n",
       "      <td>s</td>\n",
       "      <td>s</td>\n",
       "      <td>s</td>\n",
       "      <td>s</td>\n",
       "      <td>na</td>\n",
       "      <td>na</td>\n",
       "    </tr>\n",
       "    <tr>\n",
       "      <th>212330</th>\n",
       "      <td>84X717</td>\n",
       "      <td>Icahn Charter School</td>\n",
       "      <td>K-8</td>\n",
       "      <td>U.S. History and Government</td>\n",
       "      <td>2015</td>\n",
       "      <td>1</td>\n",
       "      <td>s</td>\n",
       "      <td>s</td>\n",
       "      <td>s</td>\n",
       "      <td>s</td>\n",
       "      <td>s</td>\n",
       "      <td>s</td>\n",
       "      <td>s</td>\n",
       "      <td>na</td>\n",
       "      <td>na</td>\n",
       "    </tr>\n",
       "  </tbody>\n",
       "</table>\n",
       "</div>"
      ],
      "text/plain": [
       "       School DBN           School Name School Level  \\\n",
       "212327     84X717  Icahn Charter School          K-8   \n",
       "212328     84X717  Icahn Charter School          K-8   \n",
       "212329     84X717  Icahn Charter School          K-8   \n",
       "212330     84X717  Icahn Charter School          K-8   \n",
       "\n",
       "                       Regents Exam  Year  Total Tested Mean Score  \\\n",
       "212327           Living Environment  2016             5          s   \n",
       "212328           Living Environment  2017             6          s   \n",
       "212329           Living Environment  2017             4          s   \n",
       "212330  U.S. History and Government  2015             1          s   \n",
       "\n",
       "       Number Scoring Below 65 Percent Scoring Below 65  \\\n",
       "212327                       s                        s   \n",
       "212328                       s                        s   \n",
       "212329                       s                        s   \n",
       "212330                       s                        s   \n",
       "\n",
       "       Number Scoring 65 or Above Percent Scoring 65 or Above  \\\n",
       "212327                          s                           s   \n",
       "212328                          s                           s   \n",
       "212329                          s                           s   \n",
       "212330                          s                           s   \n",
       "\n",
       "       Number Scoring 80 or Above Percent Scoring 80 or Above  \\\n",
       "212327                          s                           s   \n",
       "212328                          s                           s   \n",
       "212329                          s                           s   \n",
       "212330                          s                           s   \n",
       "\n",
       "       Number Scoring CR Percent Scoring CR  \n",
       "212327                na                 na  \n",
       "212328                na                 na  \n",
       "212329                na                 na  \n",
       "212330                na                 na  "
      ]
     },
     "execution_count": 26,
     "metadata": {},
     "output_type": "execute_result"
    }
   ],
   "source": [
    "df.head(4)\n",
    "df.tail(4)"
   ]
  },
  {
   "cell_type": "code",
   "execution_count": 13,
   "id": "abeebb4c",
   "metadata": {},
   "outputs": [
    {
     "data": {
      "text/html": [
       "<div>\n",
       "<style scoped>\n",
       "    .dataframe tbody tr th:only-of-type {\n",
       "        vertical-align: middle;\n",
       "    }\n",
       "\n",
       "    .dataframe tbody tr th {\n",
       "        vertical-align: top;\n",
       "    }\n",
       "\n",
       "    .dataframe thead th {\n",
       "        text-align: right;\n",
       "    }\n",
       "</style>\n",
       "<table border=\"1\" class=\"dataframe\">\n",
       "  <thead>\n",
       "    <tr style=\"text-align: right;\">\n",
       "      <th></th>\n",
       "      <th>School DBN</th>\n",
       "      <th>School Name</th>\n",
       "      <th>School Level</th>\n",
       "      <th>Year</th>\n",
       "      <th>Total Tested</th>\n",
       "      <th>Mean Score</th>\n",
       "      <th>Number Scoring Below 65</th>\n",
       "      <th>Percent Scoring Below 65</th>\n",
       "      <th>Number Scoring 65 or Above</th>\n",
       "      <th>Percent Scoring 65 or Above</th>\n",
       "      <th>Number Scoring 80 or Above</th>\n",
       "      <th>Percent Scoring 80 or Above</th>\n",
       "      <th>Number Scoring CR</th>\n",
       "      <th>Percent Scoring CR</th>\n",
       "    </tr>\n",
       "    <tr>\n",
       "      <th>Regents Exam</th>\n",
       "      <th></th>\n",
       "      <th></th>\n",
       "      <th></th>\n",
       "      <th></th>\n",
       "      <th></th>\n",
       "      <th></th>\n",
       "      <th></th>\n",
       "      <th></th>\n",
       "      <th></th>\n",
       "      <th></th>\n",
       "      <th></th>\n",
       "      <th></th>\n",
       "      <th></th>\n",
       "      <th></th>\n",
       "    </tr>\n",
       "  </thead>\n",
       "  <tbody>\n",
       "    <tr>\n",
       "      <th>Algebra2/Trigonometry</th>\n",
       "      <td>10788</td>\n",
       "      <td>10788</td>\n",
       "      <td>10788</td>\n",
       "      <td>10788</td>\n",
       "      <td>10788</td>\n",
       "      <td>10788</td>\n",
       "      <td>10788</td>\n",
       "      <td>10788</td>\n",
       "      <td>10788</td>\n",
       "      <td>10788</td>\n",
       "      <td>10788</td>\n",
       "      <td>10788</td>\n",
       "      <td>10788</td>\n",
       "      <td>10788</td>\n",
       "    </tr>\n",
       "    <tr>\n",
       "      <th>Common Core Algebra</th>\n",
       "      <td>29254</td>\n",
       "      <td>29254</td>\n",
       "      <td>29254</td>\n",
       "      <td>29254</td>\n",
       "      <td>29254</td>\n",
       "      <td>29254</td>\n",
       "      <td>29254</td>\n",
       "      <td>29254</td>\n",
       "      <td>29254</td>\n",
       "      <td>29254</td>\n",
       "      <td>29254</td>\n",
       "      <td>29254</td>\n",
       "      <td>29254</td>\n",
       "      <td>29254</td>\n",
       "    </tr>\n",
       "    <tr>\n",
       "      <th>Common Core Algebra2</th>\n",
       "      <td>7915</td>\n",
       "      <td>7915</td>\n",
       "      <td>7915</td>\n",
       "      <td>7915</td>\n",
       "      <td>7915</td>\n",
       "      <td>7915</td>\n",
       "      <td>7915</td>\n",
       "      <td>7915</td>\n",
       "      <td>7915</td>\n",
       "      <td>7915</td>\n",
       "      <td>7915</td>\n",
       "      <td>7915</td>\n",
       "      <td>7915</td>\n",
       "      <td>7915</td>\n",
       "    </tr>\n",
       "    <tr>\n",
       "      <th>Common Core English</th>\n",
       "      <td>19878</td>\n",
       "      <td>19878</td>\n",
       "      <td>19878</td>\n",
       "      <td>19878</td>\n",
       "      <td>19878</td>\n",
       "      <td>19878</td>\n",
       "      <td>19878</td>\n",
       "      <td>19878</td>\n",
       "      <td>19878</td>\n",
       "      <td>19878</td>\n",
       "      <td>19878</td>\n",
       "      <td>19878</td>\n",
       "      <td>19878</td>\n",
       "      <td>19878</td>\n",
       "    </tr>\n",
       "    <tr>\n",
       "      <th>Common Core Geometry</th>\n",
       "      <td>15267</td>\n",
       "      <td>15267</td>\n",
       "      <td>15267</td>\n",
       "      <td>15267</td>\n",
       "      <td>15267</td>\n",
       "      <td>15267</td>\n",
       "      <td>15267</td>\n",
       "      <td>15267</td>\n",
       "      <td>15267</td>\n",
       "      <td>15267</td>\n",
       "      <td>15267</td>\n",
       "      <td>15267</td>\n",
       "      <td>15267</td>\n",
       "      <td>15267</td>\n",
       "    </tr>\n",
       "    <tr>\n",
       "      <th>English</th>\n",
       "      <td>11091</td>\n",
       "      <td>11091</td>\n",
       "      <td>11091</td>\n",
       "      <td>11091</td>\n",
       "      <td>11091</td>\n",
       "      <td>11091</td>\n",
       "      <td>11091</td>\n",
       "      <td>11091</td>\n",
       "      <td>11091</td>\n",
       "      <td>11091</td>\n",
       "      <td>11091</td>\n",
       "      <td>11091</td>\n",
       "      <td>11091</td>\n",
       "      <td>11091</td>\n",
       "    </tr>\n",
       "    <tr>\n",
       "      <th>Geometry</th>\n",
       "      <td>8509</td>\n",
       "      <td>8509</td>\n",
       "      <td>8509</td>\n",
       "      <td>8509</td>\n",
       "      <td>8509</td>\n",
       "      <td>8509</td>\n",
       "      <td>8509</td>\n",
       "      <td>8509</td>\n",
       "      <td>8509</td>\n",
       "      <td>8509</td>\n",
       "      <td>8509</td>\n",
       "      <td>8509</td>\n",
       "      <td>8509</td>\n",
       "      <td>8509</td>\n",
       "    </tr>\n",
       "    <tr>\n",
       "      <th>Global History and Geography</th>\n",
       "      <td>19192</td>\n",
       "      <td>19192</td>\n",
       "      <td>19192</td>\n",
       "      <td>19192</td>\n",
       "      <td>19192</td>\n",
       "      <td>19192</td>\n",
       "      <td>19192</td>\n",
       "      <td>19192</td>\n",
       "      <td>19192</td>\n",
       "      <td>19192</td>\n",
       "      <td>19192</td>\n",
       "      <td>19192</td>\n",
       "      <td>19192</td>\n",
       "      <td>19192</td>\n",
       "    </tr>\n",
       "    <tr>\n",
       "      <th>Integrated Algebra</th>\n",
       "      <td>11022</td>\n",
       "      <td>11022</td>\n",
       "      <td>11022</td>\n",
       "      <td>11022</td>\n",
       "      <td>11022</td>\n",
       "      <td>11022</td>\n",
       "      <td>11022</td>\n",
       "      <td>11022</td>\n",
       "      <td>11022</td>\n",
       "      <td>11022</td>\n",
       "      <td>11022</td>\n",
       "      <td>11022</td>\n",
       "      <td>11022</td>\n",
       "      <td>11022</td>\n",
       "    </tr>\n",
       "    <tr>\n",
       "      <th>Living Environment</th>\n",
       "      <td>25539</td>\n",
       "      <td>25539</td>\n",
       "      <td>25539</td>\n",
       "      <td>25539</td>\n",
       "      <td>25539</td>\n",
       "      <td>25539</td>\n",
       "      <td>25539</td>\n",
       "      <td>25539</td>\n",
       "      <td>25539</td>\n",
       "      <td>25539</td>\n",
       "      <td>25539</td>\n",
       "      <td>25539</td>\n",
       "      <td>25539</td>\n",
       "      <td>25539</td>\n",
       "    </tr>\n",
       "    <tr>\n",
       "      <th>Physical Settings/Chemistry</th>\n",
       "      <td>11670</td>\n",
       "      <td>11670</td>\n",
       "      <td>11670</td>\n",
       "      <td>11670</td>\n",
       "      <td>11670</td>\n",
       "      <td>11670</td>\n",
       "      <td>11670</td>\n",
       "      <td>11670</td>\n",
       "      <td>11670</td>\n",
       "      <td>11670</td>\n",
       "      <td>11670</td>\n",
       "      <td>11670</td>\n",
       "      <td>11670</td>\n",
       "      <td>11670</td>\n",
       "    </tr>\n",
       "    <tr>\n",
       "      <th>Physical Settings/Earth Science</th>\n",
       "      <td>15971</td>\n",
       "      <td>15971</td>\n",
       "      <td>15971</td>\n",
       "      <td>15971</td>\n",
       "      <td>15971</td>\n",
       "      <td>15971</td>\n",
       "      <td>15971</td>\n",
       "      <td>15971</td>\n",
       "      <td>15971</td>\n",
       "      <td>15971</td>\n",
       "      <td>15971</td>\n",
       "      <td>15971</td>\n",
       "      <td>15971</td>\n",
       "      <td>15971</td>\n",
       "    </tr>\n",
       "    <tr>\n",
       "      <th>Physical Settings/Physics</th>\n",
       "      <td>5799</td>\n",
       "      <td>5799</td>\n",
       "      <td>5799</td>\n",
       "      <td>5799</td>\n",
       "      <td>5799</td>\n",
       "      <td>5799</td>\n",
       "      <td>5799</td>\n",
       "      <td>5799</td>\n",
       "      <td>5799</td>\n",
       "      <td>5799</td>\n",
       "      <td>5799</td>\n",
       "      <td>5799</td>\n",
       "      <td>5799</td>\n",
       "      <td>5799</td>\n",
       "    </tr>\n",
       "    <tr>\n",
       "      <th>U.S. History and Government</th>\n",
       "      <td>20426</td>\n",
       "      <td>20426</td>\n",
       "      <td>20426</td>\n",
       "      <td>20426</td>\n",
       "      <td>20426</td>\n",
       "      <td>20426</td>\n",
       "      <td>20426</td>\n",
       "      <td>20426</td>\n",
       "      <td>20426</td>\n",
       "      <td>20426</td>\n",
       "      <td>20426</td>\n",
       "      <td>20426</td>\n",
       "      <td>20426</td>\n",
       "      <td>20426</td>\n",
       "    </tr>\n",
       "  </tbody>\n",
       "</table>\n",
       "</div>"
      ],
      "text/plain": [
       "                                 School DBN  School Name  School Level   Year  \\\n",
       "Regents Exam                                                                    \n",
       "Algebra2/Trigonometry                 10788        10788         10788  10788   \n",
       "Common Core Algebra                   29254        29254         29254  29254   \n",
       "Common Core Algebra2                   7915         7915          7915   7915   \n",
       "Common Core English                   19878        19878         19878  19878   \n",
       "Common Core Geometry                  15267        15267         15267  15267   \n",
       "English                               11091        11091         11091  11091   \n",
       "Geometry                               8509         8509          8509   8509   \n",
       "Global History and Geography          19192        19192         19192  19192   \n",
       "Integrated Algebra                    11022        11022         11022  11022   \n",
       "Living Environment                    25539        25539         25539  25539   \n",
       "Physical Settings/Chemistry           11670        11670         11670  11670   \n",
       "Physical Settings/Earth Science       15971        15971         15971  15971   \n",
       "Physical Settings/Physics              5799         5799          5799   5799   \n",
       "U.S. History and Government           20426        20426         20426  20426   \n",
       "\n",
       "                                 Total Tested  Mean Score  \\\n",
       "Regents Exam                                                \n",
       "Algebra2/Trigonometry                   10788       10788   \n",
       "Common Core Algebra                     29254       29254   \n",
       "Common Core Algebra2                     7915        7915   \n",
       "Common Core English                     19878       19878   \n",
       "Common Core Geometry                    15267       15267   \n",
       "English                                 11091       11091   \n",
       "Geometry                                 8509        8509   \n",
       "Global History and Geography            19192       19192   \n",
       "Integrated Algebra                      11022       11022   \n",
       "Living Environment                      25539       25539   \n",
       "Physical Settings/Chemistry             11670       11670   \n",
       "Physical Settings/Earth Science         15971       15971   \n",
       "Physical Settings/Physics                5799        5799   \n",
       "U.S. History and Government             20426       20426   \n",
       "\n",
       "                                 Number Scoring Below 65  \\\n",
       "Regents Exam                                               \n",
       "Algebra2/Trigonometry                              10788   \n",
       "Common Core Algebra                                29254   \n",
       "Common Core Algebra2                                7915   \n",
       "Common Core English                                19878   \n",
       "Common Core Geometry                               15267   \n",
       "English                                            11091   \n",
       "Geometry                                            8509   \n",
       "Global History and Geography                       19192   \n",
       "Integrated Algebra                                 11022   \n",
       "Living Environment                                 25539   \n",
       "Physical Settings/Chemistry                        11670   \n",
       "Physical Settings/Earth Science                    15971   \n",
       "Physical Settings/Physics                           5799   \n",
       "U.S. History and Government                        20426   \n",
       "\n",
       "                                 Percent Scoring Below 65  \\\n",
       "Regents Exam                                                \n",
       "Algebra2/Trigonometry                               10788   \n",
       "Common Core Algebra                                 29254   \n",
       "Common Core Algebra2                                 7915   \n",
       "Common Core English                                 19878   \n",
       "Common Core Geometry                                15267   \n",
       "English                                             11091   \n",
       "Geometry                                             8509   \n",
       "Global History and Geography                        19192   \n",
       "Integrated Algebra                                  11022   \n",
       "Living Environment                                  25539   \n",
       "Physical Settings/Chemistry                         11670   \n",
       "Physical Settings/Earth Science                     15971   \n",
       "Physical Settings/Physics                            5799   \n",
       "U.S. History and Government                         20426   \n",
       "\n",
       "                                 Number Scoring 65 or Above  \\\n",
       "Regents Exam                                                  \n",
       "Algebra2/Trigonometry                                 10788   \n",
       "Common Core Algebra                                   29254   \n",
       "Common Core Algebra2                                   7915   \n",
       "Common Core English                                   19878   \n",
       "Common Core Geometry                                  15267   \n",
       "English                                               11091   \n",
       "Geometry                                               8509   \n",
       "Global History and Geography                          19192   \n",
       "Integrated Algebra                                    11022   \n",
       "Living Environment                                    25539   \n",
       "Physical Settings/Chemistry                           11670   \n",
       "Physical Settings/Earth Science                       15971   \n",
       "Physical Settings/Physics                              5799   \n",
       "U.S. History and Government                           20426   \n",
       "\n",
       "                                 Percent Scoring 65 or Above  \\\n",
       "Regents Exam                                                   \n",
       "Algebra2/Trigonometry                                  10788   \n",
       "Common Core Algebra                                    29254   \n",
       "Common Core Algebra2                                    7915   \n",
       "Common Core English                                    19878   \n",
       "Common Core Geometry                                   15267   \n",
       "English                                                11091   \n",
       "Geometry                                                8509   \n",
       "Global History and Geography                           19192   \n",
       "Integrated Algebra                                     11022   \n",
       "Living Environment                                     25539   \n",
       "Physical Settings/Chemistry                            11670   \n",
       "Physical Settings/Earth Science                        15971   \n",
       "Physical Settings/Physics                               5799   \n",
       "U.S. History and Government                            20426   \n",
       "\n",
       "                                 Number Scoring 80 or Above  \\\n",
       "Regents Exam                                                  \n",
       "Algebra2/Trigonometry                                 10788   \n",
       "Common Core Algebra                                   29254   \n",
       "Common Core Algebra2                                   7915   \n",
       "Common Core English                                   19878   \n",
       "Common Core Geometry                                  15267   \n",
       "English                                               11091   \n",
       "Geometry                                               8509   \n",
       "Global History and Geography                          19192   \n",
       "Integrated Algebra                                    11022   \n",
       "Living Environment                                    25539   \n",
       "Physical Settings/Chemistry                           11670   \n",
       "Physical Settings/Earth Science                       15971   \n",
       "Physical Settings/Physics                              5799   \n",
       "U.S. History and Government                           20426   \n",
       "\n",
       "                                 Percent Scoring 80 or Above  \\\n",
       "Regents Exam                                                   \n",
       "Algebra2/Trigonometry                                  10788   \n",
       "Common Core Algebra                                    29254   \n",
       "Common Core Algebra2                                    7915   \n",
       "Common Core English                                    19878   \n",
       "Common Core Geometry                                   15267   \n",
       "English                                                11091   \n",
       "Geometry                                                8509   \n",
       "Global History and Geography                           19192   \n",
       "Integrated Algebra                                     11022   \n",
       "Living Environment                                     25539   \n",
       "Physical Settings/Chemistry                            11670   \n",
       "Physical Settings/Earth Science                        15971   \n",
       "Physical Settings/Physics                               5799   \n",
       "U.S. History and Government                            20426   \n",
       "\n",
       "                                 Number Scoring CR  Percent Scoring CR  \n",
       "Regents Exam                                                            \n",
       "Algebra2/Trigonometry                        10788               10788  \n",
       "Common Core Algebra                          29254               29254  \n",
       "Common Core Algebra2                          7915                7915  \n",
       "Common Core English                          19878               19878  \n",
       "Common Core Geometry                         15267               15267  \n",
       "English                                      11091               11091  \n",
       "Geometry                                      8509                8509  \n",
       "Global History and Geography                 19192               19192  \n",
       "Integrated Algebra                           11022               11022  \n",
       "Living Environment                           25539               25539  \n",
       "Physical Settings/Chemistry                  11670               11670  \n",
       "Physical Settings/Earth Science              15971               15971  \n",
       "Physical Settings/Physics                     5799                5799  \n",
       "U.S. History and Government                  20426               20426  "
      ]
     },
     "execution_count": 13,
     "metadata": {},
     "output_type": "execute_result"
    }
   ],
   "source": [
    "df.groupby(['Regents Exam']).count()"
   ]
  },
  {
   "cell_type": "code",
   "execution_count": 49,
   "id": "edbb721e",
   "metadata": {},
   "outputs": [],
   "source": [
    "#df.fillna(method=\"ffill\", inplace=True, axis=1)\n",
    "#df.fillna(method=\"ffill\", inplace=True, axis=1, value=\"NaN”)\n",
    "dfcleaned = df.replace({'na':'NaN',\" \":\"NaN\", \"s\":\"NaN\"})"
   ]
  },
  {
   "cell_type": "code",
   "execution_count": 50,
   "id": "828f0b21",
   "metadata": {},
   "outputs": [
    {
     "data": {
      "text/html": [
       "<div>\n",
       "<style scoped>\n",
       "    .dataframe tbody tr th:only-of-type {\n",
       "        vertical-align: middle;\n",
       "    }\n",
       "\n",
       "    .dataframe tbody tr th {\n",
       "        vertical-align: top;\n",
       "    }\n",
       "\n",
       "    .dataframe thead th {\n",
       "        text-align: right;\n",
       "    }\n",
       "</style>\n",
       "<table border=\"1\" class=\"dataframe\">\n",
       "  <thead>\n",
       "    <tr style=\"text-align: right;\">\n",
       "      <th></th>\n",
       "      <th>School DBN</th>\n",
       "      <th>School Name</th>\n",
       "      <th>School Level</th>\n",
       "      <th>Regents Exam</th>\n",
       "      <th>Year</th>\n",
       "      <th>Total Tested</th>\n",
       "      <th>Mean Score</th>\n",
       "      <th>Number Scoring Below 65</th>\n",
       "      <th>Percent Scoring Below 65</th>\n",
       "      <th>Number Scoring 65 or Above</th>\n",
       "      <th>Percent Scoring 65 or Above</th>\n",
       "      <th>Number Scoring 80 or Above</th>\n",
       "      <th>Percent Scoring 80 or Above</th>\n",
       "      <th>Number Scoring CR</th>\n",
       "      <th>Percent Scoring CR</th>\n",
       "    </tr>\n",
       "  </thead>\n",
       "  <tbody>\n",
       "    <tr>\n",
       "      <th>0</th>\n",
       "      <td>01M034</td>\n",
       "      <td>P.S. 034 Franklin D. Roosevelt</td>\n",
       "      <td>K-8</td>\n",
       "      <td>Common Core Algebra</td>\n",
       "      <td>2017</td>\n",
       "      <td>4</td>\n",
       "      <td>NaN</td>\n",
       "      <td>NaN</td>\n",
       "      <td>NaN</td>\n",
       "      <td>NaN</td>\n",
       "      <td>NaN</td>\n",
       "      <td>NaN</td>\n",
       "      <td>NaN</td>\n",
       "      <td>NaN</td>\n",
       "      <td>NaN</td>\n",
       "    </tr>\n",
       "    <tr>\n",
       "      <th>1</th>\n",
       "      <td>01M034</td>\n",
       "      <td>P.S. 034 Franklin D. Roosevelt</td>\n",
       "      <td>K-8</td>\n",
       "      <td>Living Environment</td>\n",
       "      <td>2015</td>\n",
       "      <td>16</td>\n",
       "      <td>77.9</td>\n",
       "      <td>1</td>\n",
       "      <td>6.3</td>\n",
       "      <td>15</td>\n",
       "      <td>93.8</td>\n",
       "      <td>7</td>\n",
       "      <td>43.8</td>\n",
       "      <td>NaN</td>\n",
       "      <td>NaN</td>\n",
       "    </tr>\n",
       "    <tr>\n",
       "      <th>2</th>\n",
       "      <td>01M034</td>\n",
       "      <td>P.S. 034 Franklin D. Roosevelt</td>\n",
       "      <td>K-8</td>\n",
       "      <td>Living Environment</td>\n",
       "      <td>2016</td>\n",
       "      <td>9</td>\n",
       "      <td>74</td>\n",
       "      <td>1</td>\n",
       "      <td>11.1</td>\n",
       "      <td>8</td>\n",
       "      <td>88.9</td>\n",
       "      <td>2</td>\n",
       "      <td>22.2</td>\n",
       "      <td>NaN</td>\n",
       "      <td>NaN</td>\n",
       "    </tr>\n",
       "    <tr>\n",
       "      <th>3</th>\n",
       "      <td>01M140</td>\n",
       "      <td>P.S. 140 Nathan Straus</td>\n",
       "      <td>K-8</td>\n",
       "      <td>Common Core Algebra</td>\n",
       "      <td>2016</td>\n",
       "      <td>3</td>\n",
       "      <td>NaN</td>\n",
       "      <td>NaN</td>\n",
       "      <td>NaN</td>\n",
       "      <td>NaN</td>\n",
       "      <td>NaN</td>\n",
       "      <td>NaN</td>\n",
       "      <td>NaN</td>\n",
       "      <td>NaN</td>\n",
       "      <td>NaN</td>\n",
       "    </tr>\n",
       "  </tbody>\n",
       "</table>\n",
       "</div>"
      ],
      "text/plain": [
       "  School DBN                     School Name School Level  \\\n",
       "0     01M034  P.S. 034 Franklin D. Roosevelt          K-8   \n",
       "1     01M034  P.S. 034 Franklin D. Roosevelt          K-8   \n",
       "2     01M034  P.S. 034 Franklin D. Roosevelt          K-8   \n",
       "3     01M140          P.S. 140 Nathan Straus          K-8   \n",
       "\n",
       "          Regents Exam  Year  Total Tested Mean Score Number Scoring Below 65  \\\n",
       "0  Common Core Algebra  2017             4        NaN                     NaN   \n",
       "1   Living Environment  2015            16       77.9                       1   \n",
       "2   Living Environment  2016             9         74                       1   \n",
       "3  Common Core Algebra  2016             3        NaN                     NaN   \n",
       "\n",
       "  Percent Scoring Below 65 Number Scoring 65 or Above  \\\n",
       "0                      NaN                        NaN   \n",
       "1                      6.3                         15   \n",
       "2                     11.1                          8   \n",
       "3                      NaN                        NaN   \n",
       "\n",
       "  Percent Scoring 65 or Above Number Scoring 80 or Above  \\\n",
       "0                         NaN                        NaN   \n",
       "1                        93.8                          7   \n",
       "2                        88.9                          2   \n",
       "3                         NaN                        NaN   \n",
       "\n",
       "  Percent Scoring 80 or Above Number Scoring CR Percent Scoring CR  \n",
       "0                         NaN               NaN                NaN  \n",
       "1                        43.8               NaN                NaN  \n",
       "2                        22.2               NaN                NaN  \n",
       "3                         NaN               NaN                NaN  "
      ]
     },
     "execution_count": 50,
     "metadata": {},
     "output_type": "execute_result"
    }
   ],
   "source": [
    "dfcleaned.head(4)"
   ]
  },
  {
   "cell_type": "code",
   "execution_count": 56,
   "id": "67f21cef",
   "metadata": {},
   "outputs": [
    {
     "data": {
      "text/plain": [
       "(212331, 15)"
      ]
     },
     "execution_count": 56,
     "metadata": {},
     "output_type": "execute_result"
    }
   ],
   "source": [
    "dfcleaned.isnull().sum()\n",
    "dfcleaned.columns\n",
    "dfcleaned.shape"
   ]
  },
  {
   "cell_type": "code",
   "execution_count": 52,
   "id": "a182bd03",
   "metadata": {},
   "outputs": [],
   "source": [
    "#dfcleaned(['Regents Exam']).isnull.head(5)\n",
    "null_data = dfcleaned[df.isnull().any(axis=1)]"
   ]
  },
  {
   "cell_type": "code",
   "execution_count": 53,
   "id": "906f29d0",
   "metadata": {},
   "outputs": [
    {
     "data": {
      "text/html": [
       "<div>\n",
       "<style scoped>\n",
       "    .dataframe tbody tr th:only-of-type {\n",
       "        vertical-align: middle;\n",
       "    }\n",
       "\n",
       "    .dataframe tbody tr th {\n",
       "        vertical-align: top;\n",
       "    }\n",
       "\n",
       "    .dataframe thead th {\n",
       "        text-align: right;\n",
       "    }\n",
       "</style>\n",
       "<table border=\"1\" class=\"dataframe\">\n",
       "  <thead>\n",
       "    <tr style=\"text-align: right;\">\n",
       "      <th></th>\n",
       "      <th>School DBN</th>\n",
       "      <th>School Name</th>\n",
       "      <th>School Level</th>\n",
       "      <th>Regents Exam</th>\n",
       "      <th>Year</th>\n",
       "      <th>Total Tested</th>\n",
       "      <th>Mean Score</th>\n",
       "      <th>Number Scoring Below 65</th>\n",
       "      <th>Percent Scoring Below 65</th>\n",
       "      <th>Number Scoring 65 or Above</th>\n",
       "      <th>Percent Scoring 65 or Above</th>\n",
       "      <th>Number Scoring 80 or Above</th>\n",
       "      <th>Percent Scoring 80 or Above</th>\n",
       "      <th>Number Scoring CR</th>\n",
       "      <th>Percent Scoring CR</th>\n",
       "    </tr>\n",
       "  </thead>\n",
       "  <tbody>\n",
       "    <tr>\n",
       "      <th>18654</th>\n",
       "      <td>84M478</td>\n",
       "      <td>Inwood Academy for Leadership Charter School</td>\n",
       "      <td>Secondary School</td>\n",
       "      <td>NaN</td>\n",
       "      <td>2015</td>\n",
       "      <td>90</td>\n",
       "      <td>55.6</td>\n",
       "      <td>61</td>\n",
       "      <td>67.8</td>\n",
       "      <td>29</td>\n",
       "      <td>32.2</td>\n",
       "      <td>6</td>\n",
       "      <td>6.7</td>\n",
       "      <td>0</td>\n",
       "      <td>0</td>\n",
       "    </tr>\n",
       "    <tr>\n",
       "      <th>52756</th>\n",
       "      <td>84M478</td>\n",
       "      <td>Inwood Academy for Leadership Charter School</td>\n",
       "      <td>Secondary School</td>\n",
       "      <td>NaN</td>\n",
       "      <td>2015</td>\n",
       "      <td>81</td>\n",
       "      <td>55.9</td>\n",
       "      <td>55</td>\n",
       "      <td>67.9</td>\n",
       "      <td>26</td>\n",
       "      <td>32.1</td>\n",
       "      <td>5</td>\n",
       "      <td>6.2</td>\n",
       "      <td>0</td>\n",
       "      <td>0</td>\n",
       "    </tr>\n",
       "    <tr>\n",
       "      <th>52757</th>\n",
       "      <td>84M478</td>\n",
       "      <td>Inwood Academy for Leadership Charter School</td>\n",
       "      <td>Secondary School</td>\n",
       "      <td>NaN</td>\n",
       "      <td>2015</td>\n",
       "      <td>9</td>\n",
       "      <td>53.4</td>\n",
       "      <td>6</td>\n",
       "      <td>66.7</td>\n",
       "      <td>3</td>\n",
       "      <td>33.3</td>\n",
       "      <td>1</td>\n",
       "      <td>11.1</td>\n",
       "      <td>0</td>\n",
       "      <td>0</td>\n",
       "    </tr>\n",
       "    <tr>\n",
       "      <th>100865</th>\n",
       "      <td>84M478</td>\n",
       "      <td>Inwood Academy for Leadership Charter School</td>\n",
       "      <td>Secondary School</td>\n",
       "      <td>NaN</td>\n",
       "      <td>2015</td>\n",
       "      <td>5</td>\n",
       "      <td>NaN</td>\n",
       "      <td>NaN</td>\n",
       "      <td>NaN</td>\n",
       "      <td>NaN</td>\n",
       "      <td>NaN</td>\n",
       "      <td>NaN</td>\n",
       "      <td>NaN</td>\n",
       "      <td>NaN</td>\n",
       "      <td>NaN</td>\n",
       "    </tr>\n",
       "    <tr>\n",
       "      <th>100866</th>\n",
       "      <td>84M478</td>\n",
       "      <td>Inwood Academy for Leadership Charter School</td>\n",
       "      <td>Secondary School</td>\n",
       "      <td>NaN</td>\n",
       "      <td>2015</td>\n",
       "      <td>54</td>\n",
       "      <td>57.4</td>\n",
       "      <td>34</td>\n",
       "      <td>63</td>\n",
       "      <td>20</td>\n",
       "      <td>37</td>\n",
       "      <td>6</td>\n",
       "      <td>11.1</td>\n",
       "      <td>0</td>\n",
       "      <td>0</td>\n",
       "    </tr>\n",
       "    <tr>\n",
       "      <th>100867</th>\n",
       "      <td>84M478</td>\n",
       "      <td>Inwood Academy for Leadership Charter School</td>\n",
       "      <td>Secondary School</td>\n",
       "      <td>NaN</td>\n",
       "      <td>2015</td>\n",
       "      <td>31</td>\n",
       "      <td>NaN</td>\n",
       "      <td>NaN</td>\n",
       "      <td>NaN</td>\n",
       "      <td>NaN</td>\n",
       "      <td>NaN</td>\n",
       "      <td>NaN</td>\n",
       "      <td>NaN</td>\n",
       "      <td>NaN</td>\n",
       "      <td>NaN</td>\n",
       "    </tr>\n",
       "    <tr>\n",
       "      <th>138300</th>\n",
       "      <td>84M478</td>\n",
       "      <td>Inwood Academy for Leadership Charter School</td>\n",
       "      <td>Secondary School</td>\n",
       "      <td>NaN</td>\n",
       "      <td>2015</td>\n",
       "      <td>54</td>\n",
       "      <td>57.3</td>\n",
       "      <td>34</td>\n",
       "      <td>63</td>\n",
       "      <td>20</td>\n",
       "      <td>37</td>\n",
       "      <td>5</td>\n",
       "      <td>9.3</td>\n",
       "      <td>0</td>\n",
       "      <td>0</td>\n",
       "    </tr>\n",
       "    <tr>\n",
       "      <th>138301</th>\n",
       "      <td>84M478</td>\n",
       "      <td>Inwood Academy for Leadership Charter School</td>\n",
       "      <td>Secondary School</td>\n",
       "      <td>NaN</td>\n",
       "      <td>2015</td>\n",
       "      <td>36</td>\n",
       "      <td>53.2</td>\n",
       "      <td>27</td>\n",
       "      <td>75</td>\n",
       "      <td>9</td>\n",
       "      <td>25</td>\n",
       "      <td>1</td>\n",
       "      <td>2.8</td>\n",
       "      <td>0</td>\n",
       "      <td>0</td>\n",
       "    </tr>\n",
       "    <tr>\n",
       "      <th>209785</th>\n",
       "      <td>84M478</td>\n",
       "      <td>Inwood Academy for Leadership Charter School</td>\n",
       "      <td>Secondary School</td>\n",
       "      <td>NaN</td>\n",
       "      <td>2015</td>\n",
       "      <td>12</td>\n",
       "      <td>59</td>\n",
       "      <td>9</td>\n",
       "      <td>75</td>\n",
       "      <td>3</td>\n",
       "      <td>25</td>\n",
       "      <td>1</td>\n",
       "      <td>8.3</td>\n",
       "      <td>0</td>\n",
       "      <td>0</td>\n",
       "    </tr>\n",
       "    <tr>\n",
       "      <th>209786</th>\n",
       "      <td>84M478</td>\n",
       "      <td>Inwood Academy for Leadership Charter School</td>\n",
       "      <td>Secondary School</td>\n",
       "      <td>NaN</td>\n",
       "      <td>2015</td>\n",
       "      <td>78</td>\n",
       "      <td>55.1</td>\n",
       "      <td>52</td>\n",
       "      <td>66.7</td>\n",
       "      <td>26</td>\n",
       "      <td>33.3</td>\n",
       "      <td>5</td>\n",
       "      <td>6.4</td>\n",
       "      <td>0</td>\n",
       "      <td>0</td>\n",
       "    </tr>\n",
       "  </tbody>\n",
       "</table>\n",
       "</div>"
      ],
      "text/plain": [
       "       School DBN                                   School Name  \\\n",
       "18654      84M478  Inwood Academy for Leadership Charter School   \n",
       "52756      84M478  Inwood Academy for Leadership Charter School   \n",
       "52757      84M478  Inwood Academy for Leadership Charter School   \n",
       "100865     84M478  Inwood Academy for Leadership Charter School   \n",
       "100866     84M478  Inwood Academy for Leadership Charter School   \n",
       "100867     84M478  Inwood Academy for Leadership Charter School   \n",
       "138300     84M478  Inwood Academy for Leadership Charter School   \n",
       "138301     84M478  Inwood Academy for Leadership Charter School   \n",
       "209785     84M478  Inwood Academy for Leadership Charter School   \n",
       "209786     84M478  Inwood Academy for Leadership Charter School   \n",
       "\n",
       "            School Level Regents Exam  Year  Total Tested Mean Score  \\\n",
       "18654   Secondary School          NaN  2015            90       55.6   \n",
       "52756   Secondary School          NaN  2015            81       55.9   \n",
       "52757   Secondary School          NaN  2015             9       53.4   \n",
       "100865  Secondary School          NaN  2015             5        NaN   \n",
       "100866  Secondary School          NaN  2015            54       57.4   \n",
       "100867  Secondary School          NaN  2015            31        NaN   \n",
       "138300  Secondary School          NaN  2015            54       57.3   \n",
       "138301  Secondary School          NaN  2015            36       53.2   \n",
       "209785  Secondary School          NaN  2015            12         59   \n",
       "209786  Secondary School          NaN  2015            78       55.1   \n",
       "\n",
       "       Number Scoring Below 65 Percent Scoring Below 65  \\\n",
       "18654                       61                     67.8   \n",
       "52756                       55                     67.9   \n",
       "52757                        6                     66.7   \n",
       "100865                     NaN                      NaN   \n",
       "100866                      34                       63   \n",
       "100867                     NaN                      NaN   \n",
       "138300                      34                       63   \n",
       "138301                      27                       75   \n",
       "209785                       9                       75   \n",
       "209786                      52                     66.7   \n",
       "\n",
       "       Number Scoring 65 or Above Percent Scoring 65 or Above  \\\n",
       "18654                          29                        32.2   \n",
       "52756                          26                        32.1   \n",
       "52757                           3                        33.3   \n",
       "100865                        NaN                         NaN   \n",
       "100866                         20                          37   \n",
       "100867                        NaN                         NaN   \n",
       "138300                         20                          37   \n",
       "138301                          9                          25   \n",
       "209785                          3                          25   \n",
       "209786                         26                        33.3   \n",
       "\n",
       "       Number Scoring 80 or Above Percent Scoring 80 or Above  \\\n",
       "18654                           6                         6.7   \n",
       "52756                           5                         6.2   \n",
       "52757                           1                        11.1   \n",
       "100865                        NaN                         NaN   \n",
       "100866                          6                        11.1   \n",
       "100867                        NaN                         NaN   \n",
       "138300                          5                         9.3   \n",
       "138301                          1                         2.8   \n",
       "209785                          1                         8.3   \n",
       "209786                          5                         6.4   \n",
       "\n",
       "       Number Scoring CR Percent Scoring CR  \n",
       "18654                  0                  0  \n",
       "52756                  0                  0  \n",
       "52757                  0                  0  \n",
       "100865               NaN                NaN  \n",
       "100866                 0                  0  \n",
       "100867               NaN                NaN  \n",
       "138300                 0                  0  \n",
       "138301                 0                  0  \n",
       "209785                 0                  0  \n",
       "209786                 0                  0  "
      ]
     },
     "execution_count": 53,
     "metadata": {},
     "output_type": "execute_result"
    }
   ],
   "source": [
    "null_data"
   ]
  },
  {
   "cell_type": "code",
   "execution_count": 48,
   "id": "a19588f9",
   "metadata": {},
   "outputs": [
    {
     "data": {
      "text/plain": [
       "School DBN                      0\n",
       "School Name                     0\n",
       "School Level                    0\n",
       "Regents Exam                   10\n",
       "Year                            0\n",
       "Total Tested                    0\n",
       "Mean Score                      0\n",
       "Number Scoring Below 65         0\n",
       "Percent Scoring Below 65        0\n",
       "Number Scoring 65 or Above      0\n",
       "Percent Scoring 65 or Above     0\n",
       "Number Scoring 80 or Above      0\n",
       "Percent Scoring 80 or Above     0\n",
       "Number Scoring CR               0\n",
       "Percent Scoring CR              0\n",
       "dtype: int64"
      ]
     },
     "execution_count": 48,
     "metadata": {},
     "output_type": "execute_result"
    }
   ],
   "source": [
    "dfcleaned.isnull().sum()"
   ]
  },
  {
   "cell_type": "code",
   "execution_count": null,
   "id": "b4846d54",
   "metadata": {},
   "outputs": [],
   "source": []
  }
 ],
 "metadata": {
  "celltoolbar": "Raw Cell Format",
  "kernelspec": {
   "display_name": "Python 3",
   "language": "python",
   "name": "python3"
  },
  "language_info": {
   "codemirror_mode": {
    "name": "ipython",
    "version": 3
   },
   "file_extension": ".py",
   "mimetype": "text/x-python",
   "name": "python",
   "nbconvert_exporter": "python",
   "pygments_lexer": "ipython3",
   "version": "3.6.15"
  }
 },
 "nbformat": 4,
 "nbformat_minor": 5
}
