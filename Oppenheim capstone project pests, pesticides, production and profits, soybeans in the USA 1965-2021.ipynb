{
 "cells": [
  {
   "cell_type": "markdown",
   "id": "442800cc",
   "metadata": {},
   "source": [
    "<h1>Sara Oppenheim, capstone project!</h1>"
   ]
  },
  {
   "cell_type": "markdown",
   "id": "73f080a1",
   "metadata": {},
   "source": [
    "<h1>Pests, pesticides, production and profits: soybeans in the USA 1965-2021.</h1>"
   ]
  },
  {
   "cell_type": "markdown",
   "id": "900f7a56",
   "metadata": {},
   "source": [
    "<h4>Import packages</h4>"
   ]
  },
  {
   "cell_type": "code",
   "execution_count": null,
   "id": "38d01c96",
   "metadata": {},
   "outputs": [],
   "source": [
    "import numpy as np\n",
    "import pandas as pd\n",
    "#import geopandas as gp \n",
    "#when I try to install geopandas I get fatal inconsistency errors from conda\n",
    "import plotly as ply\n",
    "import plotly.express as px\n",
    "import plotly.io as pio\n",
    "import kaleido as kaleido\n",
    "import scipy as sc\n",
    "import sympy as sy\n",
    "import matplotlib as matplot\n",
    "import matplotlib.pyplot as plt\n",
    "import statistics as stat\n",
    "import seaborn as sns\n",
    "%matplotlib inline\n"
   ]
  },
  {
   "cell_type": "markdown",
   "id": "b9af201d",
   "metadata": {},
   "source": [
    "<h3>Convert data to dataframes</h3>"
   ]
  },
  {
   "cell_type": "code",
   "execution_count": null,
   "id": "a3aaa63e",
   "metadata": {},
   "outputs": [],
   "source": [
    "#Create a dataframe from each of the data sets. \n",
    "#this list includes the na indicators across all of the files\n",
    "missing_values = [\"(null)\",\" \",\"na\",\"NR\",\"Nan\",\"(NA)\",\"NaN\"]\n",
    "\n",
    "#this is the current distribution of the soybean aphid in the US\n",
    "#source CABI Plant Pest Distribution database: https://www.cabi.org/isc/datasheet/6203#todistributionDatabaseTable\n",
    "soyaphiddist=pd.read_csv(\"US_soy_aphid_distribution2.csv\",na_values=missing_values)\n",
    "\n",
    "#this is the annual costs and returns data for soybean\n",
    "#data were split by \"historical\" vs \"recent.\" I merge the two data sets before importing\n",
    "#source historical: https://www.ers.usda.gov/data-products/commodity-costs-and-returns/commodity-costs-and-returns/#Historical%20Costs%20and%20Returns:%20Soybeans\n",
    "#source recent: https://www.ers.usda.gov/data-products/commodity-costs-and-returns/commodity-costs-and-returns/#Recent%20Cost%20and%20Returns\n",
    "soycostreturn=pd.read_csv(\"US_soybean_costs_and_returns_1975-2021.csv\",na_values=missing_values)\n",
    "\n",
    "#this data set shows the percent of US soybean treated with insecticides or herbicides\n",
    "#source https://www.ers.usda.gov/publications/pub-details/?pubid=43855\n",
    "pctreated=pd.read_csv(\"soy_pct_treated_acres.csv\")\n",
    "\n",
    "#this is data from the US Register of Introduced and Invasive Species data\n",
    "#source https://www.sciencebase.gov/catalog/item/6144f1ccd34e0df5fb95b5cb\n",
    "invasives=pd.read_csv(\"US_registry_of_introduced_and_invasive_species.csv\",na_values=missing_values)\n",
    "\n",
    "#this is data on acres planted, pesticide use, costs, and returns summed across 21 Selected Crops from 1960-2008\n",
    "#the crops included are Apples, Barley, Corn, Cotton, Grapefruit, Grapes, Lemons, Lettuce, Oranges, Peaches, Peanuts, Pears, Pecans, Potatoes, Rice, Sorghum, Soybeans, Sugarcane, Sweetcorn, Tomatoes, and Wheat\n",
    "#source https://www.ers.usda.gov/publications/pub-details/?pubid=43855\n",
    "pesticides21crops=pd.read_csv(\"21_crops_value_and_cost_1960-2008.csv\",na_values=missing_values)\n",
    "\n",
    "#this data describes non-chemical pest control measures in soybean from 1991-2020\n",
    "#source USDA National Agricultural Statistics Service https://quickstats.nass.usda.gov/\n",
    "nassnonchemcontrol=pd.read_csv(\"nass_soy_pest_non_chem_control.csv\",na_values=missing_values)\n",
    "\n",
    "#this data describes acres of soybean planted, yield per acre, and sale price from 1924-2022\n",
    "#source https://quickstats.nass.usda.gov/results/AA292938-D6B5-3B0D-B779-64A46043B700\n",
    "nassyield=pd.read_csv(\"nass_soy_planted_yield_and_price.csv\",na_values=missing_values)\n",
    "\n",
    "#this is annual production data (1993-2022) for field crops in the US, which includes corn, soybean, grains, etc.\n",
    "#source https://quickstats.nass.usda.gov/results/47D5D9C1-AD06-3A62-8B45-B09DEC5F7D8F\n",
    "fieldcrops=pd.read_csv(\"NASS_field_crops_data.csv\",na_values=missing_values)\n",
    "\n",
    "#this is annual pesticide use data for soybean\n",
    "#source https://hygeia-analytics.com/pesticides/usage/puds-the-pesticide-use-data-system/\n",
    "insecticidesbyyear=pd.read_csv(\"soybean_insecticides_by_year.csv\",na_values=missing_values)\n",
    "\n"
   ]
  },
  {
   "cell_type": "markdown",
   "id": "8d22774c",
   "metadata": {},
   "source": [
    "<h3>Examine and tidy up the data</h3>"
   ]
  },
  {
   "cell_type": "code",
   "execution_count": null,
   "id": "826f8210",
   "metadata": {},
   "outputs": [],
   "source": [
    "#Create a list of all the dataframes so i can loop through them for QC steps\n",
    "dflist = {\n",
    "    'insecticidesbyyear': insecticidesbyyear,'fieldcrops': fieldcrops, \n",
    "           'nassyield': nassyield, 'nassnonchemcontrol': nassnonchemcontrol,\n",
    "           'nasschemcontrol': nasschemcontrol, 'fortyyearchange': fortyyearchange, \n",
    "           'pesticides21crops': pesticides21crops,'invasives': invasives,\n",
    "           'soycostreturn': soycostreturn,'soyaphiddist': soyaphiddist\n",
    "}\n",
    "\n",
    "for i, df in dflist.items():\n",
    "    print(i)\n",
    "    print(df.head())\n",
    "    "
   ]
  },
  {
   "cell_type": "markdown",
   "id": "a14fb16f",
   "metadata": {},
   "source": [
    "<h2>Insecticide use in the US over the past 30 years</h2>"
   ]
  },
  {
   "cell_type": "markdown",
   "id": "1f5be278",
   "metadata": {},
   "source": [
    "This is annual pesticide use data for soybean in the US  \n",
    "source https://hygeia-analytics.com/pesticides/usage/puds-the-pesticide-use-data-system/"
   ]
  },
  {
   "cell_type": "code",
   "execution_count": null,
   "id": "d850ffb6",
   "metadata": {},
   "outputs": [],
   "source": [
    "#generate missing counts and heat maps to assess missing data\n",
    "print(\"insecticidesbyyear\",sns.heatmap(insecticidesbyyear.isnull(),cbar=True,vmin=0,vmax=.3))\n",
    "print(insecticidesbyyear.isnull().sum())"
   ]
  },
  {
   "cell_type": "code",
   "execution_count": null,
   "id": "483c5302",
   "metadata": {},
   "outputs": [],
   "source": [
    "#clean up insecticidesbyyear\n",
    "#rename columns to be more informative\n",
    "insecticidesbyyear.rename(columns={\"year\":\"Year\",\"Analyte\":\"Active ingredient\",\n",
    "                                       \"Class\": \"Insecticide class\",\n",
    "                                       \"PercentAcresTreated\":\"Fraction of acres treated with this insecticide\",\n",
    "                                       \"RatePerCropYear\": \"Rate per crop year\"},inplace=True)\n",
    "#retain only the relevant columns\n",
    "insecticidesbyyear=insecticidesbyyear[[\"Year\",\"Active ingredient\",\"Insecticide class\",\n",
    "                                       \"Fraction of acres treated with this insecticide\",\n",
    "                                       \"Rate per crop year\"]]\n",
    "#drop any rows where relevant sata are missing\n",
    "insecticidesbyyear=insecticidesbyyear[insecticidesbyyear[\"Insecticide class\"].notna()] \n",
    "insecticidesbyyear=insecticidesbyyear[insecticidesbyyear[\"Year\"].notna()]\n",
    "insecticidesbyyear=insecticidesbyyear[insecticidesbyyear[\"Fraction of acres treated with this insecticide\"].notna()]\n",
    "\n"
   ]
  },
  {
   "cell_type": "code",
   "execution_count": null,
   "id": "708dc570",
   "metadata": {},
   "outputs": [],
   "source": [
    "#create separate dfs for each insecticide class in insecticidesbyyear, \n",
    "#I will need these later\n",
    "#could have done \"str.contains\" but \"==\" seems more stringent\n",
    "#bi=insecticidesbyyear[insecticidesbyyear[\"Insecticide class\"].str.contains(\"biologic\")]\n",
    "\n",
    "py=insecticidesbyyear[insecticidesbyyear[\"Insecticide class\"]==\"pyrethroid\"]\n",
    "og=insecticidesbyyear[insecticidesbyyear[\"Insecticide class\"]==\"organophosphate\"]\n",
    "ca=insecticidesbyyear[insecticidesbyyear[\"Insecticide class\"]==\"carbamate\"]\n",
    "ne=insecticidesbyyear[insecticidesbyyear[\"Insecticide class\"]==\"neonicitinoid\"]\n",
    "be=insecticidesbyyear[insecticidesbyyear[\"Insecticide class\"]==\"benzoylurea\"]\n",
    "ry=insecticidesbyyear[insecticidesbyyear[\"Insecticide class\"]==\"ryanoid\"]\n",
    "di=insecticidesbyyear[insecticidesbyyear[\"Insecticide class\"]==\"diacylhydrazine\"]\n",
    "bi=insecticidesbyyear[insecticidesbyyear[\"Insecticide class\"]==\"biologic\"]\n"
   ]
  },
  {
   "cell_type": "markdown",
   "id": "d62be178",
   "metadata": {},
   "source": [
    "**Have the kind of insecticides being used changed over time?**  "
   ]
  },
  {
   "cell_type": "code",
   "execution_count": null,
   "id": "b86c8372",
   "metadata": {},
   "outputs": [],
   "source": [
    "#Are there overall changes in the classes of insecticides being used?\n",
    "plt.title(\"Changes in insecticide use from 1991-2018\")\n",
    "fig=sns.lmplot(x=\"Year\", y=\"Fraction of acres treated with this insecticide\", \n",
    "              data=insecticidesbyyear,hue=\"Insecticide class\" ,\n",
    "             )\n",
    "plt.show()\n",
    "fig.savefig(\"Changes in insecticide use 1991-2018, all classes.png\")"
   ]
  },
  {
   "cell_type": "code",
   "execution_count": null,
   "id": "6ecf8058",
   "metadata": {},
   "outputs": [],
   "source": [
    "#There were many outliers above, they seem to be concentrated in more recent years\n",
    "#I'll look at a data set that only includes records from 2005 onward\n",
    "recentiby=insecticidesbyyear[insecticidesbyyear[\"Year\"]>=2005]\n",
    "plt.figure(figsize=(12,8))\n",
    "plt.title(\"Changes in insecticide use from 2005-2018\")\n",
    "sns.lmplot(x=\"Year\", y=\"Fraction of acres treated with this insecticide\", \n",
    "              data=recentiby,hue=\"Insecticide class\",\n",
    "             )\n",
    "plt.show()\n"
   ]
  },
  {
   "cell_type": "code",
   "execution_count": null,
   "id": "c589f315",
   "metadata": {},
   "outputs": [],
   "source": [
    "#There are still outliers and it looks like most of them are from 2 insecticide classes\n",
    "#I'll look at a dataset that excludes those 2 classes\n",
    "nonpyiby=insecticidesbyyear[insecticidesbyyear[\"Insecticide class\"]!=\"pyrethroid\"]\n",
    "nonpyorgiby=nonpyiby[nonpyiby[\"Insecticide class\"]!=\"organophosphate\"]\n",
    "\n",
    "plt.title(\"Changes in insecticide use 1991-2018, excluding pyrethroids and organophosphates\")\n",
    "sns.lmplot(x=\"Year\", y=\"Fraction of acres treated with this insecticide\", \n",
    "              data=nonpyorgiby,hue=\"Insecticide class\",\n",
    "             )\n",
    "plt.show()\n"
   ]
  },
  {
   "cell_type": "code",
   "execution_count": null,
   "id": "f0c62e39",
   "metadata": {},
   "outputs": [],
   "source": [
    "#It looks like the other classes all changed in a linear way over time, \n",
    "#though the shape is very different across classes \n",
    "#Trying a more complex model\n",
    "plt.title(\"Changes in insecticide use 1991-2018, excluding pyrethroids and organophosphates\")\n",
    "fig=sns.lmplot(x=\"Year\", y=\"Fraction of acres treated with this insecticide\", \n",
    "              data=nonpyorgiby,hue=\"Insecticide class\",\n",
    "           order=3,fit_reg=True, n_boot=10000,\n",
    "           x_ci=\"sd\",ci=20,scatter_kws={\"s\": 80}\n",
    "             )\n",
    "plt.show()\n",
    "fig.savefig(\"Changes in insecticide use 1991-2018, excluding pyrethroids and organophosphates.png\")"
   ]
  },
  {
   "cell_type": "code",
   "execution_count": null,
   "id": "8d3c7e41",
   "metadata": {},
   "outputs": [],
   "source": [
    "#How about the pyrethroids and organophosphates? Now that they are isolated is there a pattern?\n",
    "#I'll look at a dataset that includes only those 2 classes\n",
    "pyorgiby=insecticidesbyyear[(insecticidesbyyear[\"Insecticide class\"]==\"pyrethroid\") |\n",
    "                         (insecticidesbyyear[\"Insecticide class\"]==\"organophosphate\")\n",
    "                        ]\n",
    "plt.title(\"Changes in insecticide use 1991-2018, pyrethroids and organophosphates only\")\n",
    "fig=sns.lmplot(x=\"Year\", y=\"Fraction of acres treated with this insecticide\", \n",
    "              data=pyorgiby,hue=\"Insecticide class\",\n",
    "           order=3,fit_reg=True, n_boot=10000,\n",
    "           x_ci=\"sd\",ci=20,scatter_kws={\"s\": 80}\n",
    "             )\n",
    "plt.show()\n",
    "fig.savefig('Changes in insecticide use 1991-2018, pyrethroids and organophosphates only.png')\n"
   ]
  },
  {
   "cell_type": "code",
   "execution_count": null,
   "id": "9aa396dd",
   "metadata": {},
   "outputs": [],
   "source": [
    "#Still looks crazy, how about one at a time?\n",
    "#I'll look at a dataset that has only pyrethroids\n",
    "plt.title(\"Changes in insecticide use 1991-2018, pyrethroids only\")\n",
    "sns.lmplot(x=\"Year\", y=\"Fraction of acres treated with this insecticide\",data=py,\n",
    "           fit_reg=True, n_boot=10000, x_ci=\"sd\",ci=20,scatter_kws={\"s\": 80},\n",
    "             )\n",
    "plt.show()\n"
   ]
  },
  {
   "cell_type": "code",
   "execution_count": null,
   "id": "d2a5a105",
   "metadata": {},
   "outputs": [],
   "source": [
    "#Still looks crazy\n",
    "#BUT each class has many active ingredients contributing. Maybe these are driving the pattern?\n",
    "#I'll look at a dataset that has only pyrethroids\n",
    "pyorgiby=pyorgiby.sort_values(by=\"Active ingredient\",ascending=False)\n",
    "plt.title(\"Changes in insecticide use by active ingredient 1991-2018, organophosphates pyrethroids only\")\n",
    "sns.lmplot(x=\"Year\", y=\"Fraction of acres treated with this insecticide\",data=pyorgiby,\n",
    "           fit_reg=True, n_boot=10000, x_ci=\"sd\",ci=20,scatter_kws={\"s\": 80},\n",
    "           hue=\"Active ingredient\",\n",
    "             )\n",
    "plt.show()\n"
   ]
  },
  {
   "cell_type": "code",
   "execution_count": null,
   "id": "6a63fe21",
   "metadata": {},
   "outputs": [],
   "source": [
    "#Ah-ha! It looks like 3 particular ingredients are responsible for the outliers:\n",
    "#Lambda-cyhalothrin (pyrethroid), Chlorpyrifos (organophosphate), and Bifenthrin(pyrethroid)\n",
    "pyorgiby.groupby([\"Active ingredient\",\"Insecticide class\"])[\"Fraction of acres treated with this insecticide\"].mean().sort_values()\n",
    "\n"
   ]
  },
  {
   "cell_type": "code",
   "execution_count": null,
   "id": "5f466957",
   "metadata": {},
   "outputs": [],
   "source": [
    "#How do the other classes look individually?\n",
    "#I'll cycle through them all\n",
    "#pyrethroids\n",
    "plt.title(\"Changes in insecticide use 1991-2018, pyrethroids only\")\n",
    "fig=sns.lmplot(x=\"Year\", y=\"Fraction of acres treated with this insecticide\",data=py,\n",
    "           fit_reg=True, n_boot=10000, x_ci=\"sd\",ci=20,scatter_kws={\"s\": 80},\n",
    "           hue=\"Active ingredient\",\n",
    "             )\n",
    "plt.show()\n",
    "fig.savefig('Changes in insecticide use 1991-2018, pyrethroids only.png')\n"
   ]
  },
  {
   "cell_type": "code",
   "execution_count": null,
   "id": "591161de",
   "metadata": {},
   "outputs": [],
   "source": [
    "#How do the other classes look individually?\n",
    "#organophosphates\n",
    "plt.title(\"Changes in insecticide use 1991-2018, organophosphates only\")\n",
    "fig=sns.lmplot(x=\"Year\", y=\"Fraction of acres treated with this insecticide\",data=og,\n",
    "           fit_reg=True, n_boot=10000, x_ci=\"sd\",ci=20,scatter_kws={\"s\": 80},\n",
    "           hue=\"Active ingredient\",\n",
    "             )\n",
    "plt.show()\n",
    "fig.savefig('Changes in insecticide use 1991-2018, organophosphates only.png')\n"
   ]
  },
  {
   "cell_type": "code",
   "execution_count": null,
   "id": "d29a6bc4",
   "metadata": {},
   "outputs": [],
   "source": [
    "#How do the other classes look individually?\n",
    "#carbamates\n",
    "plt.title(\"Changes in insecticide use 1991-2018, carbamates only\")\n",
    "fig=sns.lmplot(x=\"Year\", y=\"Fraction of acres treated with this insecticide\",data=ca,\n",
    "           fit_reg=True, n_boot=10000, x_ci=\"sd\",ci=20,scatter_kws={\"s\": 80},\n",
    "           hue=\"Active ingredient\",\n",
    "             )\n",
    "plt.show()\n",
    "fig.savefig('Changes in insecticide use 1991-2018, carbamates only.png')\n"
   ]
  },
  {
   "cell_type": "code",
   "execution_count": null,
   "id": "37a1c087",
   "metadata": {},
   "outputs": [],
   "source": [
    "#How do the other classes look individually?\n",
    "#neonicitinoids\n",
    "plt.title(\"Changes in insecticide use 1991-2018, neonicitinoids only\")\n",
    "fig=sns.lmplot(x=\"Year\", y=\"Fraction of acres treated with this insecticide\",data=ne,\n",
    "           fit_reg=True, n_boot=10000, x_ci=\"sd\",ci=20,scatter_kws={\"s\": 80},\n",
    "           hue=\"Active ingredient\",\n",
    "             )\n",
    "plt.show()\n",
    "fig.savefig('Changes in insecticide use 1991-2018, neonicitinoids only.png')\n"
   ]
  },
  {
   "cell_type": "code",
   "execution_count": null,
   "id": "6bca04c3",
   "metadata": {},
   "outputs": [],
   "source": [
    "#How do the other classes look individually?\n",
    "#Ibenzoylureas\n",
    "plt.title(\"Changes in insecticide use 1991-2018, benzoylureas only\")\n",
    "fig=sns.lmplot(x=\"Year\", y=\"Fraction of acres treated with this insecticide\",data=be,\n",
    "           fit_reg=True, n_boot=10000, x_ci=\"sd\",ci=20,scatter_kws={\"s\": 80},\n",
    "           hue=\"Active ingredient\",\n",
    "             )\n",
    "plt.show()\n",
    "fig.savefig('Changes in insecticide use 1991-2018, benzoylureas only.png')\n"
   ]
  },
  {
   "cell_type": "code",
   "execution_count": null,
   "id": "677b1784",
   "metadata": {},
   "outputs": [],
   "source": [
    "#How do the other classes look individually?\n",
    "#ryanoids\n",
    "plt.title(\"Changes in insecticide use 1991-2018, ryanoids only\")\n",
    "fig=sns.lmplot(x=\"Year\", y=\"Fraction of acres treated with this insecticide\",data=ry,\n",
    "           fit_reg=True, n_boot=10000, x_ci=\"sd\",ci=20,scatter_kws={\"s\": 80},\n",
    "           hue=\"Active ingredient\",\n",
    "             )\n",
    "plt.show()\n",
    "fig.savefig('Changes in insecticide use 1991-2018, ryanoids only.png')\n"
   ]
  },
  {
   "cell_type": "code",
   "execution_count": null,
   "id": "9b729b39",
   "metadata": {},
   "outputs": [],
   "source": [
    "#How do the other classes look individually?\n",
    "#diacylhydrazines\n",
    "plt.title(\"Changes in insecticide use 1991-2018, diacylhydrazines only\")\n",
    "fig=sns.lmplot(x=\"Year\", y=\"Fraction of acres treated with this insecticide\",data=di,\n",
    "           fit_reg=True, n_boot=10000, x_ci=\"sd\",ci=20,scatter_kws={\"s\": 80},\n",
    "           hue=\"Active ingredient\",\n",
    "             )\n",
    "plt.show()\n",
    "fig.savefig('Changes in insecticide use 1991-2018, diacylhydrazines only.png')\n"
   ]
  },
  {
   "cell_type": "code",
   "execution_count": null,
   "id": "dd8f2a63",
   "metadata": {},
   "outputs": [],
   "source": [
    "#How do the other classes look individually?\n",
    "#biologics\n",
    "plt.title(\"Changes in insecticide use 1991-2018, biologics only\")\n",
    "fig=sns.lmplot(x=\"Year\", y=\"Fraction of acres treated with this insecticide\",data=bi,\n",
    "           fit_reg=True, n_boot=10000, x_ci=\"sd\",ci=20,scatter_kws={\"s\": 80},\n",
    "           hue=\"Active ingredient\",\n",
    "             )\n",
    "plt.show()\n",
    "fig.savefig('Changes in insecticide use 1991-2018, biologics only.png')\n"
   ]
  },
  {
   "cell_type": "markdown",
   "id": "0d464922",
   "metadata": {},
   "source": [
    "<h2>\"Non-chemical\" pesticide use in the US over the past 10 years</h2>"
   ]
  },
  {
   "cell_type": "markdown",
   "id": "1469e0bf",
   "metadata": {},
   "source": [
    "These data describes non-chemical pest control measures in soybean from 1991-2020\n",
    "Source USDA National Agricultural Statistics Service https://quickstats.nass.usda.gov/"
   ]
  },
  {
   "cell_type": "code",
   "execution_count": null,
   "id": "c68ee0af",
   "metadata": {},
   "outputs": [],
   "source": [
    "#generate missing counts and heat maps to assess missing data\n",
    "print(\"nassnonchemcontrol\",sns.heatmap(nassnonchemcontrol.isnull(),cbar=True,vmin=0,vmax=.3))\n",
    "print(nassnonchemcontrol.isnull().sum())\n"
   ]
  },
  {
   "cell_type": "code",
   "execution_count": null,
   "id": "1eb01ec7",
   "metadata": {},
   "outputs": [],
   "source": [
    "#clean up the nonchem data\n",
    "#print(nassnonchemcontrol.head())\n",
    "nassnonchemcontrol[\"Commodity\"]=nassnonchemcontrol[\"Commodity\"].astype('string')\n",
    "nassnonchemcontrol[\"Domain\"]=nassnonchemcontrol[\"Domain\"].astype('string')\n",
    "nassnonchemcontrol[\"Class\"]=nassnonchemcontrol[\"Class\"].astype('string')\n",
    "nassnonchemcontrol[\"PCT OF AREA PLANTED VALUE\"]=pd.to_numeric(nassnonchemcontrol[\"PCT OF AREA PLANTED VALUE\"],errors='coerce')\n",
    "\n",
    "nassnonchemcontrol.dtypes\n",
    "nassnonchemcontrol=nassnonchemcontrol[['Year', 'Commodity','Domain','Class','PCT OF AREA PLANTED VALUE']]\n",
    "\n",
    "nassnonchemcontrol=nassnonchemcontrol.rename(columns = {'Domain':'Category','Class':'Method', \n",
    "                                     'PCT OF AREA PLANTED VALUE':'Percent of planted area treated with method'})\n",
    "nassnonchemcontrol=nassnonchemcontrol.dropna()\n"
   ]
  },
  {
   "cell_type": "code",
   "execution_count": null,
   "id": "5211afc6",
   "metadata": {},
   "outputs": [],
   "source": [
    "#create separate dfs for each nonchem control category\n",
    "mo=nassnonchemcontrol[nassnonchemcontrol[\"Category\"]==\"PRACTICE, MONITORING\"]\n",
    "pr=nassnonchemcontrol[nassnonchemcontrol[\"Category\"]==\"PRACTICE, PREVENTION\"]\n",
    "su=nassnonchemcontrol[nassnonchemcontrol[\"Category\"]==\"PRACTICE, SUPPRESSION\"]\n",
    "av=nassnonchemcontrol[nassnonchemcontrol[\"Category\"]==\"PRACTICE, AVOIDANCE\"]\n"
   ]
  },
  {
   "cell_type": "code",
   "execution_count": null,
   "id": "8287c861",
   "metadata": {},
   "outputs": [],
   "source": [
    "#Have nonchemical control use patterns changed over time?\n",
    "fig, ax = plt.subplots(figsize=(10,8))\n",
    "plt.title(\"Nonchemical pest control on soybeans 2012-2020\")\n",
    "sns.barplot(x=\"Category\", y=\"Percent of planted area treated with method\", data=nassnonchemcontrol,hue=\"Year\")\n",
    "#remove legend from sns plot\n",
    "#plt.legend([],[], frameon=False)\n",
    "plt.show()\n",
    "fig.savefig('Nonchemical pest control on soybeans 2012-2020.png')\n",
    "\n"
   ]
  },
  {
   "cell_type": "code",
   "execution_count": null,
   "id": "3ee15e60",
   "metadata": {},
   "outputs": [],
   "source": [
    "#Nonchemical\n",
    "fig, ax = plt.subplots(figsize=(10,8))\n",
    "plt.title(\"Nonchemical pest control on soybeans 2012-2020\")\n",
    "fig=sns.lmplot(x=\"Year\", y=\"Percent of planted area treated with method\", data=nassnonchemcontrol,hue=\"Category\",\n",
    "           fit_reg=True, n_boot=10000, x_ci=\"sd\",ci=20,scatter_kws={\"s\": 80},\n",
    "           #line_kws={'color': 'red'},\n",
    "               order=2,\n",
    "             )\n",
    "plt.show()\n",
    "fig.savefig('Nonchemical pest control on soybeans 2012-2020 all.png')\n"
   ]
  },
  {
   "cell_type": "code",
   "execution_count": null,
   "id": "705556fd",
   "metadata": {},
   "outputs": [],
   "source": [
    "#Have nonchemical control use patterns changed over time? monitoring\n",
    "fig, ax = plt.subplots(figsize=(10,8))\n",
    "plt.title(\"Nonchemical pest control on soybeans 2012-2020: monitoring\")\n",
    "fig=sns.lmplot(x=\"Year\", y=\"Percent of planted area treated with method\", data=mo,hue=\"Method\",\n",
    "           fit_reg=True, n_boot=10000, x_ci=\"sd\",ci=20,scatter_kws={\"s\": 80},\n",
    "           #line_kws={'color': 'red'},\n",
    "               #order=2,\n",
    "             )\n",
    "plt.show()\n",
    "fig.savefig('Nonchemical pest control on soybeans 2012-2020: monitoring.png')\n"
   ]
  },
  {
   "cell_type": "code",
   "execution_count": null,
   "id": "ab0bbaaa",
   "metadata": {},
   "outputs": [],
   "source": [
    "#Have nonchemical control use patterns changed over time? avoidance\n",
    "fig, ax = plt.subplots(figsize=(10,8))\n",
    "plt.title(\"Nonchemical pest control on soybeans 2012-2020: avoidance\")\n",
    "fig=sns.lmplot(x=\"Year\", y=\"Percent of planted area treated with method\", data=av,hue=\"Method\",\n",
    "           fit_reg=True, n_boot=10000, x_ci=\"sd\",ci=20,scatter_kws={\"s\": 80},\n",
    "           #line_kws={'color': 'red'},\n",
    "               #order=2,\n",
    "             )\n",
    "plt.show()\n",
    "fig.savefig('Nonchemical pest control on soybeans 2012-2020: avoidance.png')\n"
   ]
  },
  {
   "cell_type": "code",
   "execution_count": null,
   "id": "e758222f",
   "metadata": {},
   "outputs": [],
   "source": [
    "#Have nonchemical control use patterns changed over time? prevention\n",
    "fig, ax = plt.subplots(figsize=(10,8))\n",
    "plt.title(\"Nonchemical pest control on soybeans 2012-2020: prevention\")\n",
    "fig=sns.lmplot(x=\"Year\", y=\"Percent of planted area treated with method\", data=pr,hue=\"Method\",\n",
    "           fit_reg=True, n_boot=10000, x_ci=\"sd\",ci=20,scatter_kws={\"s\": 80},\n",
    "           #line_kws={'color': 'red'},\n",
    "               #order=2,\n",
    "             )\n",
    "plt.show()\n",
    "fig.savefig('Nonchemical pest control on soybeans 2012-2020: prevention.png')\n"
   ]
  },
  {
   "cell_type": "code",
   "execution_count": null,
   "id": "4f7f1fa9",
   "metadata": {},
   "outputs": [],
   "source": [
    "#Have nonchemical control use patterns changed over time? suppression\n",
    "fig, ax = plt.subplots(figsize=(10,8))\n",
    "plt.title(\"Nonchemical pest control on soybeans 2012-2020: suppression\")\n",
    "fig=sns.lmplot(x=\"Year\", y=\"Percent of planted area treated with method\", data=su,hue=\"Method\",\n",
    "           fit_reg=True, n_boot=10000, x_ci=\"sd\",ci=20,scatter_kws={\"s\": 80},\n",
    "           #line_kws={'color': 'red'},\n",
    "               order=2,\n",
    "             )\n",
    "plt.show()\n",
    "fig.savefig('Nonchemical pest control on soybeans 2012-2020: suppression.png')\n"
   ]
  },
  {
   "cell_type": "code",
   "execution_count": null,
   "id": "2061a1fc",
   "metadata": {},
   "outputs": [],
   "source": [
    "#Have nonchemical control use patterns changed over time? suppression\n",
    "fig, ax = plt.subplots(figsize=(10,8))\n",
    "plt.title(\"Nonchemical pest control on soybeans 2012-2020: suppression\")\n",
    "\n",
    "suppression=sns.barplot(x=\"Year\", y=\"Percent of planted area treated with method\", data=su,hue=\"Method\")\n",
    "#suppression.set_xticklabels()\n",
    "#for item in suppression.get_xticklabels():\n",
    " #   item.set_rotation(45)\n",
    "#remove legend from sns plot\n",
    "#plt.legend([],[], frameon=False)\n",
    "plt.show()\n",
    "#fig.savefig('Nonchemical pest control on soybeans 2012-2020.png')\n",
    "\n"
   ]
  },
  {
   "cell_type": "markdown",
   "id": "6a852eb7",
   "metadata": {},
   "source": [
    "<h2>Non-native pests in the US: \"invasions\" and accidental introductions</h2>"
   ]
  },
  {
   "cell_type": "markdown",
   "id": "9d8915cc",
   "metadata": {},
   "source": [
    "These data are from the US Register of Introduced and Invasive Species data  \n",
    "\n",
    "Source https://www.sciencebase.gov/catalog/item/6144f1ccd34e0df5fb95b5cb"
   ]
  },
  {
   "cell_type": "code",
   "execution_count": null,
   "id": "fe28651e",
   "metadata": {},
   "outputs": [],
   "source": [
    "#generate missing counts and heat maps to assess missing data\n",
    "print(\"invasives\",sns.heatmap(invasives.isnull(),cbar=True,vmin=0,vmax=.3))\n",
    "print(invasives.isnull().sum())\n",
    "invasives.shape"
   ]
  },
  {
   "cell_type": "code",
   "execution_count": null,
   "id": "1061ae44",
   "metadata": {},
   "outputs": [],
   "source": [
    "#clean up the invasives data\n",
    "invasives=invasives[['scientificName', 'vernacularName','IntroDateNumber','phylum','class','order']]\n",
    "invasives=invasives.dropna()\n",
    "invasives=invasives.rename(columns = {'scientificName':'scientific name','vernacularName': 'common name', \n",
    "                                      'IntroDateNumber':'year reported'})\n"
   ]
  },
  {
   "cell_type": "code",
   "execution_count": null,
   "id": "8039d29a",
   "metadata": {},
   "outputs": [],
   "source": [
    "#clean up the invasives data\n",
    "invasives[\"scientific name\"]=invasives[\"scientific name\"].astype('string')\n",
    "invasives[\"common name\"]=invasives[\"common name\"].astype('string')\n",
    "invasives[\"phylum\"]=invasives[\"phylum\"].astype('string')\n",
    "invasives[\"class\"]=invasives[\"class\"].astype('string')\n",
    "invasives[\"order\"]=invasives[\"order\"].astype('string')\n",
    "invasives['year reported']=pd.to_numeric(invasives['year reported'],errors='coerce')\n",
    "invasives[\"year reported\"]=invasives[\"year reported\"].astype('int')\n"
   ]
  },
  {
   "cell_type": "code",
   "execution_count": null,
   "id": "ef11ac60",
   "metadata": {},
   "outputs": [],
   "source": [
    "#which organisms are the most frequent invasives?\n",
    "invasives.groupby(['phylum'])['year reported'].count()"
   ]
  },
  {
   "cell_type": "code",
   "execution_count": null,
   "id": "7f4f728b",
   "metadata": {},
   "outputs": [],
   "source": [
    "#which organisms are the most frequent invasives?\n",
    "invasives[\"year reported\"].value_counts()\n",
    "plt.title(\"Invasive species in the US, by phylum\")\n",
    "invasives.groupby(['phylum'])['year reported'].count().plot(kind='bar',figsize=(12,10),xlabel='phylum of invasive species',\n",
    "                                                            title='Invasive species in the US, by phylum',color=\"salmon\",\n",
    "                                                            ylabel=\"number invasives in phylum\",width=1.2)\n",
    "plt.savefig('Invasive species in the US, by phylum.png')\n",
    "\n"
   ]
  },
  {
   "cell_type": "code",
   "execution_count": null,
   "id": "e2eccd60",
   "metadata": {},
   "outputs": [],
   "source": [
    "#jointplot all invasives\n",
    "plt.title(\"Invasive species in the US from 400 AD to the present\")\n",
    "sns.jointplot(x='year reported', y='class', data=invasives, kind='scatter',\n",
    "             hue=\"phylum\",height=14,palette=\"Accent_r\",\n",
    "             )\n",
    "\n",
    "plt.savefig('Invasive species in the US from 400AD to the present, by year.png')\n"
   ]
  },
  {
   "cell_type": "code",
   "execution_count": null,
   "id": "2cdab8f9",
   "metadata": {},
   "outputs": [],
   "source": [
    "#arthropods are the most frequent invasives. which arthropods are the biggest offenders?\n",
    "ar=invasives[invasives[\"phylum\"]==\"Arthropoda\"]\n",
    "ar.groupby(['order'])['year reported'].count().sort_values(ascending=False)\n",
    "\n"
   ]
  },
  {
   "cell_type": "code",
   "execution_count": null,
   "id": "1ab3bb3b",
   "metadata": {},
   "outputs": [],
   "source": [
    "#histogram arthropods\n",
    "plt.title(\"Invasive arthropods in the US, by taxonomic order\")\n",
    "ar.hist(column=\"year reported\", by=\"order\", grid=False,figsize=(25, 20), legend=False, \n",
    "        color='tab:pink',bins=30,histtype=\"stepfilled\",orientation=\"horizontal\",\n",
    "        density=True,\n",
    "        #range=\"2010.0\",\"2022.0\"\n",
    "       )\n",
    "\n",
    "plt.savefig('Invasive arthropods in the US, by individual order.png')\n",
    "\n"
   ]
  },
  {
   "cell_type": "code",
   "execution_count": null,
   "id": "3984c4e0",
   "metadata": {},
   "outputs": [],
   "source": [
    "#which arthropods are the most frequent invasives?\n",
    "ar.groupby(['order'])['year reported'].count().sort_values(ascending=False).plot(kind='barh',figsize=(12,10),xlabel='order of invasive arthropods',\n",
    "                                                            title='Invasive arthropods in the US, by phylum',color=\"lightcoral\",\n",
    "                                                            ylabel=\"number invasive arthropods in order\",width=1)\n",
    "plt.savefig('Invasive arthropods in the US, summed by order.png')\n",
    "\n"
   ]
  },
  {
   "cell_type": "code",
   "execution_count": null,
   "id": "93bb74e7",
   "metadata": {},
   "outputs": [],
   "source": [
    "#the invasives data spans a long long time. how does only recent data look?\n",
    "recent=invasives[invasives[\"year reported\"]>=2000]\n",
    "recar=recent[recent[\"phylum\"]==\"Arthropoda\"]\n",
    "recar.groupby(['order'])['year reported'].count().sort_values(ascending=False)\n",
    "recar.head()\n"
   ]
  },
  {
   "cell_type": "code",
   "execution_count": null,
   "id": "b64a7bbd",
   "metadata": {},
   "outputs": [],
   "source": [
    "#jointplot all invasives\n",
    "sns.jointplot(x='year reported', y='class', data=invasives, kind='hist',\n",
    "             hue=\"phylum\",\n",
    "              height=16)\n",
    "plt.savefig('Invasive species in the US, 2000-2022.png')\n"
   ]
  },
  {
   "cell_type": "code",
   "execution_count": null,
   "id": "a1f7f8f9",
   "metadata": {},
   "outputs": [],
   "source": [
    "#jointplot recent invasives\n",
    "plt.title(\"Recent invasions (200-2022)\")\n",
    "\n",
    "ax=sns.jointplot(x='year reported', y='class', data=recent, kind='hist',\n",
    "             hue=\"phylum\",\n",
    "              height=16)\n",
    "#sns.move_legend(ax, \"upper left\", bbox_to_anchor=(1, 1))\n",
    "plt.savefig('Invasive species in the US, 2000-2022 2.png')\n"
   ]
  },
  {
   "cell_type": "code",
   "execution_count": null,
   "id": "8c053793",
   "metadata": {},
   "outputs": [],
   "source": [
    "#jointplot recent arthropod invasives\n",
    "plt.title(\"Recent arthropod invasions (200-2022)\")\n",
    "sns.jointplot(x='year reported', y='order', data=recar, kind='hist',\n",
    "             hue=\"class\",\n",
    "              height=16)\n",
    "\n",
    "plt.savefig('Invasive arthropods in the US, 2000-2022.png')\n"
   ]
  },
  {
   "cell_type": "code",
   "execution_count": null,
   "id": "8986d59d",
   "metadata": {},
   "outputs": [],
   "source": [
    "#which species are the most frequent recent invasives?\n",
    "recent.groupby(['phylum'])['year reported'].count().sort_values(ascending=False).plot(kind='barh',figsize=(12,10),xlabel='phylum of invasive species',\n",
    "                                                            title='Invasive species in the US, by phylum',color=\"cadetblue\",\n",
    "                                                            ylabel=\"number invasive species in phylum\",width=1)\n",
    "plt.savefig('Invasive species in the US 2000-2022, summed by phylum.png')\n",
    "\n"
   ]
  },
  {
   "cell_type": "code",
   "execution_count": null,
   "id": "df298630",
   "metadata": {},
   "outputs": [],
   "source": [
    "#which arthropods are the most frequent recent invasives?\n",
    "ar.groupby(['order'])['year reported'].count().sort_values(ascending=False).plot(kind='barh',figsize=(12,10),xlabel='order of invasive arthropods',\n",
    "                                                            title='Invasive arthropods in the US, by phylum',color=\"lightcoral\",\n",
    "                                                            ylabel=\"number invasive arthropods in order\",width=1)\n",
    "plt.savefig('Invasive arthropods in the US, summed by order.png')\n",
    "\n"
   ]
  },
  {
   "cell_type": "markdown",
   "id": "ba6210f6",
   "metadata": {},
   "source": [
    "<h3>An invasive pest: the soybean aphid, where did it come from, and when?</h3>  "
   ]
  },
  {
   "cell_type": "markdown",
   "id": "91cd6fed",
   "metadata": {},
   "source": [
    "These data describe the current distribution of the soybean aphid in the US\n",
    "Source CABI Plant Pest Distribution database: https://www.cabi.org/isc/datasheet/6203#todistributionDatabaseTable"
   ]
  },
  {
   "cell_type": "code",
   "execution_count": null,
   "id": "087fc8e9",
   "metadata": {},
   "outputs": [],
   "source": [
    "#clean up soyaphiddist\n",
    "#change data types as needed\n",
    "soyaphiddist[\"Status\"] = soyaphiddist['Status'].astype('bool')\n",
    "soyaphiddist.dtypes\n",
    "soyaphiddist.head()\n",
    "soyaphiddist.columns\n"
   ]
  },
  {
   "cell_type": "code",
   "execution_count": null,
   "id": "d891b148",
   "metadata": {},
   "outputs": [],
   "source": [
    "#generate missing counts and heat maps to assess missing data\n",
    "print(\"soyaphiddist\",sns.heatmap(soyaphiddist.isnull(),cbar=True,vmin=0,vmax=.3))\n",
    "print(soyaphiddist.isnull().sum())\n",
    "print(soyaphiddist.dtypes)\n",
    "print(soyaphiddist.head(20))\n",
    "soyaphiddist.groupby([\"country\"])[\"state\"].value_counts()\n",
    "\n"
   ]
  },
  {
   "cell_type": "code",
   "execution_count": null,
   "id": "69eb12d7",
   "metadata": {},
   "outputs": [],
   "source": [
    "#create separate dfs for mapping aphid distribution by country v by US state\n",
    "#filter out rows where the relevant entity (state or country) is NaN\n",
    "#Country\n",
    "soyaphiddistcountry = soyaphiddist[soyaphiddist[\"country\"].notna()]\n",
    "soyaphiddistcountry = soyaphiddistcountry[['country', 'Status', 'year reported', 'country code']]\n",
    "soyaphiddistcountry[\"year reported\"]=soyaphiddistcountry[\"year reported\"].astype('string')\n",
    "#State\n",
    "soyaphiddiststate=soyaphiddist[soyaphiddist[\"state\"].notna()]\n",
    "soyaphiddiststate = soyaphiddiststate[['state', 'Status', 'year reported', 'state code']]\n",
    "soyaphiddiststate.rename(columns={\"year reported\":\"Year soybean aphid first reported\"},inplace=True)\n",
    "soyaphiddiststate[\"Year soybean aphid first reported\"].value_counts()\n"
   ]
  },
  {
   "cell_type": "code",
   "execution_count": null,
   "id": "acf231e5",
   "metadata": {
    "scrolled": true
   },
   "outputs": [],
   "source": [
    "#plot the soybean aphid's distribution across countries\n",
    "df=pd.DataFrame({\"Country\":{0:\"Cambodia\",1:\"China\",2:\"Indonesia\",3:\"Japan\",\n",
    "                           4:\"South Korea\",5:\"Philippines\",6:\"Russia\",7:\"Thailand\",\n",
    "                           8:\"Vietnam\",9:\"Australia\",10:\"United States\",11:\"Papua New Guinea\"},\n",
    "                 \"Status of soybean aphid\":{0:\"Native to region\",1:\"Native to region\",\n",
    "                                            7:\"Native to region\",8:\"Native to region\",\n",
    "                          3:\"Native to region\",4:\"Native to region\",5:\"Established in region\",\n",
    "                           6:\"Established in region\",9:\"Invasives detected in 1999\",\n",
    "                          10:\"Invasives detected in 2001\",2:\"Established in region\",\n",
    "                                            11:\"Established in region\"},\n",
    "                 \"Country code\":{0:\"KHM\",1:\"CHN\",2:\"IDN\",3:\"JPN\",4:\"KOR\",5:\"PHL\",\n",
    "                                 6:\"RUS\",7:\"THA\",8:\"VNM\",9:\"AUS\",10:\"USA\",11:\"PNG\"}})\n",
    "\n",
    "fig = px.choropleth(df, locations=\"Country\",\n",
    "                    locationmode=\"country names\",color=\"Status of soybean aphid\",\n",
    "                    scope=\"world\",width=700, height=500,\n",
    "                    color_discrete_sequence= px.colors.sequential.Pinkyl_r,\n",
    "                    title=\"The soybean aphid is native to China and is firmly established in many <br>nearby countries. Starting in 1999 it became an invasive pest on <br>new continents, <b>including North America</b>\",\n",
    "                    #labels=dict(native=\"Native region\",established=\"Established in this region\", 1999=\"Invasives detected in 1999\", 2001=\"Invasives detected in 2001\"),\n",
    "                    #category_orders={\"year reported\": [\"Invasives detected in 2001\",\"Native region\",\"Established in this region\", \"Invasives detected in 1999\", ]},\n",
    "                    template=\"plotly\")\n",
    "fig.update_layout(legend=dict(\n",
    "    orientation=\"h\",\n",
    "    yanchor=\"bottom\",\n",
    "    y=-0.2,\n",
    "    xanchor=\"right\",\n",
    "    x=1\n",
    "))\n",
    "fig.update_layout(font_family=\"Georgia\",font_color=\"darkslategrey\",font_size=14,)\n",
    "fig.update_layout(showlegend=True)\n",
    "fig.show()\n",
    "#export image as HTML file and as PNG image\n",
    "fig.write_html(\"countriesDistFig.html\")\n",
    "fig.write_image(\"countriesDistFig.png\")"
   ]
  },
  {
   "cell_type": "code",
   "execution_count": null,
   "id": "339b54b8",
   "metadata": {},
   "outputs": [],
   "source": [
    "#plot the soybean aphid's distribution across US states\n",
    "#here using sequential scales as discrete sequences\n",
    "\n",
    "fig = px.choropleth(soyaphiddiststate, locations=\"state code\",\n",
    "                    color_discrete_sequence= px.colors.sequential.OrRd_r,\n",
    "                    locationmode=\"USA-states\", scope=\"usa\", color=\"Year soybean aphid first reported\",\n",
    "                    title=\"First detected in Minnesota in 1999, by 2004 the soybean aphid <br>was detected in <b>every major soybean-producing state</b>\",\n",
    "                    #legend=\"Year first reported <br>by soy growers\", \n",
    "                    width=800, height=500,\n",
    "                    category_orders={\"Year soybean aphid first reported\": [\"1999\", \"2000\", \"2001\", \"2002\",\"2004\", \"2005\", \"2008\",]},\n",
    "                    template=\"plotly_dark\",\n",
    "                   )\n",
    "fig.update_layout(font_family=\"Courier\",font_color=\"lightgrey\",font_size=14,)\n",
    "fig.update_layout(showlegend=True)\n",
    "fig.update_layout(legend=dict(\n",
    "    orientation=\"h\",\n",
    "    yanchor=\"bottom\",\n",
    "    y=-0.2,\n",
    "    xanchor=\"right\",\n",
    "    x=1.1, \n",
    "    font=dict(\n",
    "            family=\"Courier\",\n",
    "            size=11,\n",
    "            color=\"white\"\n",
    "        ),\n",
    "))\n",
    "fig.show()\n",
    "#export image as HTML file and as PNG image\n",
    "fig.write_html(\"statesDistFig.html\")\n",
    "fig.write_image(\"statesDistFig.png\")\n"
   ]
  },
  {
   "cell_type": "markdown",
   "id": "8a557b34",
   "metadata": {},
   "source": [
    "<h3>One hundred years of soybean production in the United States</h3>"
   ]
  },
  {
   "cell_type": "markdown",
   "id": "820fac75",
   "metadata": {},
   "source": [
    "This is annual production data (1993-2022) for field crops in the US, which includes corn, soybean, grains, etc.\n",
    "Source https://quickstats.nass.usda.gov/results/47D5D9C1-AD06-3A62-8B45-B09DEC5F7D8F"
   ]
  },
  {
   "cell_type": "code",
   "execution_count": null,
   "id": "82be36a5",
   "metadata": {},
   "outputs": [],
   "source": [
    "#generate missing counts and heat maps to assess missing data\n",
    "print(\"fieldcrops\",sns.heatmap(fieldcrops.isnull(),cbar=True,vmin=0,vmax=.3))\n",
    "print(fieldcrops.isnull().sum())\n",
    "fieldcrops.head()"
   ]
  },
  {
   "cell_type": "code",
   "execution_count": null,
   "id": "298d0d37",
   "metadata": {},
   "outputs": [],
   "source": [
    "#I'm only interested in soybean, this data set is too broad\n",
    "fieldcrops.value_counts()"
   ]
  },
  {
   "cell_type": "markdown",
   "id": "4de3cc06",
   "metadata": {},
   "source": [
    "<h5>Soybean yield per acre and price per bushel</h5>   \n",
    "This data set describes acres of soybean planted, yield per acre, and sale price from 1924-2022   \n",
    "\n",
    "Source https://quickstats.nass.usda.gov/results/AA292938-D6B5-3B0D-B779-64A46043B700"
   ]
  },
  {
   "cell_type": "code",
   "execution_count": null,
   "id": "9ee3ed24",
   "metadata": {},
   "outputs": [],
   "source": [
    "#generate missing counts and heat maps to assess missing data\n",
    "print(\"nassyield\",sns.heatmap(nassyield.isnull(),cbar=True,vmin=0,vmax=.3))\n",
    "print(nassyield.isnull().sum())\n"
   ]
  },
  {
   "cell_type": "code",
   "execution_count": null,
   "id": "678b5369",
   "metadata": {},
   "outputs": [],
   "source": [
    "#these data are 100% soybean! \n",
    "nassyield.columns\n",
    "nassyield[\"Measurement\"].value_counts()\n"
   ]
  },
  {
   "cell_type": "code",
   "execution_count": null,
   "id": "0024ef02",
   "metadata": {},
   "outputs": [],
   "source": [
    "#clean up nassyield\n",
    "#rename columns to be more informative\n",
    "nassyield=nassyield.rename(columns={\"State\":\"Metric\",\"Data Item\":\"Measurement\",\n",
    "                                       \"Value\": \"Total\"})\n",
    "#retain only the relevant columns\n",
    "nassyield=nassyield[[\"Year\",\"Metric\",\"Commodity\",\"Measurement\",\"Total\"]]\n"
   ]
  },
  {
   "cell_type": "code",
   "execution_count": null,
   "id": "1e4d2f2c",
   "metadata": {},
   "outputs": [],
   "source": [
    "#clean up nassyield\n",
    "#Rename the measurements\n",
    "nassyield['Measurement'].replace(['SOYBEANS - YIELD, MEASURED IN BU / ACRE','SOYBEANS - PRICE RECEIVED, MEASURED IN $ / BU',\n",
    "                                 \"SOYBEANS - ACRES HARVESTED\",\"SOYBEANS - ACRES PLANTED\"],\n",
    "                                 ['Yield in BU per acre','Price in $ per BU',\"Harvested acres\",\"Planted acres\"]\n",
    "                                 ,inplace=True)\n",
    "\n"
   ]
  },
  {
   "cell_type": "code",
   "execution_count": null,
   "id": "a648360d",
   "metadata": {},
   "outputs": [],
   "source": [
    "#clean up nassyield\n",
    "#Total should be numeric\n",
    "nassyield['Total']=pd.to_numeric(nassyield['Total'],errors='coerce')\n",
    "\n",
    "#drop any rows where relevant sata are missing\n",
    "nassyield=nassyield[nassyield[\"Total\"].notna()] \n",
    "nassyield.dtypes\n",
    "nassyield.head()"
   ]
  },
  {
   "cell_type": "code",
   "execution_count": null,
   "id": "eb797153",
   "metadata": {},
   "outputs": [],
   "source": [
    "\n",
    "nassyield.head()"
   ]
  },
  {
   "cell_type": "code",
   "execution_count": null,
   "id": "7f09fc35",
   "metadata": {},
   "outputs": [],
   "source": [
    "#clean up nassyield\n",
    "#It would be easier to deal with the yield and price data separately since they are in different units\n",
    "#I will create separate columns\n",
    "#create a new df for each set of values, rename column\n",
    "nassyieldbu=nassyield[(nassyield[\"Measurement\"]==\"Yield in BU per acre\") & (nassyield[\"Total\"].notna())]\n",
    "nassyieldbu[\"Measurement\"].value_counts()\n",
    "nassyieldbu=nassyieldbu.rename(columns={\"Total\":\"Bushels per acre\"})\n",
    "nassyieldprice=nassyield[(nassyield[\"Measurement\"]==\"Price in $ per BU\") & (nassyield[\"Total\"].notna())]\n",
    "nassyieldprice=nassyieldprice.rename(columns={\"Total\":\"Price per bushel\"})\n",
    "\n",
    "#add the new columns to the original df. can i merge?\n",
    "#did sequential merges, inelegant but it worked\n",
    "#But this solution left messy excess rows, \n",
    "#nassyield2=nassyield.merge(nassyieldprice,how=\"left\",left_index=True,right_index=True)\n",
    "#nassyield3=nassyield2.merge(nassyieldbu,how=\"left\",left_index=True,right_index=True)\n",
    "\n",
    "#So I'm trying another way\n",
    "#there are 98 years with yield data, but only 26 years with price data. so i will retain na for price \n",
    "#so i can keep all the yield data. i should get at least 98 rows. YES!\n",
    "nassyieldtmp=nassyieldbu.merge(nassyieldprice,how=\"left\",on=\"Year\")\n",
    "\n",
    "#clean up the merged set\n",
    "nassyield2=nassyieldtmp[[\"Year\",\"Metric_x\",\"Commodity_x\",\"Bushels per acre\",\"Price per bushel\"]]\n",
    "nassyield2=nassyield2.rename(columns={\"Metric_x\":\"Metric\",\"Commodity_x\":\"Commodity\"})\n",
    "print(nassyield2.head())\n",
    "print(nassyield2.tail())\n",
    "\n"
   ]
  },
  {
   "cell_type": "code",
   "execution_count": null,
   "id": "40cf2a60",
   "metadata": {},
   "outputs": [],
   "source": [
    "#yield v price across years might be interesting\n",
    "fig, ax = plt.subplots(figsize=(10,8))\n",
    "plt.title(\"Change in yield of soybeans over 100 years\")\n",
    "sns.scatterplot(x=\"Year\", y=\"Bushels per acre\", data=nassyield2)\n",
    "#remove legend from sns plot\n",
    "#plt.legend([],[], frameon=False)\n",
    "plt.show()\n"
   ]
  },
  {
   "cell_type": "code",
   "execution_count": null,
   "id": "cec09e8b",
   "metadata": {},
   "outputs": [],
   "source": [
    "#yield around soy aphid time\n",
    "recyield=nassyield2[(nassyield2[\"Year\"]>1995) & (nassyield2[\"Year\"]<2012)]\n",
    "\n"
   ]
  },
  {
   "cell_type": "code",
   "execution_count": null,
   "id": "12379d1e",
   "metadata": {},
   "outputs": [],
   "source": [
    "#yield around soy aphid time\n",
    "fig, ax = plt.subplots(figsize=(10,8))\n",
    "plt.title(\"Change in yield of soybean from 1995 to 2012\")\n",
    "fig=sns.lineplot(x=\"Year\", y=\"Bushels per acre\",\n",
    "                 data=recyield, \n",
    "                 color=\"orange\"\n",
    "                )\n",
    "plt.show()\n",
    "fig.savefig('Change in yield of soybean from 1995 to 2012.png')\n"
   ]
  },
  {
   "cell_type": "code",
   "execution_count": null,
   "id": "621e2070",
   "metadata": {},
   "outputs": [],
   "source": [
    "#yield over time looks very linear. look at regression\n",
    "fig, ax = plt.subplots(figsize=(10,8))\n",
    "plt.title(\"Changes in soybean yield in the last 100 years\")\n",
    "fig=sns.lmplot(x=\"Year\", y=\"Bushels per acre\",data=nassyield2,\n",
    "           fit_reg=True, n_boot=10000, x_ci=\"sd\",ci=20,scatter_kws={\"s\": 80},\n",
    "           line_kws={'color': 'red'},\n",
    "             )\n",
    "plt.show()\n",
    "fig.savefig('Changes in soybean yield in the last 100 years.png')\n"
   ]
  },
  {
   "cell_type": "code",
   "execution_count": null,
   "id": "2f11866a",
   "metadata": {},
   "outputs": [],
   "source": [
    "#yield v price \n",
    "fig, ax = plt.subplots(figsize=(10,8))\n",
    "plt.title(\"Change in price of soybeans over 26 years\")\n",
    "sns.scatterplot(x=\"Year\", y=\"Price per bushel\", data=nassyield2)\n",
    "#remove legend from sns plot\n",
    "#plt.legend([],[], frameon=False)\n",
    "plt.show()\n"
   ]
  },
  {
   "cell_type": "code",
   "execution_count": null,
   "id": "59efc2c5",
   "metadata": {},
   "outputs": [],
   "source": [
    "#price over time fluctuates a lot. look at regression\n",
    "fig, ax = plt.subplots(figsize=(10,8))\n",
    "plt.title(\"Changes in soybean price since 1995\")\n",
    "fig=sns.lmplot(x=\"Year\", y=\"Price per bushel\",data=nassyield2,\n",
    "           fit_reg=True, n_boot=10000, x_ci=\"sd\",ci=20,scatter_kws={\"s\": 80},\n",
    "           line_kws={'color': 'red'},order=3,\n",
    "             )\n",
    "plt.show()\n",
    "fig.savefig('Changes in soybean price since 1995.png')\n"
   ]
  },
  {
   "cell_type": "code",
   "execution_count": null,
   "id": "90274513",
   "metadata": {},
   "outputs": [],
   "source": [
    "#regression of price and yield\n",
    "fig, ax = plt.subplots(figsize=(10,8))\n",
    "plt.title(\"The relationship between soybean price and yield\")\n",
    "fig=sns.lmplot(x=\"Bushels per acre\", y=\"Price per bushel\",data=nassyield2,\n",
    "           fit_reg=True, n_boot=10000, x_ci=\"sd\",ci=20,scatter_kws={\"s\": 80},\n",
    "           line_kws={'color': 'red'},order=2,\n",
    "             )\n",
    "plt.show()\n",
    "fig.savefig('The relationship between soybean price and yield.png')\n"
   ]
  },
  {
   "cell_type": "markdown",
   "id": "f2641c41",
   "metadata": {},
   "source": [
    "<h5>These are the annual costs and returns data for soybean grown in the US</h5>  \n",
    "\n",
    "The data were split into \"historical\" vs \"recent.\" I merged the two data sets before importing.  \n",
    "\n",
    "Source historical: https://www.ers.usda.gov/data-products/commodity-costs-and-returns/commodity-costs-and-returns/#Historical%20Costs%20and%20Returns:%20Soybeans  \n",
    "\n",
    "Source recent: https://www.ers.usda.gov/data-products/commodity-costs-and-returns/commodity-costs-and-returns/#Recent%20Cost%20and%20Returns\n"
   ]
  },
  {
   "cell_type": "code",
   "execution_count": null,
   "id": "6607d4c2",
   "metadata": {},
   "outputs": [],
   "source": [
    "#generate missing counts and heat maps to assess missing data\n",
    "print(\"soycostreturn\",sns.heatmap(soycostreturn.isnull(),cbar=True,vmin=0,vmax=.3))\n",
    "print(soycostreturn.isnull().sum())\n",
    "soycostreturn.head()"
   ]
  },
  {
   "cell_type": "code",
   "execution_count": null,
   "id": "d4bc90d6",
   "metadata": {},
   "outputs": [],
   "source": [
    "soycostreturn.head()"
   ]
  },
  {
   "cell_type": "code",
   "execution_count": null,
   "id": "4df2d9af",
   "metadata": {},
   "outputs": [],
   "source": [
    "#clean up soycostreturn\n",
    "#rename columns to be more informative\n",
    "soycostreturn=soycostreturn.rename(columns={\"Gross value of production\":\"gross value\",\"Net value of production\":\"net value\",\n",
    "                                       \"Chemicals\": \"chemical costs\", \"Hired labor\":\"labor costs\",\n",
    "                                            \"Price (dollars per bushel at harvest)\":\"price per bushel\",\n",
    "                                            \"Yield (bushels per planted acre)\":\"yield per acre\"})\n",
    "#retain only the relevant columns\n",
    "soycostreturn=soycostreturn[[\"Year\",\"gross value\",\"net value\",\"chemical costs\",\"labor costs\",\"price per bushel\",\"yield per acre\"]]\n",
    "soycostreturn.head()\n",
    "soycostreturn.dtypes\n",
    "\n"
   ]
  },
  {
   "cell_type": "code",
   "execution_count": null,
   "id": "13148723",
   "metadata": {},
   "outputs": [],
   "source": [
    "#change in costs and value\n",
    "#fig, ax = plt.subplots(figsize=(10,8))\n",
    "plt.title(\"The price of labor over time\")\n",
    "fig=sns.jointplot(x=\"Year\", y=\"labor costs\", data=soycostreturn, kind='reg',\n",
    "             #hue=\"Year\",\n",
    "              color=\"green\",\n",
    "              height=8)\n",
    "\n",
    "sns.jointplot(x=\"labor costs\", y=\"yield per acre\", data=soycostreturn, kind='reg',\n",
    "             #hue=\"Year\",\n",
    "              color=\"pink\",\n",
    "\n",
    "              height=8)\n",
    "\n",
    "fig.savefig('Change in price of labor.png')\n"
   ]
  },
  {
   "cell_type": "code",
   "execution_count": null,
   "id": "296cf489",
   "metadata": {},
   "outputs": [],
   "source": [
    "#change in costs and value\n",
    "#fig, ax = plt.subplots(figsize=(10,8))\n",
    "#plt.title(\"The price of labor over time\")\n",
    "sns.jointplot(x=\"Year\", y=\"labor costs\", data=soycostreturn, kind='reg',\n",
    "             #hue=\"Year\",\n",
    "              color=\"goldenrod\",\n",
    "              height=8)\n",
    "\n",
    "sns.jointplot(x=\"labor costs\", y=\"yield per acre\", data=soycostreturn, kind='reg',\n",
    "             #hue=\"Year\",\n",
    "              color=\"orange\",\n",
    "              height=8)\n",
    "\n",
    "#plt.savefig('Change in price of labor.png')\n"
   ]
  },
  {
   "cell_type": "code",
   "execution_count": null,
   "id": "1118ca24",
   "metadata": {},
   "outputs": [],
   "source": [
    "#change in costs and value\n",
    "#fig, ax = plt.subplots(figsize=(10,8))\n",
    "plt.title(\"The price of agricultural chemical\")\n",
    "sns.jointplot(x=\"Year\", y=\"chemical costs\", data=soycostreturn, kind='reg',\n",
    "             #hue=\"Year\",\n",
    "              color=\"salmon\",\n",
    "              height=8)\n",
    "plt.savefig('price of ag chemicals.png')\n"
   ]
  },
  {
   "cell_type": "code",
   "execution_count": null,
   "id": "5b44b120",
   "metadata": {},
   "outputs": [],
   "source": [
    "#change in costs and value\n",
    "#fig, ax = plt.subplots(figsize=(10,8))\n",
    "plt.title(\"The price of chemicals relative to the net value of soybean\")\n",
    "sns.jointplot(x=\"net value\", y=\"chemical costs\", data=soycostreturn, kind='reg',\n",
    "             #hue=\"Year\",\n",
    "              color=\"goldenrod\",\n",
    "              height=8)\n",
    "\n",
    "plt.savefig('price of chemicals relative to the net value of soybean.png')\n"
   ]
  },
  {
   "cell_type": "markdown",
   "id": "42491653",
   "metadata": {},
   "source": [
    "This data set shows the percent of US soybean treated with insecticides or herbicides   \n",
    "\n",
    "source https://www.ers.usda.gov/publications/pub-details/?pubid=43855"
   ]
  },
  {
   "cell_type": "code",
   "execution_count": null,
   "id": "dd111c9c",
   "metadata": {},
   "outputs": [],
   "source": [
    "#generate missing counts and heat maps to assess missing data\n",
    "print(\"pctreated\",sns.heatmap(pesticides21crops.isnull(),cbar=True,vmin=0,vmax=.3))\n",
    "print(pctreated.isnull().sum())\n",
    "pctreated.columns\n",
    "pctreated[\"Year\"].value_counts()"
   ]
  },
  {
   "cell_type": "code",
   "execution_count": null,
   "id": "11ed9909",
   "metadata": {},
   "outputs": [],
   "source": [
    "#set year as index to make lineplots easier\n",
    "pctreated[\"Year\"].is_unique\n",
    "pctreated=pctreated.set_index(\"Year\")\n"
   ]
  },
  {
   "cell_type": "code",
   "execution_count": null,
   "id": "f2c15a4a",
   "metadata": {},
   "outputs": [],
   "source": [
    "#change in treated area\n",
    "sns.set_style(\"darkgrid\")\n",
    "fig, ax = plt.subplots(figsize=(10,6))\n",
    "plt.title(\"The percent of US soybean treated with insecticides\")\n",
    "#fig=sns.lineplot(data=pctreated,color=\"pink\",markers=True,)\n",
    "fig=sns.lineplot(data=pctreated,x=\"Year\",y=\"Insecticides\",color=\"pink\")\n",
    "\n",
    "\n",
    "plt.savefig('percent of US soybean treated with insecticides.png')\n"
   ]
  },
  {
   "cell_type": "markdown",
   "id": "a072b19a",
   "metadata": {},
   "source": [
    "<h4>Pesticide use in 21 selected crops, 1960-2008</h4>   \n",
    "This is data on acres planted, pesticide use, costs, and returns summed across 21 Selected Crops from 1960-2008  \n",
    "\n",
    "The crops included are Apples, Barley, Corn, Cotton, Grapefruit, Grapes, Lemons, Lettuce, Oranges, Peaches, Peanuts, Pears, Pecans, Potatoes, Rice, Sorghum, Soybeans, Sugarcane, Sweetcorn, Tomatoes, and Wheat  \n",
    "\n",
    "Source https://www.ers.usda.gov/publications/pub-details/?pubid=43855"
   ]
  },
  {
   "cell_type": "code",
   "execution_count": null,
   "id": "6ed26200",
   "metadata": {},
   "outputs": [],
   "source": [
    "#generate missing counts and heat maps to assess missing data\n",
    "print(\"pesticides21crops\",sns.heatmap(pesticides21crops.isnull(),cbar=True,vmin=0,vmax=.3))\n",
    "print(pesticides21crops.isnull().sum())\n"
   ]
  },
  {
   "cell_type": "code",
   "execution_count": null,
   "id": "230fc756",
   "metadata": {},
   "outputs": [],
   "source": [
    "#change in costs and value\n",
    "fig, ax = plt.subplots(figsize=(10,8))\n",
    "plt.title(\"Changes in the amount of pesticides used, 1940-2020\")\n",
    "g=sns.jointplot(x=\"Year\", y=\"Total pounds pesticide use (million)\", data=pesticides21crops, kind='kde',\n",
    "             #hue=\"Year\",\n",
    "              color=\"red\",\n",
    "              height=10)\n",
    "g.set_axis_labels('Year', 'Pounds of pesticides used (in millions)', fontsize=20)\n",
    "plt.savefig('Changes in the amount of pesticides used, 1940-2020.png')\n"
   ]
  },
  {
   "cell_type": "code",
   "execution_count": null,
   "id": "ea0f7d6b",
   "metadata": {},
   "outputs": [],
   "source": [
    "#change in pesticide use\n",
    "fig, ax = plt.subplots(figsize=(15,15))\n",
    "plt.title(\"Changes in the amount of pesticides used\")\n",
    "\n",
    "sns.barplot(y=\"Year\", x=\"Pesticides per acre (average)\", data=pesticides21crops,\n",
    "            #hue=\"Year\",\n",
    "            orient = 'h',\n",
    "           )\n",
    "\n",
    "#fig.savefig('2Changes in the amount of pesticides used.png')\n"
   ]
  },
  {
   "cell_type": "markdown",
   "id": "82f67ec4",
   "metadata": {},
   "source": [
    "<h2>Some observations</h2>\n",
    "**chemical insecticide use**  \n",
    "Over the past 40+ years, chemical pesticide use has increased but there are many dips and spikes.\n",
    "The use of one neonicitinoid is increasing, another peaked ~2012 but use has remained steady\n",
    "All ryanoids are increasing \n",
    "Two pyrethroids were increasing but in ~2015 the began to decline\n",
    "One organophosphate was increasing until ~2012, now decreasing\n",
    "All carbamates are decreasing\n",
    "diacylhydrazine use jumps around, currently decreasing but year-to-year variation is high\n",
    "\n",
    "**non-chemical pest control methods**   \n",
    "Data from 2012 to the present show stable use of most methods. Only the \"suppression\" approach, which includes:  \n",
    "\n",
    "pesticides with different mechanisms of action used to keep pest from becoming resistant to pesticides    \n",
    "biological pesticides applied                                                                             \n",
    "ground covers, mulches, or other physical barriers maintained                                             \n",
    "buffer strips or border rows maintained to isolate organic from non organic crops                         \n",
    "scouting data compared to published information to assist decisions                                       \n",
    "beneficial organisms applied or released      \n",
    "showed an increase, and this was mainly seen in \"pesticides with different mechanisms...\" which hardly counts as nonchemical in my opinion!   \n",
    "\n",
    "**soybean price and yield**  \n",
    "While yield has increased in a linear fashion for the last 100 years, price has not.  \n",
    "From ~2000 to 2012 price increased steadily, since then it has been lower but steady, but with a jump in 2021.  \n",
    "Price does not appear to reflect yield (eg, when productivity is lower, price does not increase). My price data are not corrected for current value of $1, but in terms of seeing year-to-year patterns I don't think that matters.  \n",
    "Labor costs have not increased at the same rate as yield and net profits.  \n",
    "The cost of chemicals *has* increased at about the same rate as yield and net profit.  \n",
    "\n",
    "**The role of invasive pests**  \n",
    "Although invasive pests are thought to be a major reason for growers to increase their use of pesticides, in fact I found no clear relationship between the detection of a new soy pest, the productivity of US soy, and the use of chemical pesticides.\n",
    "\n",
    "**All conclusions are preliminary!**\n",
    "\n",
    "\n"
   ]
  },
  {
   "cell_type": "markdown",
   "id": "4aa80b1c",
   "metadata": {},
   "source": [
    "<h4>Notes to self as I worked through the project</h4>\n",
    "Document every data set as you obtain it, it's dumb to have to figure out where a data set came from when you are the one who collected it.\n",
    "\n",
    "Some viz approaches  \n",
    "#use seaborn to take a fast look at relationships between factors\n",
    "#sns.pairplot(insecticidesbyyear,hue=\"Insecticide class\")\n",
    "#sns.displot(insecticidesbyyear[\"Fraction of acres treated with this insecticide\"])\n",
    "#insecticidesbyyear.groupby([\"Year\"])[\"Fraction of acres treated with this insecticide\"].count().plot(kind='barh')\n",
    "#insecticidesbyyear.groupby([\"Year\",\"Insecticide class\"])[\"Fraction of acres treated with this insecticide\"].mean().plot(kind='barh')\n",
    "#sns.swarmplot(x=\"Year\", y=\"Fraction of acres treated with this insecticide\",data=insecticidesbyyear,hue=\"Insecticide cl\n",
    "\n"
   ]
  },
  {
   "cell_type": "markdown",
   "id": "f686e240",
   "metadata": {},
   "source": [
    "Other visualization approaches\n",
    "#regplot\n",
    "sns.regplot(x=\"Year\", y=\"Fraction of acres treated with this insecticide\",\n",
    "               data=insecticidesbyyear,color=\"tab:red\",x_estimator=np.mean);\n",
    "               \n",
    "#histogram\n",
    "py.hist(column=\"Fraction of acres treated with this insecticide\",\n",
    "                        by=\"Year\",\n",
    "                        grid=False,figsize=(20, 10), legend=False,\n",
    "                        color='tab:red')"
   ]
  },
  {
   "cell_type": "markdown",
   "id": "a1d9131f",
   "metadata": {},
   "source": [
    "**Plotly colors**   \n",
    "\n",
    "These are named CSS colors, should work with Matplotlib, seaborn, etc as well as plotly  \n",
    "\n",
    "![Image of plotly named colors](https://i.stack.imgur.com/xRwWi.png)"
   ]
  },
  {
   "cell_type": "markdown",
   "id": "dd725e78",
   "metadata": {},
   "source": [
    "My notes on trying to get separate columns for yield and price    \n",
    "\n",
    "#creates new col\n",
    "df.loc[:,'D'] = df['B']\n",
    "\n",
    "#creates new df based on conditional filter\n",
    "df3 = df[df[‘Borough’] == Queens) & (df[Year] == 2019)]\n",
    "\n",
    "nassyield.loc[:,\"Yield in BU per acre\"]=nassyield[nassyield[\"Measurement\"]\n",
    "nassyield.loc[:,\"Yield in BU per acre\"]=nassyield[\"Measurement\"]\n",
    "\n",
    "dftest=nassyield[nassyield.loc[\"Yield in BU per acre\"]\n",
    "                 \n",
    "nassyieldbu=nassyield[(nassyield[\"Measurement\"]==\"Yield in BU per acre\") & (nassyield[\"Total\"].notna())]\n",
    "\n",
    "#make a new col in original df based on conditional\n",
    "nassyield[\"Yield\"]=nassyield[\"Total\"][(nassyield[\"Measurement\"]==\"Yield in BU per acre\") & (nassyield[\"Total\"].notna())]\n",
    "\n",
    "#create a new df for each set of values based on conditional\n",
    "nassyieldbu=nassyield[(nassyield[\"Measurement\"]==\"Yield in BU per acre\") & (nassyield[\"Total\"].notna())]               \n",
    " "
   ]
  },
  {
   "cell_type": "code",
   "execution_count": null,
   "id": "64318189",
   "metadata": {},
   "outputs": [],
   "source": [
    "#To see plotly colors\n",
    "fig1 = px.colors.qualitative.swatches()\n",
    "fig1.show()\n",
    "#To see a list of named built-in continuous color scales\n",
    "from textwrap import wrap\n",
    "named_colorscales = px.colors.named_colorscales()\n",
    "print(\"##Plotly's named built-in continuous color scales\",\"\\n\",\"\\n\".join(wrap(\"\".join('{:<12}'.format(c) for c in named_colorscales), 96)))\n",
    "##To see named built-in sequential color scales\n",
    "fig2 = px.colors.sequential.swatches_continuous()\n",
    "fig2.show()\n",
    "##To see named built-in diverging color scales\n",
    "fig3 = px.colors.diverging.swatches_continuous()\n",
    "fig3.show()\n",
    "##To see named built-in cyclical color scales\n",
    "fig4 = px.colors.cyclical.swatches_cyclical()\n",
    "fig4.show()\n",
    "fig5 = px.colors.cyclical.swatches_continuous()\n",
    "fig5.show()\n",
    "#To see plotly themes\n",
    "print(\"\\n\",\"\\n\"\"##Plotly's built-in templates\")\n",
    "ply.templates\n"
   ]
  }
 ],
 "metadata": {
  "celltoolbar": "Raw Cell Format",
  "kernelspec": {
   "display_name": "Python 3",
   "language": "python",
   "name": "python3"
  },
  "language_info": {
   "codemirror_mode": {
    "name": "ipython",
    "version": 3
   },
   "file_extension": ".py",
   "mimetype": "text/x-python",
   "name": "python",
   "nbconvert_exporter": "python",
   "pygments_lexer": "ipython3",
   "version": "3.6.15"
  }
 },
 "nbformat": 4,
 "nbformat_minor": 5
}
